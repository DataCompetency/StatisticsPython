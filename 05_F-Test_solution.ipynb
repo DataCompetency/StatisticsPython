{
 "cells": [
  {
   "cell_type": "markdown",
   "metadata": {},
   "source": [
    "# F-Test\n",
    "\n",
    "## Assumptions\n",
    "\n",
    "The F-Test (do not confuse with ANOVA) is used in this course as a tool for the decision which test is used for the comparison of two samples. It checks for heterogeneity of variances. The test result complements the consideration of boxplots.\n",
    "\n",
    "The hypotheses for this test are called: \n",
    "\n",
    "$$H_{0}: \\frac{\\sigma_{A}}{\\sigma_{B}} =  1$$\n",
    "\n",
    "$$H_{1}: \\frac{\\sigma_{A}}{\\sigma_{B}} \\neq 1$$\n",
    "\n",
    "\n",
    "<div class=\"alert alert-info\"><b>Careful:</b>A significance in the F-test concludes a heterogeneity in variances. It is not possible to conclude a homogeneity from a non significant test result.</div>\n",
    "\n",
    "Normal distribution of both samples is an important assumption for the F-test.\n",
    "\n",
    "## Implementation\n",
    "\n",
    "I am currently not aware of a pre-implemented function in e.g. Pandas, SciPy or NumPy. (Maybe I just didn't find it, it may exist.) Therefore, I here show you how to compute a two-sided F-Test in Python with a custom function that expects two lists of values for the two samples:\n"
   ]
  },
  {
   "cell_type": "code",
   "execution_count": 1,
   "metadata": {},
   "outputs": [],
   "source": [
    "import numpy as np\n",
    "import scipy\n",
    "import scipy.stats\n",
    "\n",
    "# Source: https://www.statology.org/f-test-python/\n",
    "def f_test(x, y):\n",
    "    x = np.array(x)\n",
    "    y = np.array(y)\n",
    "    f = np.var(x, ddof=1)/np.var(y, ddof=1) #calculate F test statistic \n",
    "    fdistribution = scipy.stats.f(len(x)-1,len(y)-1) # build an F-distribution object\n",
    "    p = 2*min(fdistribution.cdf(f), 1-fdistribution.cdf(f))\n",
    "    return f, p"
   ]
  },
  {
   "cell_type": "markdown",
   "metadata": {},
   "source": [
    "You can call this function as \n",
    "\n",
    "    f_test(x_list, y_list)\n",
    "    \n",
    "## Example \"Wisconsin Fast Plant\"\n",
    "\n",
    "### Experiment\n",
    "\n",
    "\"The \"Wisconsin Fast Plant\", *Brassica campestris*, has a very rapid growth cycle that makes it particularly well suited for the study of factors that affect plant growth. In one such study, seven plants were treated with the substance Ancymidol (ancy) and were compared to eight control plants that were given ordinary water. Heights of all of the plants were measured, in cm, after 14 days of growth\" (see data below, Ahern, 1998, cited according to Samuels and Wittmer, 2003, p.228). Ancymidol is a growth suppressor used in agriculture as a herbicide. \n",
    "\n",
    "Are the variances homogeneous?\n",
    "\n",
    "### Statistical Analysis  "
   ]
  },
  {
   "cell_type": "code",
   "execution_count": 2,
   "metadata": {},
   "outputs": [],
   "source": [
    "import pandas as pd\n",
    "brassica = pd.read_csv('data/brassica.csv', sep='\\t')"
   ]
  },
  {
   "cell_type": "code",
   "execution_count": 3,
   "metadata": {},
   "outputs": [
    {
     "data": {
      "text/plain": [
       "(0.9731551139130411, 0.9898470893751512)"
      ]
     },
     "execution_count": 3,
     "metadata": {},
     "output_type": "execute_result"
    }
   ],
   "source": [
    "f_test(brassica[brassica['group'] == \"ancy\"]['height'], brassica[brassica['group'] == \"control\"]['height'])"
   ]
  },
  {
   "cell_type": "markdown",
   "metadata": {},
   "source": [
    "### Interpretation\n",
    "\n",
    "The F-Test statistic is 0.9731551139130411, and the p-value is 0.9898470893751512. The p-value is compared to an $\\alpha$-error that has been set a priori. If the p-value is smaller than $\\alpha$ then the alternative hypothesis will be accepted. \n",
    "\n",
    "The F-test checks for heterogeneity of variances. Although the homogeneity of variances is more interesting in this case, there is no test for homogeneity existing as far as I know. There are no general rules how to treat the output of a F-test when looking for homogeneity. I assume the variances to be more or less homogeneous if the p-value is rather big - including the interpretation of the boxplots. \n",
    "\n",
    "A p-value of 0.9898470893751512 implies, that there is no significant heterogeneity in variances (comparing with an $\\alpha$ of 5\\%) $\\Longrightarrow$ homogeneity of variances."
   ]
  },
  {
   "cell_type": "code",
   "execution_count": null,
   "metadata": {},
   "outputs": [],
   "source": []
  },
  {
   "cell_type": "code",
   "execution_count": null,
   "metadata": {},
   "outputs": [],
   "source": []
  }
 ],
 "metadata": {
  "kernelspec": {
   "display_name": "Python 3",
   "language": "python",
   "name": "python3"
  },
  "language_info": {
   "codemirror_mode": {
    "name": "ipython",
    "version": 3
   },
   "file_extension": ".py",
   "mimetype": "text/x-python",
   "name": "python",
   "nbconvert_exporter": "python",
   "pygments_lexer": "ipython3",
   "version": "3.8.5"
  }
 },
 "nbformat": 4,
 "nbformat_minor": 5
}
