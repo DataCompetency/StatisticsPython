{
 "cells": [
  {
   "cell_type": "markdown",
   "id": "wireless-router",
   "metadata": {},
   "source": [
    "# Linear Regression\n",
    "\n",
    "## Assumptions\n",
    "\n",
    "Correlation analyses checks for a linear coherence between to or more variables. Linear regression calculates the mathematical function for a response variable influenced by one or several predicting variables. \n",
    "\n",
    "The simplified linear model contains $\\alpha$ as y-axis intercept, $\\beta$ standing for the slope and $\\varepsilon$ for the experimental error (i is the measured value number i):\n",
    "\n",
    "$$y_{i} = \\alpha + \\beta x_{i} + \\varepsilon_{i}$$\n",
    "\n",
    "The following assumptions are prerequisites for a linear regression:\n",
    "\n",
    "   * The **number of predicting values (x-values)** must be at least two (preferably more!)\n",
    "   \n",
    "   * The **number of repetitions over the entire experiment** must be at least three.\n",
    "   \n",
    "   * **Homogeneity of variances of the residuals**: Residuals shall be scattering equally around the zero line in a residual plot. The range should not get smaller in the middle nor on the endings. Homogeneity of variances is assumed.\n",
    "   \n",
    "   * **Normal distribution of residuals:** The residual plot should ideally look like a \"sky full of stars\" scattering around the horizontal zero line. A boxplot or QQ-Plot might also be helpful for obtaining a normal distribution but this will not offer the possibility to check for homogeneity of variances (because it is only one box present). \n",
    "\n",
    "## Implementation\n",
    "\n",
    "There are many packages and functions that perform linear regression in python. \n",
    "\n",
    "Sklearn is one of the most popular machine learning libraries, and it also performs linear regression. It's not a statistics library! But if you only need \"a fitted line\", then sklearn is great.\n",
    "\n",
    "    sklearn.linear_model.LinearRegression().fit(x,y)\n",
    "    \n",
    "Typically, you'll first create an empty <tt>sklearn.linear_model.LinearRegression()</tt> object, and then apply <tt>fit(x,y)</tt> with your data to that object. This will return a <tt>linear_regressor</tt> with attributes <tt>intercept_</tt>, <tt>coef_</tt> and a method <tt>predict(x)</tt> to compute predicted values to x.\n",
    "\n",
    "<tt>x</tt> and <tt>y</tt> will need to be reshaped as shown for the example of <tt>x</tt>:\n",
    "\n",
    "    x = pd.iloc[:, 0].values.reshape(-1, 1) # for values in the first column with index 0\n",
    "    \n",
    "If you need p-values for intercept and slope, etc., there are alternatives. For example, <tt>statsmodels.api.OLS()</tt>. You find example code further below.\n",
    "\n",
    "Worth noticing is <tt>seaborn</tt>. It creates beautiful plots, e.g. of a regression model with confidence bands (code also further below).\n",
    "\n",
    "## Example: Sugar Beets\n",
    "\n",
    "### Experiment\n",
    "\n",
    "An experiment was designed to find out whether and how irrigation influences the yield of sugar beets. Seven different amounts of water (from 0 up to 250 mm) applied on four plots respectively. The real amount of water varies slightly and the data shown below considers only real values (Collins and Seeney, 1999, p. 207f). One column contains the irrigation, the other column contains the sugar beet yield."
   ]
  },
  {
   "cell_type": "code",
   "execution_count": 25,
   "id": "color-taxation",
   "metadata": {},
   "outputs": [
    {
     "data": {
      "text/html": [
       "<div>\n",
       "<style scoped>\n",
       "    .dataframe tbody tr th:only-of-type {\n",
       "        vertical-align: middle;\n",
       "    }\n",
       "\n",
       "    .dataframe tbody tr th {\n",
       "        vertical-align: top;\n",
       "    }\n",
       "\n",
       "    .dataframe thead th {\n",
       "        text-align: right;\n",
       "    }\n",
       "</style>\n",
       "<table border=\"1\" class=\"dataframe\">\n",
       "  <thead>\n",
       "    <tr style=\"text-align: right;\">\n",
       "      <th></th>\n",
       "      <th>water</th>\n",
       "      <th>yield</th>\n",
       "    </tr>\n",
       "  </thead>\n",
       "  <tbody>\n",
       "    <tr>\n",
       "      <th>0</th>\n",
       "      <td>0</td>\n",
       "      <td>9.0</td>\n",
       "    </tr>\n",
       "    <tr>\n",
       "      <th>1</th>\n",
       "      <td>0</td>\n",
       "      <td>10.3</td>\n",
       "    </tr>\n",
       "    <tr>\n",
       "      <th>2</th>\n",
       "      <td>0</td>\n",
       "      <td>11.5</td>\n",
       "    </tr>\n",
       "    <tr>\n",
       "      <th>3</th>\n",
       "      <td>0</td>\n",
       "      <td>14.2</td>\n",
       "    </tr>\n",
       "    <tr>\n",
       "      <th>4</th>\n",
       "      <td>48</td>\n",
       "      <td>12.2</td>\n",
       "    </tr>\n",
       "    <tr>\n",
       "      <th>5</th>\n",
       "      <td>50</td>\n",
       "      <td>13.8</td>\n",
       "    </tr>\n",
       "    <tr>\n",
       "      <th>6</th>\n",
       "      <td>48</td>\n",
       "      <td>14.0</td>\n",
       "    </tr>\n",
       "    <tr>\n",
       "      <th>7</th>\n",
       "      <td>50</td>\n",
       "      <td>16.2</td>\n",
       "    </tr>\n",
       "    <tr>\n",
       "      <th>8</th>\n",
       "      <td>88</td>\n",
       "      <td>14.0</td>\n",
       "    </tr>\n",
       "    <tr>\n",
       "      <th>9</th>\n",
       "      <td>88</td>\n",
       "      <td>14.5</td>\n",
       "    </tr>\n",
       "    <tr>\n",
       "      <th>10</th>\n",
       "      <td>100</td>\n",
       "      <td>15.0</td>\n",
       "    </tr>\n",
       "    <tr>\n",
       "      <th>11</th>\n",
       "      <td>88</td>\n",
       "      <td>15.3</td>\n",
       "    </tr>\n",
       "    <tr>\n",
       "      <th>12</th>\n",
       "      <td>145</td>\n",
       "      <td>17.8</td>\n",
       "    </tr>\n",
       "    <tr>\n",
       "      <th>13</th>\n",
       "      <td>137</td>\n",
       "      <td>18.0</td>\n",
       "    </tr>\n",
       "    <tr>\n",
       "      <th>14</th>\n",
       "      <td>150</td>\n",
       "      <td>18.1</td>\n",
       "    </tr>\n",
       "    <tr>\n",
       "      <th>15</th>\n",
       "      <td>153</td>\n",
       "      <td>18.4</td>\n",
       "    </tr>\n",
       "    <tr>\n",
       "      <th>16</th>\n",
       "      <td>177</td>\n",
       "      <td>16.9</td>\n",
       "    </tr>\n",
       "    <tr>\n",
       "      <th>17</th>\n",
       "      <td>189</td>\n",
       "      <td>17.6</td>\n",
       "    </tr>\n",
       "    <tr>\n",
       "      <th>18</th>\n",
       "      <td>200</td>\n",
       "      <td>16.8</td>\n",
       "    </tr>\n",
       "    <tr>\n",
       "      <th>19</th>\n",
       "      <td>200</td>\n",
       "      <td>17.0</td>\n",
       "    </tr>\n",
       "    <tr>\n",
       "      <th>20</th>\n",
       "      <td>209</td>\n",
       "      <td>18.2</td>\n",
       "    </tr>\n",
       "    <tr>\n",
       "      <th>21</th>\n",
       "      <td>210</td>\n",
       "      <td>17.0</td>\n",
       "    </tr>\n",
       "    <tr>\n",
       "      <th>22</th>\n",
       "      <td>213</td>\n",
       "      <td>17.5</td>\n",
       "    </tr>\n",
       "    <tr>\n",
       "      <th>23</th>\n",
       "      <td>222</td>\n",
       "      <td>18.5</td>\n",
       "    </tr>\n",
       "    <tr>\n",
       "      <th>24</th>\n",
       "      <td>227</td>\n",
       "      <td>17.2</td>\n",
       "    </tr>\n",
       "    <tr>\n",
       "      <th>25</th>\n",
       "      <td>227</td>\n",
       "      <td>17.4</td>\n",
       "    </tr>\n",
       "    <tr>\n",
       "      <th>26</th>\n",
       "      <td>234</td>\n",
       "      <td>19.2</td>\n",
       "    </tr>\n",
       "    <tr>\n",
       "      <th>27</th>\n",
       "      <td>239</td>\n",
       "      <td>16.8</td>\n",
       "    </tr>\n",
       "  </tbody>\n",
       "</table>\n",
       "</div>"
      ],
      "text/plain": [
       "    water  yield\n",
       "0       0    9.0\n",
       "1       0   10.3\n",
       "2       0   11.5\n",
       "3       0   14.2\n",
       "4      48   12.2\n",
       "5      50   13.8\n",
       "6      48   14.0\n",
       "7      50   16.2\n",
       "8      88   14.0\n",
       "9      88   14.5\n",
       "10    100   15.0\n",
       "11     88   15.3\n",
       "12    145   17.8\n",
       "13    137   18.0\n",
       "14    150   18.1\n",
       "15    153   18.4\n",
       "16    177   16.9\n",
       "17    189   17.6\n",
       "18    200   16.8\n",
       "19    200   17.0\n",
       "20    209   18.2\n",
       "21    210   17.0\n",
       "22    213   17.5\n",
       "23    222   18.5\n",
       "24    227   17.2\n",
       "25    227   17.4\n",
       "26    234   19.2\n",
       "27    239   16.8"
      ]
     },
     "execution_count": 25,
     "metadata": {},
     "output_type": "execute_result"
    }
   ],
   "source": [
    "import pandas as pd\n",
    "beets = pd.read_csv('data/beets.csv', sep='\\t')\n",
    "beets"
   ]
  },
  {
   "cell_type": "markdown",
   "id": "atmospheric-reaction",
   "metadata": {},
   "source": [
    "### Statistical Analysis\n",
    "\n",
    "#### ... with Sklearn\n",
    "\n",
    "If we use Sklearn, we usually do not care much about statistics, it's simply about fitting the line."
   ]
  },
  {
   "cell_type": "code",
   "execution_count": 26,
   "id": "swiss-bristol",
   "metadata": {},
   "outputs": [
    {
     "name": "stdout",
     "output_type": "stream",
     "text": [
      "Intercept of linear model:\n",
      "[12.25553062]\n",
      "Slope of linear model:\n",
      "[[0.02688113]]\n"
     ]
    },
    {
     "data": {
      "text/plain": [
       "[<matplotlib.lines.Line2D at 0x7f360bd40040>]"
      ]
     },
     "execution_count": 26,
     "metadata": {},
     "output_type": "execute_result"
    },
    {
     "data": {
      "image/png": "[encoded data removed]",
      "text/plain": [
       "<Figure size 432x288 with 1 Axes>"
      ]
     },
     "metadata": {
      "needs_background": "light"
     },
     "output_type": "display_data"
    }
   ],
   "source": [
    "import matplotlib.pyplot as plt\n",
    "from sklearn.linear_model import LinearRegression\n",
    "\n",
    "X = beets.iloc[:, 0].values.reshape(-1, 1) # water\n",
    "Y = beets.iloc[:, 1].values.reshape(-1, 1) # yield\n",
    "\n",
    "linear_regressor = LinearRegression()  # create object\n",
    "linear_regressor.fit(X, Y)  # perform linear regression\n",
    "print(\"Intercept of linear model:\")\n",
    "print(linear_regressor.intercept_)\n",
    "print(\"Slope of linear model:\")\n",
    "print(linear_regressor.coef_)\n",
    "\n",
    "# visualize model\n",
    "plt.scatter(X, Y)\n",
    "Y_pred = linear_regressor.predict(X)\n",
    "plt.plot(X, Y_pred, color='red')"
   ]
  },
  {
   "cell_type": "markdown",
   "id": "cubic-asian",
   "metadata": {},
   "source": [
    "#### ... with statsmodels.api\n",
    "\n",
    "If we use statsmodels.api we usually care about statistics and about whether our model is a 'good' model. We analyse residuals an p-values carefully."
   ]
  },
  {
   "cell_type": "code",
   "execution_count": 27,
   "id": "mediterranean-occasions",
   "metadata": {},
   "outputs": [
    {
     "name": "stdout",
     "output_type": "stream",
     "text": [
      "                            OLS Regression Results                            \n",
      "==============================================================================\n",
      "Dep. Variable:                      y   R-squared:                       0.723\n",
      "Model:                            OLS   Adj. R-squared:                  0.713\n",
      "Method:                 Least Squares   F-statistic:                     67.97\n",
      "Date:                Wed, 17 Mar 2021   Prob (F-statistic):           1.00e-08\n",
      "Time:                        15:36:16   Log-Likelihood:                -48.249\n",
      "No. Observations:                  28   AIC:                             100.5\n",
      "Df Residuals:                      26   BIC:                             103.2\n",
      "Df Model:                           1                                         \n",
      "Covariance Type:            nonrobust                                         \n",
      "==============================================================================\n",
      "                 coef    std err          t      P>|t|      [0.025      0.975]\n",
      "------------------------------------------------------------------------------\n",
      "const         12.2555      0.505     24.245      0.000      11.216      13.295\n",
      "x1             0.0269      0.003      8.244      0.000       0.020       0.034\n",
      "==============================================================================\n",
      "Omnibus:                        0.042   Durbin-Watson:                   1.183\n",
      "Prob(Omnibus):                  0.979   Jarque-Bera (JB):                0.074\n",
      "Skew:                          -0.037   Prob(JB):                        0.964\n",
      "Kurtosis:                       2.760   Cond. No.                         295.\n",
      "==============================================================================\n",
      "\n",
      "Notes:\n",
      "[1] Standard Errors assume that the covariance matrix of the errors is correctly specified.\n",
      "Intercept & slope of model:\n",
      "[12.25553062  0.02688113]\n"
     ]
    },
    {
     "data": {
      "text/plain": [
       "[<matplotlib.lines.Line2D at 0x7f360bbb0b20>]"
      ]
     },
     "execution_count": 27,
     "metadata": {},
     "output_type": "execute_result"
    },
    {
     "data": {
      "image/png": "[encoded data removed]",
      "text/plain": [
       "<Figure size 432x288 with 1 Axes>"
      ]
     },
     "metadata": {
      "needs_background": "light"
     },
     "output_type": "display_data"
    }
   ],
   "source": [
    "import statsmodels.api as sm\n",
    "import numpy as np\n",
    "\n",
    "# get p-values & other information with statsmodels:\n",
    "X2 = sm.add_constant(X) # that's the intercept\n",
    "linreg = sm.OLS(Y, X2)\n",
    "model = linreg.fit()\n",
    "print(model.summary())\n",
    "\n",
    "# visualize\n",
    "# generate x-values for your regression line\n",
    "x = np.arange(min(X), max(X))\n",
    "\n",
    "p = model.params\n",
    "print(\"Intercept & slope of model:\")\n",
    "print(p)\n",
    "plt.scatter(X, Y)\n",
    "plt.plot(x, p[0] + p[1] * x)"
   ]
  },
  {
   "cell_type": "markdown",
   "id": "liable-carol",
   "metadata": {},
   "source": [
    "The following plots are created for the graphical analysis of residuals:"
   ]
  },
  {
   "cell_type": "code",
   "execution_count": 28,
   "id": "soviet-invitation",
   "metadata": {},
   "outputs": [
    {
     "data": {
      "image/png": "[encoded data removed]",
      "text/plain": [
       "<Figure size 432x288 with 1 Axes>"
      ]
     },
     "execution_count": 28,
     "metadata": {},
     "output_type": "execute_result"
    },
    {
     "data": {
      "image/png": "[encoded data removed]",
      "text/plain": [
       "<Figure size 432x288 with 1 Axes>"
      ]
     },
     "metadata": {
      "needs_background": "light"
     },
     "output_type": "display_data"
    },
    {
     "data": {
      "image/png": "[encoded data removed]",
      "text/plain": [
       "<Figure size 432x288 with 1 Axes>"
      ]
     },
     "metadata": {
      "needs_background": "light"
     },
     "output_type": "display_data"
    }
   ],
   "source": [
    "pred_val = model.fittedvalues.copy()\n",
    "true_val = beets['yield'].values.copy()\n",
    "residual = true_val - pred_val\n",
    "plt.scatter(pred_val, residual)\n",
    "plt.title(\"Residual plot\")\n",
    "plt.axhline()\n",
    "\n",
    "import statsmodels.graphics\n",
    "\n",
    "statsmodels.graphics.gofplots.qqplot(residual, line = 'q')"
   ]
  },
  {
   "cell_type": "markdown",
   "id": "compliant-interval",
   "metadata": {},
   "source": [
    "Producing a seaborn plot of the data:"
   ]
  },
  {
   "cell_type": "code",
   "execution_count": 29,
   "id": "explicit-weekly",
   "metadata": {},
   "outputs": [
    {
     "data": {
      "text/plain": [
       "<AxesSubplot:xlabel='water', ylabel='yield'>"
      ]
     },
     "execution_count": 29,
     "metadata": {},
     "output_type": "execute_result"
    },
    {
     "data": {
      "image/png": "[encoded data removed]",
      "text/plain": [
       "<Figure size 432x288 with 1 Axes>"
      ]
     },
     "metadata": {
      "needs_background": "light"
     },
     "output_type": "display_data"
    }
   ],
   "source": [
    "import seaborn as sns\n",
    "sns.regplot(x = 'water', y = 'yield', data = beets)"
   ]
  },
  {
   "cell_type": "markdown",
   "id": "joint-blood",
   "metadata": {},
   "source": [
    "   * The number of **predicting values** is 7 > 2.\n",
    "    \n",
    "   * The **number of repetitions** counts four for each predicting value (this is greater than three values for the complete regression). \n",
    "   \n",
    "   * **Homogeneity of variances** for the residuals is accepted from residual plot\n",
    "   \n",
    "   * An approximate **normal distribution** of the residuals is given in QQ-plot\n",
    "   \n",
    "$\\Longrightarrow$ Linear Regression model is ok.\n",
    "\n",
    "### Interpretation\n",
    "\n",
    "The line is:\n",
    "\n",
    "$$y = 12.25553062 + 0.02688113x$$\n",
    "\n",
    "Both intercept and slope have a tiny p-value (output of OLS) and are thus significantly different from 0.\n",
    "\n",
    "The adjusted $R^{2}$ might be interpreted as *reduction of variance in percentage*, here it's 0.713.\n",
    "\n",
    "## Example: Bread Wheat\n",
    "\n",
    "### Experiment\n",
    "\n",
    "An experiment was designed to investigate the influence of different amounts of fertilizer on the yield of bread wheat.  Concentrations of 100, 200, 300, 400, 500, 600 and 700 lb fertilizer/acre were applied on five randomly chosen plots respectively (data shown below, Wonnacott and Wonnacott, 1990, p 359, data was read from figure 11-1)."
   ]
  },
  {
   "cell_type": "code",
   "execution_count": 30,
   "id": "super-precipitation",
   "metadata": {},
   "outputs": [
    {
     "data": {
      "text/html": [
       "<div>\n",
       "<style scoped>\n",
       "    .dataframe tbody tr th:only-of-type {\n",
       "        vertical-align: middle;\n",
       "    }\n",
       "\n",
       "    .dataframe tbody tr th {\n",
       "        vertical-align: top;\n",
       "    }\n",
       "\n",
       "    .dataframe thead th {\n",
       "        text-align: right;\n",
       "    }\n",
       "</style>\n",
       "<table border=\"1\" class=\"dataframe\">\n",
       "  <thead>\n",
       "    <tr style=\"text-align: right;\">\n",
       "      <th></th>\n",
       "      <th>fertilizer</th>\n",
       "      <th>yield</th>\n",
       "    </tr>\n",
       "  </thead>\n",
       "  <tbody>\n",
       "    <tr>\n",
       "      <th>0</th>\n",
       "      <td>100</td>\n",
       "      <td>24</td>\n",
       "    </tr>\n",
       "    <tr>\n",
       "      <th>1</th>\n",
       "      <td>100</td>\n",
       "      <td>35</td>\n",
       "    </tr>\n",
       "    <tr>\n",
       "      <th>2</th>\n",
       "      <td>100</td>\n",
       "      <td>42</td>\n",
       "    </tr>\n",
       "    <tr>\n",
       "      <th>3</th>\n",
       "      <td>100</td>\n",
       "      <td>47</td>\n",
       "    </tr>\n",
       "    <tr>\n",
       "      <th>4</th>\n",
       "      <td>100</td>\n",
       "      <td>55</td>\n",
       "    </tr>\n",
       "    <tr>\n",
       "      <th>5</th>\n",
       "      <td>200</td>\n",
       "      <td>31</td>\n",
       "    </tr>\n",
       "    <tr>\n",
       "      <th>6</th>\n",
       "      <td>200</td>\n",
       "      <td>40</td>\n",
       "    </tr>\n",
       "    <tr>\n",
       "      <th>7</th>\n",
       "      <td>200</td>\n",
       "      <td>50</td>\n",
       "    </tr>\n",
       "    <tr>\n",
       "      <th>8</th>\n",
       "      <td>200</td>\n",
       "      <td>54</td>\n",
       "    </tr>\n",
       "    <tr>\n",
       "      <th>9</th>\n",
       "      <td>200</td>\n",
       "      <td>61</td>\n",
       "    </tr>\n",
       "    <tr>\n",
       "      <th>10</th>\n",
       "      <td>300</td>\n",
       "      <td>37</td>\n",
       "    </tr>\n",
       "    <tr>\n",
       "      <th>11</th>\n",
       "      <td>300</td>\n",
       "      <td>43</td>\n",
       "    </tr>\n",
       "    <tr>\n",
       "      <th>12</th>\n",
       "      <td>300</td>\n",
       "      <td>53</td>\n",
       "    </tr>\n",
       "    <tr>\n",
       "      <th>13</th>\n",
       "      <td>300</td>\n",
       "      <td>55</td>\n",
       "    </tr>\n",
       "    <tr>\n",
       "      <th>14</th>\n",
       "      <td>300</td>\n",
       "      <td>62</td>\n",
       "    </tr>\n",
       "    <tr>\n",
       "      <th>15</th>\n",
       "      <td>400</td>\n",
       "      <td>47</td>\n",
       "    </tr>\n",
       "    <tr>\n",
       "      <th>16</th>\n",
       "      <td>400</td>\n",
       "      <td>53</td>\n",
       "    </tr>\n",
       "    <tr>\n",
       "      <th>17</th>\n",
       "      <td>400</td>\n",
       "      <td>62</td>\n",
       "    </tr>\n",
       "    <tr>\n",
       "      <th>18</th>\n",
       "      <td>400</td>\n",
       "      <td>70</td>\n",
       "    </tr>\n",
       "    <tr>\n",
       "      <th>19</th>\n",
       "      <td>400</td>\n",
       "      <td>74</td>\n",
       "    </tr>\n",
       "    <tr>\n",
       "      <th>20</th>\n",
       "      <td>500</td>\n",
       "      <td>52</td>\n",
       "    </tr>\n",
       "    <tr>\n",
       "      <th>21</th>\n",
       "      <td>500</td>\n",
       "      <td>61</td>\n",
       "    </tr>\n",
       "    <tr>\n",
       "      <th>22</th>\n",
       "      <td>500</td>\n",
       "      <td>65</td>\n",
       "    </tr>\n",
       "    <tr>\n",
       "      <th>23</th>\n",
       "      <td>500</td>\n",
       "      <td>70</td>\n",
       "    </tr>\n",
       "    <tr>\n",
       "      <th>24</th>\n",
       "      <td>500</td>\n",
       "      <td>80</td>\n",
       "    </tr>\n",
       "    <tr>\n",
       "      <th>25</th>\n",
       "      <td>600</td>\n",
       "      <td>63</td>\n",
       "    </tr>\n",
       "    <tr>\n",
       "      <th>26</th>\n",
       "      <td>600</td>\n",
       "      <td>68</td>\n",
       "    </tr>\n",
       "    <tr>\n",
       "      <th>27</th>\n",
       "      <td>600</td>\n",
       "      <td>74</td>\n",
       "    </tr>\n",
       "    <tr>\n",
       "      <th>28</th>\n",
       "      <td>600</td>\n",
       "      <td>80</td>\n",
       "    </tr>\n",
       "    <tr>\n",
       "      <th>29</th>\n",
       "      <td>600</td>\n",
       "      <td>90</td>\n",
       "    </tr>\n",
       "    <tr>\n",
       "      <th>30</th>\n",
       "      <td>700</td>\n",
       "      <td>67</td>\n",
       "    </tr>\n",
       "    <tr>\n",
       "      <th>31</th>\n",
       "      <td>700</td>\n",
       "      <td>74</td>\n",
       "    </tr>\n",
       "    <tr>\n",
       "      <th>32</th>\n",
       "      <td>700</td>\n",
       "      <td>80</td>\n",
       "    </tr>\n",
       "    <tr>\n",
       "      <th>33</th>\n",
       "      <td>700</td>\n",
       "      <td>84</td>\n",
       "    </tr>\n",
       "    <tr>\n",
       "      <th>34</th>\n",
       "      <td>700</td>\n",
       "      <td>93</td>\n",
       "    </tr>\n",
       "  </tbody>\n",
       "</table>\n",
       "</div>"
      ],
      "text/plain": [
       "    fertilizer  yield\n",
       "0          100     24\n",
       "1          100     35\n",
       "2          100     42\n",
       "3          100     47\n",
       "4          100     55\n",
       "5          200     31\n",
       "6          200     40\n",
       "7          200     50\n",
       "8          200     54\n",
       "9          200     61\n",
       "10         300     37\n",
       "11         300     43\n",
       "12         300     53\n",
       "13         300     55\n",
       "14         300     62\n",
       "15         400     47\n",
       "16         400     53\n",
       "17         400     62\n",
       "18         400     70\n",
       "19         400     74\n",
       "20         500     52\n",
       "21         500     61\n",
       "22         500     65\n",
       "23         500     70\n",
       "24         500     80\n",
       "25         600     63\n",
       "26         600     68\n",
       "27         600     74\n",
       "28         600     80\n",
       "29         600     90\n",
       "30         700     67\n",
       "31         700     74\n",
       "32         700     80\n",
       "33         700     84\n",
       "34         700     93"
      ]
     },
     "execution_count": 30,
     "metadata": {},
     "output_type": "execute_result"
    }
   ],
   "source": [
    "wheat = pd.read_csv('data/wheat.csv', sep='\\t')\n",
    "wheat"
   ]
  },
  {
   "cell_type": "markdown",
   "id": "quantitative-underwear",
   "metadata": {},
   "source": [
    "### Statistical Analysis"
   ]
  },
  {
   "cell_type": "code",
   "execution_count": 31,
   "id": "excess-bhutan",
   "metadata": {},
   "outputs": [
    {
     "name": "stdout",
     "output_type": "stream",
     "text": [
      "                            OLS Regression Results                            \n",
      "==============================================================================\n",
      "Dep. Variable:                      y   R-squared:                       0.652\n",
      "Model:                            OLS   Adj. R-squared:                  0.642\n",
      "Method:                 Least Squares   F-statistic:                     61.85\n",
      "Date:                Wed, 17 Mar 2021   Prob (F-statistic):           4.57e-09\n",
      "Time:                        15:37:24   Log-Likelihood:                -129.62\n",
      "No. Observations:                  35   AIC:                             263.2\n",
      "Df Residuals:                      33   BIC:                             266.3\n",
      "Df Model:                           1                                         \n",
      "Covariance Type:            nonrobust                                         \n",
      "==============================================================================\n",
      "                 coef    std err          t      P>|t|      [0.025      0.975]\n",
      "------------------------------------------------------------------------------\n",
      "const         33.0000      3.822      8.634      0.000      25.224      40.776\n",
      "x1             0.0672      0.009      7.864      0.000       0.050       0.085\n",
      "==============================================================================\n",
      "Omnibus:                        4.566   Durbin-Watson:                   1.814\n",
      "Prob(Omnibus):                  0.102   Jarque-Bera (JB):                1.754\n",
      "Skew:                          -0.030   Prob(JB):                        0.416\n",
      "Kurtosis:                       1.905   Cond. No.                     1.00e+03\n",
      "==============================================================================\n",
      "\n",
      "Notes:\n",
      "[1] Standard Errors assume that the covariance matrix of the errors is correctly specified.\n",
      "[2] The condition number is large,  1e+03. This might indicate that there are\n",
      "strong multicollinearity or other numerical problems.\n",
      "Intercept & slope of model:\n",
      "[33.          0.06721429]\n"
     ]
    },
    {
     "data": {
      "text/plain": [
       "[<matplotlib.lines.Line2D at 0x7f360bf02b80>]"
      ]
     },
     "execution_count": 31,
     "metadata": {},
     "output_type": "execute_result"
    },
    {
     "data": {
      "image/png": "[encoded data removed]",
      "text/plain": [
       "<Figure size 432x288 with 1 Axes>"
      ]
     },
     "metadata": {
      "needs_background": "light"
     },
     "output_type": "display_data"
    }
   ],
   "source": [
    "X = wheat.iloc[:, 0].values.reshape(-1, 1) # fertilizer\n",
    "Y = wheat.iloc[:, 1].values.reshape(-1, 1) # wheat\n",
    "\n",
    "# get p-values & other information with statsmodels:\n",
    "X2 = sm.add_constant(X) # that's the intercept\n",
    "linreg = sm.OLS(Y, X2)\n",
    "model = linreg.fit()\n",
    "print(model.summary())\n",
    "\n",
    "# visualize\n",
    "# generate x-values for your regression line\n",
    "x = np.arange(min(X), max(X))\n",
    "\n",
    "p = model.params\n",
    "print(\"Intercept & slope of model:\")\n",
    "print(p)\n",
    "plt.scatter(X, Y)\n",
    "plt.plot(x, p[0] + p[1] * x)"
   ]
  },
  {
   "cell_type": "code",
   "execution_count": 33,
   "id": "announced-screening",
   "metadata": {},
   "outputs": [
    {
     "data": {
      "text/plain": [
       "<matplotlib.lines.Line2D at 0x7f360bb029d0>"
      ]
     },
     "execution_count": 33,
     "metadata": {},
     "output_type": "execute_result"
    },
    {
     "data": {
      "image/png": "[encoded data removed]",
      "text/plain": [
       "<Figure size 432x288 with 1 Axes>"
      ]
     },
     "metadata": {
      "needs_background": "light"
     },
     "output_type": "display_data"
    }
   ],
   "source": [
    "pred_val = model.fittedvalues.copy()\n",
    "true_val = wheat['yield'].values.copy()\n",
    "residual = true_val - pred_val\n",
    "plt.scatter(pred_val, residual)\n",
    "plt.title(\"Residual plot\")\n",
    "plt.axhline()"
   ]
  },
  {
   "cell_type": "markdown",
   "id": "selected-stuff",
   "metadata": {},
   "source": [
    "   * The number of **predicting values** is seven (> 2).\n",
    "   \n",
    "   * **Five repetitions** for each x-value fulfill the requirement of at least three repetitions over all predictors. \n",
    "\n",
    "   * **Homogeneity of variances** is assumed (see residual plot)\n",
    " \n",
    "   * The residuals are approximately **normal distributed** (see residual plot)\n",
    "   \n",
    "$\\Longrightarrow$ model is fitting well for the regression analysis of bread wheat data. \n",
    "\n",
    "The linear regression model is\n",
    "\n",
    "$$y = 33 + 0.0672x$$\n",
    "\n",
    "Both intercept and slope are statistically signifcant.\n",
    "\n",
    "\n",
    "<font size=\"3\"><div class=\"alert alert-warning\"><b>Exercise 10.1:</b> <br> \n",
    "Sulphur is efficiently used fighting potato scab. Researchers investigated the effect of different sulphur concentrations on the plant disease. Four concentrations (0, 300, 600 and 1200 pounds/acre) have been applied on four plots respectively. The sum of surface damage by scab has been counted for 100 randomly chosen potatoes from each plot (data shown below) (Cochran and Cox, 1950, cited according to Pearce, 1983, p. 46).\n",
    "\n",
    "Are the given data fitting for a regression analysis with the linear model? Are the residuals normal distributed?\n",
    "\n",
    "If so, which are intercept and slope? Is the regression significant with an error probability of 5%? \n",
    "\n",
    "Plot confidence bands!\n",
    "</div>\n",
    "</font>"
   ]
  },
  {
   "cell_type": "code",
   "execution_count": 34,
   "id": "anonymous-yugoslavia",
   "metadata": {},
   "outputs": [
    {
     "data": {
      "text/html": [
       "<div>\n",
       "<style scoped>\n",
       "    .dataframe tbody tr th:only-of-type {\n",
       "        vertical-align: middle;\n",
       "    }\n",
       "\n",
       "    .dataframe tbody tr th {\n",
       "        vertical-align: top;\n",
       "    }\n",
       "\n",
       "    .dataframe thead th {\n",
       "        text-align: right;\n",
       "    }\n",
       "</style>\n",
       "<table border=\"1\" class=\"dataframe\">\n",
       "  <thead>\n",
       "    <tr style=\"text-align: right;\">\n",
       "      <th></th>\n",
       "      <th>concentration</th>\n",
       "      <th>scab</th>\n",
       "    </tr>\n",
       "  </thead>\n",
       "  <tbody>\n",
       "    <tr>\n",
       "      <th>0</th>\n",
       "      <td>0</td>\n",
       "      <td>18</td>\n",
       "    </tr>\n",
       "    <tr>\n",
       "      <th>1</th>\n",
       "      <td>0</td>\n",
       "      <td>30</td>\n",
       "    </tr>\n",
       "    <tr>\n",
       "      <th>2</th>\n",
       "      <td>0</td>\n",
       "      <td>24</td>\n",
       "    </tr>\n",
       "    <tr>\n",
       "      <th>3</th>\n",
       "      <td>0</td>\n",
       "      <td>29</td>\n",
       "    </tr>\n",
       "    <tr>\n",
       "      <th>4</th>\n",
       "      <td>300</td>\n",
       "      <td>9</td>\n",
       "    </tr>\n",
       "    <tr>\n",
       "      <th>5</th>\n",
       "      <td>300</td>\n",
       "      <td>9</td>\n",
       "    </tr>\n",
       "    <tr>\n",
       "      <th>6</th>\n",
       "      <td>300</td>\n",
       "      <td>16</td>\n",
       "    </tr>\n",
       "    <tr>\n",
       "      <th>7</th>\n",
       "      <td>300</td>\n",
       "      <td>4</td>\n",
       "    </tr>\n",
       "    <tr>\n",
       "      <th>8</th>\n",
       "      <td>600</td>\n",
       "      <td>18</td>\n",
       "    </tr>\n",
       "    <tr>\n",
       "      <th>9</th>\n",
       "      <td>600</td>\n",
       "      <td>10</td>\n",
       "    </tr>\n",
       "    <tr>\n",
       "      <th>10</th>\n",
       "      <td>600</td>\n",
       "      <td>18</td>\n",
       "    </tr>\n",
       "    <tr>\n",
       "      <th>11</th>\n",
       "      <td>600</td>\n",
       "      <td>16</td>\n",
       "    </tr>\n",
       "    <tr>\n",
       "      <th>12</th>\n",
       "      <td>1200</td>\n",
       "      <td>4</td>\n",
       "    </tr>\n",
       "    <tr>\n",
       "      <th>13</th>\n",
       "      <td>1200</td>\n",
       "      <td>10</td>\n",
       "    </tr>\n",
       "    <tr>\n",
       "      <th>14</th>\n",
       "      <td>1200</td>\n",
       "      <td>5</td>\n",
       "    </tr>\n",
       "    <tr>\n",
       "      <th>15</th>\n",
       "      <td>1200</td>\n",
       "      <td>4</td>\n",
       "    </tr>\n",
       "  </tbody>\n",
       "</table>\n",
       "</div>"
      ],
      "text/plain": [
       "    concentration  scab\n",
       "0               0    18\n",
       "1               0    30\n",
       "2               0    24\n",
       "3               0    29\n",
       "4             300     9\n",
       "5             300     9\n",
       "6             300    16\n",
       "7             300     4\n",
       "8             600    18\n",
       "9             600    10\n",
       "10            600    18\n",
       "11            600    16\n",
       "12           1200     4\n",
       "13           1200    10\n",
       "14           1200     5\n",
       "15           1200     4"
      ]
     },
     "execution_count": 34,
     "metadata": {},
     "output_type": "execute_result"
    }
   ],
   "source": [
    "sul = pd.read_csv('data/sulphur.csv', sep='\\t')\n",
    "sul"
   ]
  },
  {
   "cell_type": "markdown",
   "id": "imposed-cliff",
   "metadata": {},
   "source": [
    "<font size=\"3\">\n",
    "<b>Try it yourself:</b></font>"
   ]
  },
  {
   "cell_type": "code",
   "execution_count": null,
   "id": "acceptable-communist",
   "metadata": {},
   "outputs": [],
   "source": []
  },
  {
   "cell_type": "markdown",
   "id": "senior-metadata",
   "metadata": {},
   "source": [
    "**Example Solution:**"
   ]
  },
  {
   "cell_type": "code",
   "execution_count": 36,
   "id": "imposed-rhythm",
   "metadata": {},
   "outputs": [
    {
     "name": "stdout",
     "output_type": "stream",
     "text": [
      "                            OLS Regression Results                            \n",
      "==============================================================================\n",
      "Dep. Variable:                      y   R-squared:                       0.495\n",
      "Model:                            OLS   Adj. R-squared:                  0.459\n",
      "Method:                 Least Squares   F-statistic:                     13.70\n",
      "Date:                Wed, 17 Mar 2021   Prob (F-statistic):            0.00237\n",
      "Time:                        15:47:14   Log-Likelihood:                -51.087\n",
      "No. Observations:                  16   AIC:                             106.2\n",
      "Df Residuals:                      14   BIC:                             107.7\n",
      "Df Model:                           1                                         \n",
      "Covariance Type:            nonrobust                                         \n",
      "==============================================================================\n",
      "                 coef    std err          t      P>|t|      [0.025      0.975]\n",
      "------------------------------------------------------------------------------\n",
      "const         20.9000      2.440      8.564      0.000      15.666      26.134\n",
      "x1            -0.0131      0.004     -3.702      0.002      -0.021      -0.006\n",
      "==============================================================================\n",
      "Omnibus:                        0.925   Durbin-Watson:                   2.138\n",
      "Prob(Omnibus):                  0.630   Jarque-Bera (JB):                0.712\n",
      "Skew:                          -0.468   Prob(JB):                        0.701\n",
      "Kurtosis:                       2.563   Cond. No.                     1.06e+03\n",
      "==============================================================================\n",
      "\n",
      "Notes:\n",
      "[1] Standard Errors assume that the covariance matrix of the errors is correctly specified.\n",
      "[2] The condition number is large, 1.06e+03. This might indicate that there are\n",
      "strong multicollinearity or other numerical problems.\n",
      "Intercept & slope of model:\n",
      "[ 2.09000000e+01 -1.31428571e-02]\n"
     ]
    },
    {
     "name": "stderr",
     "output_type": "stream",
     "text": [
      "/home/katharina/PythonStatistics/PythonStatistics/lib/python3.8/site-packages/scipy/stats/stats.py:1603: UserWarning: kurtosistest only valid for n>=20 ... continuing anyway, n=16\n",
      "  warnings.warn(\"kurtosistest only valid for n>=20 ... continuing \"\n"
     ]
    },
    {
     "data": {
      "text/plain": [
       "[<matplotlib.lines.Line2D at 0x7f360b8d6a30>]"
      ]
     },
     "execution_count": 36,
     "metadata": {},
     "output_type": "execute_result"
    },
    {
     "data": {
      "image/png": "[encoded data removed]",
      "text/plain": [
       "<Figure size 432x288 with 1 Axes>"
      ]
     },
     "metadata": {
      "needs_background": "light"
     },
     "output_type": "display_data"
    }
   ],
   "source": [
    "X = sul.iloc[:, 0].values.reshape(-1, 1) # concentration\n",
    "Y = sul.iloc[:, 1].values.reshape(-1, 1) # scab\n",
    "\n",
    "# get p-values & other information with statsmodels:\n",
    "X2 = sm.add_constant(X) # that's the intercept\n",
    "linreg = sm.OLS(Y, X2)\n",
    "model = linreg.fit()\n",
    "print(model.summary())\n",
    "\n",
    "# visualize\n",
    "# generate x-values for your regression line\n",
    "x = np.arange(min(X), max(X))\n",
    "\n",
    "p = model.params\n",
    "print(\"Intercept & slope of model:\")\n",
    "print(p)\n",
    "plt.scatter(X, Y)\n",
    "plt.plot(x, p[0] + p[1] * x)"
   ]
  },
  {
   "cell_type": "code",
   "execution_count": 37,
   "id": "serial-field",
   "metadata": {},
   "outputs": [
    {
     "data": {
      "text/plain": [
       "<matplotlib.lines.Line2D at 0x7f360b89e880>"
      ]
     },
     "execution_count": 37,
     "metadata": {},
     "output_type": "execute_result"
    },
    {
     "data": {
      "image/png": "[encoded data removed]",
      "text/plain": [
       "<Figure size 432x288 with 1 Axes>"
      ]
     },
     "metadata": {
      "needs_background": "light"
     },
     "output_type": "display_data"
    }
   ],
   "source": [
    "pred_val = model.fittedvalues.copy()\n",
    "true_val = sul['scab'].values.copy()\n",
    "residual = true_val - pred_val\n",
    "plt.scatter(pred_val, residual)\n",
    "plt.title(\"Residual plot\")\n",
    "plt.axhline()"
   ]
  },
  {
   "cell_type": "code",
   "execution_count": 38,
   "id": "through-museum",
   "metadata": {},
   "outputs": [
    {
     "data": {
      "text/plain": [
       "<AxesSubplot:xlabel='concentration', ylabel='scab'>"
      ]
     },
     "execution_count": 38,
     "metadata": {},
     "output_type": "execute_result"
    },
    {
     "data": {
      "image/png": "[encoded data removed]",
      "text/plain": [
       "<Figure size 432x288 with 1 Axes>"
      ]
     },
     "metadata": {
      "needs_background": "light"
     },
     "output_type": "display_data"
    }
   ],
   "source": [
    "sns.regplot(x = 'concentration', y = 'scab', data = sul)"
   ]
  },
  {
   "cell_type": "markdown",
   "id": "fluid-defeat",
   "metadata": {},
   "source": [
    "The model is\n",
    "\n",
    "$$y = 2.09000000e+01 -1.31428571e-02 x$$\n",
    "\n",
    "   * **Number of predictor levels** is greater than two.\n",
    "   \n",
    "   * **Number of observations** over all x-values is greater than three.\n",
    "   \n",
    "   * **Homogeneity of variances** of residuals can be doubted, but robustness is assumed\n",
    "   \n",
    "   * **Normal distribution** of residuals can be doubted, but robustness is assumed\n",
    "   \n",
    "Both slope and intercapt are significant."
   ]
  },
  {
   "cell_type": "markdown",
   "id": "endless-planning",
   "metadata": {},
   "source": [
    "Further reading:\n",
    "    \n",
    "   * <https://scikit-learn.org/stable/modules/generated/sklearn.linear_model.LinearRegression.html>\n",
    "    \n",
    "   * <https://www.statsmodels.org/dev/generated/statsmodels.regression.linear_model.OLS.html>\n",
    "    \n",
    "   * <https://www.statsmodels.org/stable/generated/statsmodels.tools.tools.add_constant.html>\n",
    "    \n",
    "   * <https://docs.scipy.org/doc/numpy/reference/generated/numpy.arange.html>\n",
    "    \n",
    "   * <https://seaborn.pydata.org/generated/seaborn.regplot.html>"
   ]
  },
  {
   "cell_type": "code",
   "execution_count": null,
   "id": "complete-printing",
   "metadata": {},
   "outputs": [],
   "source": []
  }
 ],
 "metadata": {
  "kernelspec": {
   "display_name": "Python 3",
   "language": "python",
   "name": "python3"
  },
  "language_info": {
   "codemirror_mode": {
    "name": "ipython",
    "version": 3
   },
   "file_extension": ".py",
   "mimetype": "text/x-python",
   "name": "python",
   "nbconvert_exporter": "python",
   "pygments_lexer": "ipython3",
   "version": "3.8.5"
  }
 },
 "nbformat": 4,
 "nbformat_minor": 5
}
