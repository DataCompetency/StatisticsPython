{
 "cells": [
  {
   "cell_type": "markdown",
   "metadata": {},
   "source": [
    "# Statistics with Python\n",
    "\n",
    "by Katharina J. Hoff, contact: katharina.hoff@uni-greifswald.de\n",
    "\n",
    "## Audience\n",
    "\n",
    "This course is suitable for participants who already have background knowlege on fundamental concepts of statistics. Previous programming experience is recommended (must not necessarily be in Python).\n",
    "\n",
    "# Introduction\n",
    "\n",
    "Python is a universal interpreted programming language. Due to clear and simple syntax, it is very easy to learn. Found in the 1990s by Guido van Rossum, Python has developed to be one of the most popular programming languages, today. It can be used a wide range of fields, e.g.:\n",
    "\n",
    "  * Scripting\n",
    "  \n",
    "  * Object oriented programming\n",
    "  \n",
    "  * Machine learning\n",
    "  \n",
    "  * Statistics\n",
    "  \n",
    "... and probably many more. This is why we nowadays encourage you to learn Python if you have not have any programming experience yet: it's such a generally applicable language that you will be prepared for almost any future programming situation.\n",
    "\n",
    "In this course, however, we will focus on how to peform statistical data analysis with Python. Some of you probably have had previous experience with the programming language R. You will see that in terms of statistics, R is in some areas still a superior language. However, switchting to Python might be worthwhile, nevertheless. It is a very rapidly evolving programming language with increasing popularity in data science.\n",
    "\n",
    "Python is a free and powerful programming language that is compatible with many operating systems (e.g. Linux, OS X, Windows). \n",
    "\n",
    "In this course **Python 3** is used.\n",
    "\n",
    "## Usage Modes\n",
    "\n",
    "Python offers different usage modes: interactive and non-interactive. In this course, we will only use the interactive mode.\n",
    "\n",
    "This course uses the popular Jupyter environment and Jupyter Notebooks offering an interactive environment where we can enter commands and immediately see the results. The temporary results of each command are held in memory till the interactive environment is shut down.\n",
    "\n",
    "Try it on your own, e.g. <tt>enter 1 + 1</tt> or <tt>print(\"Hello world!\")</tt> in the empty cell below and press **Ctrl + Enter** to execute the content of the currently selected cell:\n"
   ]
  },
  {
   "cell_type": "code",
   "execution_count": 1,
   "metadata": {},
   "outputs": [
    {
     "data": {
      "text/plain": [
       "2"
      ]
     },
     "execution_count": 1,
     "metadata": {},
     "output_type": "execute_result"
    }
   ],
   "source": [
    "1 + 1"
   ]
  },
  {
   "cell_type": "markdown",
   "metadata": {},
   "source": [
    "### Useful Keyboard Shortcuts\n",
    "<br>\n",
    "\n",
    "<font size=\"3\">\n",
    "    \n",
    "| Shortcut | Function |\n",
    "| -------- | ----------- |\n",
    "| Esc      | Switch to command mode |\n",
    "| Enter    | Switch to edit mode |\n",
    "| B        | Creates new empty cell **B**elow |\n",
    "| H        | Show **H**elp   |\n",
    "| X        | Deletes currently selected cell|\n",
    "| Shift + Enter | Run cell and advance to next cell |\n",
    "| Ctrl  + Enter | Run cell |\n",
    "| Ctrl  + S     | Save notebook |\n",
    "\n",
    "The frame color of the currently selected cell changes from blue in command mode to green in edit mode.\n",
    "\n",
    "</font>"
   ]
  },
  {
   "cell_type": "markdown",
   "metadata": {},
   "source": [
    "## JupyterHub\n",
    "\n",
    "JupyterHub is a Jupyter environment running on a remote server of the university (which we're using right now). It is accessible from within the university network or remotely from home via the VPN client. Therefore, a local installation is not necessary.\n",
    "<div class=\"alert alert-warning\" role=\"alert\">\n",
    "    <b>If you're connected to eduroam, you can directly access the JupyterHub via</b>\n",
    "    <a href=\"https://jupyterhub.wolke.uni-greifswald.de/hub/login\">https://jupyterhub.wolke.uni-greifswald.de/hub/login</a> using your personal login credentials from the university data center.\n",
    "</div>\n",
    "\n",
    "Open a terminal and run the following command to clone the course materials to your Jupyter notebook instance:\n",
    "\n",
    "`git clone https://github.com/KatharinaHoff/PythonStatistics.git`\n",
    "\n",
    "## Local Setup\n",
    "\n",
    "If you'd like to write and test your code independently from the university infrastructure (e.g. after the course) and start from scratch, install the Jupyter environment locally on your machine, following the instructions below.\n",
    "\n",
    "### Linux\n",
    "\n",
    "The easiest way is to download and install the Anaconda distribution here: <br>\n",
    "https://repo.anaconda.com/archive/Anaconda3-2020.07-Linux-x86_64.sh\n",
    "\n",
    "### Mac OS X\n",
    "\n",
    "The easiest way is to download and install the Anaconda distribution here: <br>\n",
    "https://repo.anaconda.com/archive/Anaconda3-2020.07-MacOSX-x86_64.pkg\n",
    "\n",
    "### Windows\n",
    "\n",
    "The easiest way is to download and install the Anaconda distribution here: <br>\n",
    "https://repo.anaconda.com/archive/Anaconda3-2020.07-Windows-x86_64.exe\n",
    "\n",
    "</font>"
   ]
  },
  {
   "cell_type": "markdown",
   "metadata": {},
   "source": [
    "## Installation of Python Add-On Packages\n",
    "\n",
    "A huge amount of add-on packages for Python is available. Many are listed at https://pypi.org/. To install stuck a package in your local Python environment, use pip. In the following, we will try to install all packages that we will use in this course (some might already be present):"
   ]
  },
  {
   "cell_type": "code",
   "execution_count": 2,
   "metadata": {},
   "outputs": [
    {
     "name": "stdout",
     "output_type": "stream",
     "text": [
      "Requirement already satisfied: numpy in /opt/conda/lib/python3.8/site-packages (1.19.1)\n",
      "Note: you may need to restart the kernel to use updated packages.\n"
     ]
    }
   ],
   "source": [
    "pip install numpy"
   ]
  },
  {
   "cell_type": "code",
   "execution_count": 3,
   "metadata": {},
   "outputs": [
    {
     "name": "stdout",
     "output_type": "stream",
     "text": [
      "Requirement already satisfied: pandas in /opt/conda/lib/python3.8/site-packages (1.1.2)\n",
      "Requirement already satisfied: numpy>=1.15.4 in /opt/conda/lib/python3.8/site-packages (from pandas) (1.19.1)\n",
      "Requirement already satisfied: python-dateutil>=2.7.3 in /opt/conda/lib/python3.8/site-packages (from pandas) (2.8.1)\n",
      "Requirement already satisfied: pytz>=2017.2 in /opt/conda/lib/python3.8/site-packages (from pandas) (2020.1)\n",
      "Requirement already satisfied: six>=1.5 in /opt/conda/lib/python3.8/site-packages (from python-dateutil>=2.7.3->pandas) (1.15.0)\n",
      "Note: you may need to restart the kernel to use updated packages.\n"
     ]
    }
   ],
   "source": [
    "pip install pandas"
   ]
  },
  {
   "cell_type": "code",
   "execution_count": 4,
   "metadata": {},
   "outputs": [
    {
     "name": "stdout",
     "output_type": "stream",
     "text": [
      "\u001b[31mERROR: Could not find a version that satisfies the requirement itertools (from versions: none)\u001b[0m\n",
      "\u001b[31mERROR: No matching distribution found for itertools\u001b[0m\n",
      "Note: you may need to restart the kernel to use updated packages.\n"
     ]
    }
   ],
   "source": [
    "pip install itertools"
   ]
  },
  {
   "cell_type": "code",
   "execution_count": 5,
   "metadata": {},
   "outputs": [
    {
     "name": "stdout",
     "output_type": "stream",
     "text": [
      "Requirement already satisfied: matplotlib in /opt/conda/lib/python3.8/site-packages (3.3.2)\n",
      "Requirement already satisfied: numpy>=1.15 in /opt/conda/lib/python3.8/site-packages (from matplotlib) (1.19.1)\n",
      "Requirement already satisfied: cycler>=0.10 in /opt/conda/lib/python3.8/site-packages (from matplotlib) (0.10.0)\n",
      "Requirement already satisfied: pillow>=6.2.0 in /opt/conda/lib/python3.8/site-packages (from matplotlib) (7.2.0)\n",
      "Requirement already satisfied: python-dateutil>=2.1 in /opt/conda/lib/python3.8/site-packages (from matplotlib) (2.8.1)\n",
      "Requirement already satisfied: pyparsing!=2.0.4,!=2.1.2,!=2.1.6,>=2.0.3 in /opt/conda/lib/python3.8/site-packages (from matplotlib) (2.4.7)\n",
      "Requirement already satisfied: kiwisolver>=1.0.1 in /opt/conda/lib/python3.8/site-packages (from matplotlib) (1.2.0)\n",
      "Requirement already satisfied: certifi>=2020.06.20 in /opt/conda/lib/python3.8/site-packages (from matplotlib) (2020.6.20)\n",
      "Requirement already satisfied: six in /opt/conda/lib/python3.8/site-packages (from cycler>=0.10->matplotlib) (1.15.0)\n",
      "Note: you may need to restart the kernel to use updated packages.\n"
     ]
    }
   ],
   "source": [
    "pip install matplotlib"
   ]
  },
  {
   "cell_type": "code",
   "execution_count": 6,
   "metadata": {},
   "outputs": [
    {
     "name": "stdout",
     "output_type": "stream",
     "text": [
      "Requirement already satisfied: scipy in /opt/conda/lib/python3.8/site-packages (1.5.2)\n",
      "Requirement already satisfied: numpy>=1.14.5 in /opt/conda/lib/python3.8/site-packages (from scipy) (1.19.1)\n",
      "Note: you may need to restart the kernel to use updated packages.\n"
     ]
    }
   ],
   "source": [
    "pip install scipy"
   ]
  },
  {
   "cell_type": "code",
   "execution_count": 7,
   "metadata": {},
   "outputs": [
    {
     "name": "stdout",
     "output_type": "stream",
     "text": [
      "Requirement already satisfied: statsmodels in /opt/conda/lib/python3.8/site-packages (0.12.0)\n",
      "Requirement already satisfied: numpy>=1.15 in /opt/conda/lib/python3.8/site-packages (from statsmodels) (1.19.1)\n",
      "Requirement already satisfied: pandas>=0.21 in /opt/conda/lib/python3.8/site-packages (from statsmodels) (1.1.2)\n",
      "Requirement already satisfied: scipy>=1.1 in /opt/conda/lib/python3.8/site-packages (from statsmodels) (1.5.2)\n",
      "Requirement already satisfied: patsy>=0.5 in /opt/conda/lib/python3.8/site-packages (from statsmodels) (0.5.1)\n",
      "Requirement already satisfied: pytz>=2017.2 in /opt/conda/lib/python3.8/site-packages (from pandas>=0.21->statsmodels) (2020.1)\n",
      "Requirement already satisfied: python-dateutil>=2.7.3 in /opt/conda/lib/python3.8/site-packages (from pandas>=0.21->statsmodels) (2.8.1)\n",
      "Requirement already satisfied: six in /opt/conda/lib/python3.8/site-packages (from patsy>=0.5->statsmodels) (1.15.0)\n",
      "Note: you may need to restart the kernel to use updated packages.\n"
     ]
    }
   ],
   "source": [
    "pip install statsmodels"
   ]
  },
  {
   "cell_type": "code",
   "execution_count": 8,
   "metadata": {},
   "outputs": [
    {
     "name": "stdout",
     "output_type": "stream",
     "text": [
      "Collecting sklearn\n",
      "  Downloading sklearn-0.0.tar.gz (1.1 kB)\n",
      "Requirement already satisfied: scikit-learn in /opt/conda/lib/python3.8/site-packages (from sklearn) (0.23.2)\n",
      "Requirement already satisfied: scipy>=0.19.1 in /opt/conda/lib/python3.8/site-packages (from scikit-learn->sklearn) (1.5.2)\n",
      "Requirement already satisfied: numpy>=1.13.3 in /opt/conda/lib/python3.8/site-packages (from scikit-learn->sklearn) (1.19.1)\n",
      "Requirement already satisfied: threadpoolctl>=2.0.0 in /opt/conda/lib/python3.8/site-packages (from scikit-learn->sklearn) (2.1.0)\n",
      "Requirement already satisfied: joblib>=0.11 in /opt/conda/lib/python3.8/site-packages (from scikit-learn->sklearn) (0.17.0)\n",
      "Building wheels for collected packages: sklearn\n",
      "  Building wheel for sklearn (setup.py) ... \u001b[?25ldone\n",
      "\u001b[?25h  Created wheel for sklearn: filename=sklearn-0.0-py2.py3-none-any.whl size=1316 sha256=4b629b78cb8393a4756127591c87fb73f0d2e43e46529d2b16fd008ea5000505\n",
      "  Stored in directory: /home/jovyan/.cache/pip/wheels/22/0b/40/fd3f795caaa1fb4c6cb738bc1f56100be1e57da95849bfc897\n",
      "Successfully built sklearn\n",
      "Installing collected packages: sklearn\n",
      "Successfully installed sklearn-0.0\n",
      "Note: you may need to restart the kernel to use updated packages.\n"
     ]
    }
   ],
   "source": [
    "pip install sklearn"
   ]
  },
  {
   "cell_type": "code",
   "execution_count": 9,
   "metadata": {},
   "outputs": [
    {
     "name": "stdout",
     "output_type": "stream",
     "text": [
      "Requirement already satisfied: seaborn in /opt/conda/lib/python3.8/site-packages (0.11.0)\n",
      "Requirement already satisfied: scipy>=1.0 in /opt/conda/lib/python3.8/site-packages (from seaborn) (1.5.2)\n",
      "Requirement already satisfied: matplotlib>=2.2 in /opt/conda/lib/python3.8/site-packages (from seaborn) (3.3.2)\n",
      "Requirement already satisfied: numpy>=1.15 in /opt/conda/lib/python3.8/site-packages (from seaborn) (1.19.1)\n",
      "Requirement already satisfied: pandas>=0.23 in /opt/conda/lib/python3.8/site-packages (from seaborn) (1.1.2)\n",
      "Requirement already satisfied: certifi>=2020.06.20 in /opt/conda/lib/python3.8/site-packages (from matplotlib>=2.2->seaborn) (2020.6.20)\n",
      "Requirement already satisfied: cycler>=0.10 in /opt/conda/lib/python3.8/site-packages (from matplotlib>=2.2->seaborn) (0.10.0)\n",
      "Requirement already satisfied: python-dateutil>=2.1 in /opt/conda/lib/python3.8/site-packages (from matplotlib>=2.2->seaborn) (2.8.1)\n",
      "Requirement already satisfied: pyparsing!=2.0.4,!=2.1.2,!=2.1.6,>=2.0.3 in /opt/conda/lib/python3.8/site-packages (from matplotlib>=2.2->seaborn) (2.4.7)\n",
      "Requirement already satisfied: pillow>=6.2.0 in /opt/conda/lib/python3.8/site-packages (from matplotlib>=2.2->seaborn) (7.2.0)\n",
      "Requirement already satisfied: kiwisolver>=1.0.1 in /opt/conda/lib/python3.8/site-packages (from matplotlib>=2.2->seaborn) (1.2.0)\n",
      "Requirement already satisfied: pytz>=2017.2 in /opt/conda/lib/python3.8/site-packages (from pandas>=0.23->seaborn) (2020.1)\n",
      "Requirement already satisfied: six in /opt/conda/lib/python3.8/site-packages (from cycler>=0.10->matplotlib>=2.2->seaborn) (1.15.0)\n",
      "Note: you may need to restart the kernel to use updated packages.\n"
     ]
    }
   ],
   "source": [
    "pip install seaborn"
   ]
  },
  {
   "cell_type": "markdown",
   "metadata": {},
   "source": [
    "## Documentation and Help System\n",
    "\n",
    "Python comes along with a built-in help system. To call help on a particular \"object\", try running <tt>help(\"objectname\")</tt>:"
   ]
  },
  {
   "cell_type": "code",
   "execution_count": 10,
   "metadata": {},
   "outputs": [
    {
     "name": "stdout",
     "output_type": "stream",
     "text": [
      "Help on built-in function print in module builtins:\n",
      "\n",
      "print(...)\n",
      "    print(value, ..., sep=' ', end='\\n', file=sys.stdout, flush=False)\n",
      "    \n",
      "    Prints the values to a stream, or to sys.stdout by default.\n",
      "    Optional keyword arguments:\n",
      "    file:  a file-like object (stream); defaults to the current sys.stdout.\n",
      "    sep:   string inserted between values, default a space.\n",
      "    end:   string appended after the last value, default a newline.\n",
      "    flush: whether to forcibly flush the stream.\n",
      "\n"
     ]
    }
   ],
   "source": [
    "help(\"print\")"
   ]
  },
  {
   "cell_type": "markdown",
   "metadata": {},
   "source": [
    "If the built-in help is insufficient to assist you, we recommend querying a common web search engine. For example enter \"Python3 print example\" or similar in order to find assistance."
   ]
  },
  {
   "cell_type": "markdown",
   "metadata": {},
   "source": [
    "## Pocket Calculator\n",
    "\n",
    "Python can be used as a simple pocket calculator for addition, subtraction, multiplication and division. Also logarithms et cetera are calculated easily:"
   ]
  },
  {
   "cell_type": "code",
   "execution_count": 11,
   "metadata": {},
   "outputs": [
    {
     "name": "stdout",
     "output_type": "stream",
     "text": [
      "11\n",
      "6\n",
      "5\n",
      "5.0\n"
     ]
    }
   ],
   "source": [
    "print(4+7)\n",
    "print(3*2)\n",
    "print(6-1)\n",
    "print(10/2)"
   ]
  },
  {
   "cell_type": "markdown",
   "metadata": {},
   "source": [
    "For slightly more complex tasks, you will need to import a math library. We recommend Numpy:"
   ]
  },
  {
   "cell_type": "code",
   "execution_count": 12,
   "metadata": {},
   "outputs": [],
   "source": [
    "import numpy as np"
   ]
  },
  {
   "cell_type": "code",
   "execution_count": 13,
   "metadata": {},
   "outputs": [
    {
     "name": "stdout",
     "output_type": "stream",
     "text": [
      "0.6931471805599453\n",
      "0.3010299956639812\n",
      "7.38905609893065\n"
     ]
    }
   ],
   "source": [
    "print(np.log(2)) # natural logarithm\n",
    "print(np.log10(2)) # base 10 logarithm\n",
    "print(np.exp(2)) # e^1"
   ]
  },
  {
   "cell_type": "markdown",
   "metadata": {},
   "source": [
    "If you attempt to perform an impossible operation, Python will warn you and produce an \"nan\", which means \"not a number\":"
   ]
  },
  {
   "cell_type": "code",
   "execution_count": 14,
   "metadata": {},
   "outputs": [
    {
     "name": "stderr",
     "output_type": "stream",
     "text": [
      "<ipython-input-14-0cd3490738d5>:1: RuntimeWarning: invalid value encountered in log\n",
      "  np.log(-1)\n"
     ]
    },
    {
     "data": {
      "text/plain": [
       "nan"
      ]
     },
     "execution_count": 14,
     "metadata": {},
     "output_type": "execute_result"
    }
   ],
   "source": [
    "np.log(-1)"
   ]
  },
  {
   "cell_type": "markdown",
   "metadata": {},
   "source": [
    "You can store values, e.g. numbers, in variables:"
   ]
  },
  {
   "cell_type": "code",
   "execution_count": 15,
   "metadata": {},
   "outputs": [
    {
     "name": "stdout",
     "output_type": "stream",
     "text": [
      "17956\n"
     ]
    }
   ],
   "source": [
    "a = 89\n",
    "b = 45\n",
    "result = (a+b)**2 # **2 is to the power of 2\n",
    "print(result)"
   ]
  },
  {
   "cell_type": "markdown",
   "metadata": {},
   "source": [
    "<font size=\"3\"><div class=\"alert alert-warning\"><b>Exercise 1.1:</b> <br> \n",
    "    \n",
    "Compute in Python the second binomial formula $$(a-b)^{2}$$ using a = 12 and b = 7. Create the objects a and b! Save the result in a variable!\n",
    "    \n",
    "</div>\n",
    "\n",
    "<b>Try it yourself:</b></font>"
   ]
  },
  {
   "cell_type": "code",
   "execution_count": null,
   "metadata": {},
   "outputs": [],
   "source": []
  },
  {
   "cell_type": "markdown",
   "metadata": {},
   "source": [
    "**Example Solution:**"
   ]
  },
  {
   "cell_type": "code",
   "execution_count": 16,
   "metadata": {},
   "outputs": [
    {
     "name": "stdout",
     "output_type": "stream",
     "text": [
      "25\n"
     ]
    }
   ],
   "source": [
    "a = 12\n",
    "b = 7\n",
    "c = (a-b)**2\n",
    "print(c)"
   ]
  },
  {
   "cell_type": "markdown",
   "metadata": {},
   "source": [
    "Objects will be overwritten without any warning. A definite name avoids this to a certain extent, e.g. \n",
    "**binom.formula.of.a.b** instead of **result**. Even functions can be overwritten with object names easily. The safest method is therefore to enter the name of interest into the Python Console or a Notebook cell. If there is a function with this name existing, it will be returned, e.g.:"
   ]
  },
  {
   "cell_type": "code",
   "execution_count": 17,
   "metadata": {},
   "outputs": [
    {
     "data": {
      "text/plain": [
       "<function print>"
      ]
     },
     "execution_count": 17,
     "metadata": {},
     "output_type": "execute_result"
    }
   ],
   "source": [
    "print"
   ]
  },
  {
   "cell_type": "code",
   "execution_count": 18,
   "metadata": {},
   "outputs": [
    {
     "ename": "NameError",
     "evalue": "name 'polarbear' is not defined",
     "output_type": "error",
     "traceback": [
      "\u001b[0;31m\u001b[0m",
      "\u001b[0;31mNameError\u001b[0mTraceback (most recent call last)",
      "\u001b[0;32m<ipython-input-18-c5317870eb3f>\u001b[0m in \u001b[0;36m<module>\u001b[0;34m\u001b[0m\n\u001b[0;32m----> 1\u001b[0;31m \u001b[0mpolarbear\u001b[0m \u001b[0;31m# does not exist, feel free to use this as a new object name\u001b[0m\u001b[0;34m\u001b[0m\u001b[0;34m\u001b[0m\u001b[0m\n\u001b[0m",
      "\u001b[0;31mNameError\u001b[0m: name 'polarbear' is not defined"
     ]
    }
   ],
   "source": [
    "polarbear # does not exist, feel free to use this as a new object name"
   ]
  },
  {
   "cell_type": "markdown",
   "metadata": {},
   "source": [
    "Some good practice for choosing variable, object, function and method names:\n",
    "\n",
    "  * do not begin with a number, do not begin with a dot\n",
    "  \n",
    "  * avoid special characters as e.g. ~, @, !, #, %, & \n",
    "  \n",
    "  * upper and lower cases have to be considered\n",
    "  \n",
    "  * choose names that make sense, i.e. have a meaning for humans"
   ]
  },
  {
   "cell_type": "markdown",
   "metadata": {},
   "source": [
    "## Data Types\n",
    "\n",
    "Python supports many data types, here are some of the most commonly used ones:"
   ]
  },
  {
   "cell_type": "code",
   "execution_count": 19,
   "metadata": {},
   "outputs": [
    {
     "name": "stdout",
     "output_type": "stream",
     "text": [
      "<class 'int'>\n",
      "<class 'float'>\n",
      "<class 'str'>\n",
      "<class 'bool'>\n"
     ]
    }
   ],
   "source": [
    "print(type(2))          # integer\n",
    "print(type(5.2))        # float\n",
    "print(type(\"hello\"))    # string\n",
    "print(type(True))       # boolean"
   ]
  },
  {
   "cell_type": "markdown",
   "metadata": {},
   "source": [
    "Python auto-types variables upon value assignment, and it also auto-converts otherwise incompatible data types. We thus do not need to worry much about data types in the field of statistics."
   ]
  },
  {
   "cell_type": "markdown",
   "metadata": {},
   "source": [
    "## Data Structures\n",
    "\n",
    "Some of the must fundamentel built-in data structures are tuples (immutable), lists (mutable) and dicts (key-value, mutable):"
   ]
  },
  {
   "cell_type": "code",
   "execution_count": 20,
   "metadata": {},
   "outputs": [
    {
     "name": "stdout",
     "output_type": "stream",
     "text": [
      "(5, 6, 1)\n"
     ]
    },
    {
     "ename": "TypeError",
     "evalue": "'tuple' object does not support item assignment",
     "output_type": "error",
     "traceback": [
      "\u001b[0;31m\u001b[0m",
      "\u001b[0;31mTypeError\u001b[0mTraceback (most recent call last)",
      "\u001b[0;32m<ipython-input-20-0aff5d0eab8c>\u001b[0m in \u001b[0;36m<module>\u001b[0;34m\u001b[0m\n\u001b[1;32m      1\u001b[0m \u001b[0mmy_tuple\u001b[0m \u001b[0;34m=\u001b[0m \u001b[0;34m(\u001b[0m\u001b[0;36m5\u001b[0m\u001b[0;34m,\u001b[0m\u001b[0;36m6\u001b[0m\u001b[0;34m,\u001b[0m\u001b[0;36m1\u001b[0m\u001b[0;34m)\u001b[0m  \u001b[0;31m# tuples are initialized with round brackets\u001b[0m\u001b[0;34m\u001b[0m\u001b[0;34m\u001b[0m\u001b[0m\n\u001b[1;32m      2\u001b[0m \u001b[0mprint\u001b[0m\u001b[0;34m(\u001b[0m\u001b[0mmy_tuple\u001b[0m\u001b[0;34m)\u001b[0m\u001b[0;34m\u001b[0m\u001b[0;34m\u001b[0m\u001b[0m\n\u001b[0;32m----> 3\u001b[0;31m \u001b[0mmy_tuple\u001b[0m\u001b[0;34m[\u001b[0m\u001b[0;36m0\u001b[0m\u001b[0;34m]\u001b[0m \u001b[0;34m=\u001b[0m \u001b[0;36m2\u001b[0m     \u001b[0;31m# tuples are immutable, the attempt to change the first value will fail\u001b[0m\u001b[0;34m\u001b[0m\u001b[0;34m\u001b[0m\u001b[0m\n\u001b[0m",
      "\u001b[0;31mTypeError\u001b[0m: 'tuple' object does not support item assignment"
     ]
    }
   ],
   "source": [
    "my_tuple = (5,6,1)  # tuples are initialized with round brackets\n",
    "print(my_tuple)\n",
    "my_tuple[0] = 2     # tuples are immutable, the attempt to change the first value will fail"
   ]
  },
  {
   "cell_type": "code",
   "execution_count": 21,
   "metadata": {},
   "outputs": [
    {
     "name": "stdout",
     "output_type": "stream",
     "text": [
      "['a', 'b', 1]\n",
      "['z', 'b', 1]\n"
     ]
    }
   ],
   "source": [
    "my_list = [\"a\", \"b\", 1] # lists are initialized with edgy brackets\n",
    "print(my_list)\n",
    "my_list[0] = \"z\" # lists are mutable\n",
    "print(my_list) "
   ]
  },
  {
   "cell_type": "code",
   "execution_count": 22,
   "metadata": {},
   "outputs": [
    {
     "name": "stdout",
     "output_type": "stream",
     "text": [
      "{'key1': 'value 1', 'key2': 3, 84: True}\n",
      "{'key1': 'value 1', 'key2': 3, 84: True, 'key4': False}\n"
     ]
    }
   ],
   "source": [
    "my_dict = {\"key1\" : \"value 1\", \"key2\" : 3, 84 : True} # dicts are initialized with curley brackets\n",
    "print(my_dict)\n",
    "my_dict[\"key4\"] = False # dicts are mutable\n",
    "print(my_dict)"
   ]
  },
  {
   "cell_type": "markdown",
   "metadata": {},
   "source": [
    "Numpy, the library that allows us to perform many math operations, comes along with an array data structure:"
   ]
  },
  {
   "cell_type": "code",
   "execution_count": 23,
   "metadata": {},
   "outputs": [
    {
     "name": "stdout",
     "output_type": "stream",
     "text": [
      "[[1 2 3]\n",
      " [4 5 6]]\n",
      "[[ 1  2  3]\n",
      " [ 4  5 10]]\n"
     ]
    }
   ],
   "source": [
    "A = np.array([[1, 2, 3],[4, 5, 6]]) # a 2x3 matrix = 2-dim array\n",
    "print(A)\n",
    "A[1,2] = 10 # mutating second row (1) and third column (3)\n",
    "print(A)"
   ]
  },
  {
   "cell_type": "markdown",
   "metadata": {},
   "source": [
    "For statistics, the Pandas data frame is an essential data structure, it allows us to easily import tables it Python. For using Pandas, you first have to import:"
   ]
  },
  {
   "cell_type": "code",
   "execution_count": 24,
   "metadata": {},
   "outputs": [],
   "source": [
    "import pandas as pd"
   ]
  },
  {
   "cell_type": "code",
   "execution_count": 25,
   "metadata": {},
   "outputs": [
    {
     "data": {
      "text/html": [
       "<div>\n",
       "<style scoped>\n",
       "    .dataframe tbody tr th:only-of-type {\n",
       "        vertical-align: middle;\n",
       "    }\n",
       "\n",
       "    .dataframe tbody tr th {\n",
       "        vertical-align: top;\n",
       "    }\n",
       "\n",
       "    .dataframe thead th {\n",
       "        text-align: right;\n",
       "    }\n",
       "</style>\n",
       "<table border=\"1\" class=\"dataframe\">\n",
       "  <thead>\n",
       "    <tr style=\"text-align: right;\">\n",
       "      <th></th>\n",
       "      <th>variety</th>\n",
       "      <th>yield</th>\n",
       "    </tr>\n",
       "  </thead>\n",
       "  <tbody>\n",
       "    <tr>\n",
       "      <th>0</th>\n",
       "      <td>A</td>\n",
       "      <td>25.12</td>\n",
       "    </tr>\n",
       "    <tr>\n",
       "      <th>1</th>\n",
       "      <td>A</td>\n",
       "      <td>17.25</td>\n",
       "    </tr>\n",
       "    <tr>\n",
       "      <th>2</th>\n",
       "      <td>A</td>\n",
       "      <td>26.42</td>\n",
       "    </tr>\n",
       "    <tr>\n",
       "      <th>3</th>\n",
       "      <td>A</td>\n",
       "      <td>16.08</td>\n",
       "    </tr>\n",
       "    <tr>\n",
       "      <th>4</th>\n",
       "      <td>A</td>\n",
       "      <td>22.15</td>\n",
       "    </tr>\n",
       "    <tr>\n",
       "      <th>5</th>\n",
       "      <td>A</td>\n",
       "      <td>15.92</td>\n",
       "    </tr>\n",
       "    <tr>\n",
       "      <th>6</th>\n",
       "      <td>B</td>\n",
       "      <td>40.25</td>\n",
       "    </tr>\n",
       "    <tr>\n",
       "      <th>7</th>\n",
       "      <td>B</td>\n",
       "      <td>35.25</td>\n",
       "    </tr>\n",
       "    <tr>\n",
       "      <th>8</th>\n",
       "      <td>B</td>\n",
       "      <td>31.98</td>\n",
       "    </tr>\n",
       "    <tr>\n",
       "      <th>9</th>\n",
       "      <td>B</td>\n",
       "      <td>36.52</td>\n",
       "    </tr>\n",
       "    <tr>\n",
       "      <th>10</th>\n",
       "      <td>B</td>\n",
       "      <td>43.32</td>\n",
       "    </tr>\n",
       "    <tr>\n",
       "      <th>11</th>\n",
       "      <td>B</td>\n",
       "      <td>37.10</td>\n",
       "    </tr>\n",
       "    <tr>\n",
       "      <th>12</th>\n",
       "      <td>C</td>\n",
       "      <td>18.30</td>\n",
       "    </tr>\n",
       "    <tr>\n",
       "      <th>13</th>\n",
       "      <td>C</td>\n",
       "      <td>22.60</td>\n",
       "    </tr>\n",
       "    <tr>\n",
       "      <th>14</th>\n",
       "      <td>C</td>\n",
       "      <td>25.90</td>\n",
       "    </tr>\n",
       "    <tr>\n",
       "      <th>15</th>\n",
       "      <td>C</td>\n",
       "      <td>15.05</td>\n",
       "    </tr>\n",
       "    <tr>\n",
       "      <th>16</th>\n",
       "      <td>C</td>\n",
       "      <td>11.42</td>\n",
       "    </tr>\n",
       "    <tr>\n",
       "      <th>17</th>\n",
       "      <td>C</td>\n",
       "      <td>23.68</td>\n",
       "    </tr>\n",
       "    <tr>\n",
       "      <th>18</th>\n",
       "      <td>D</td>\n",
       "      <td>28.55</td>\n",
       "    </tr>\n",
       "    <tr>\n",
       "      <th>19</th>\n",
       "      <td>D</td>\n",
       "      <td>28.05</td>\n",
       "    </tr>\n",
       "    <tr>\n",
       "      <th>20</th>\n",
       "      <td>D</td>\n",
       "      <td>33.20</td>\n",
       "    </tr>\n",
       "    <tr>\n",
       "      <th>21</th>\n",
       "      <td>D</td>\n",
       "      <td>31.68</td>\n",
       "    </tr>\n",
       "    <tr>\n",
       "      <th>22</th>\n",
       "      <td>D</td>\n",
       "      <td>30.32</td>\n",
       "    </tr>\n",
       "    <tr>\n",
       "      <th>23</th>\n",
       "      <td>D</td>\n",
       "      <td>27.58</td>\n",
       "    </tr>\n",
       "  </tbody>\n",
       "</table>\n",
       "</div>"
      ],
      "text/plain": [
       "   variety  yield\n",
       "0        A  25.12\n",
       "1        A  17.25\n",
       "2        A  26.42\n",
       "3        A  16.08\n",
       "4        A  22.15\n",
       "5        A  15.92\n",
       "6        B  40.25\n",
       "7        B  35.25\n",
       "8        B  31.98\n",
       "9        B  36.52\n",
       "10       B  43.32\n",
       "11       B  37.10\n",
       "12       C  18.30\n",
       "13       C  22.60\n",
       "14       C  25.90\n",
       "15       C  15.05\n",
       "16       C  11.42\n",
       "17       C  23.68\n",
       "18       D  28.55\n",
       "19       D  28.05\n",
       "20       D  33.20\n",
       "21       D  31.68\n",
       "22       D  30.32\n",
       "23       D  27.58"
      ]
     },
     "execution_count": 25,
     "metadata": {},
     "output_type": "execute_result"
    }
   ],
   "source": [
    "melon = pd.read_csv('data/melon.csv', sep='\\t')\n",
    "melon"
   ]
  },
  {
   "cell_type": "markdown",
   "metadata": {},
   "source": [
    "<font size=\"3\"><div class=\"alert alert-warning\"><b>Exercise 1.2:</b> <br> \n",
    "\n",
    "*Brassica campestris*, also known as \"Wisconsin Fast Plant\", has a rapid growth cycle. Therefore, this\n",
    "model plant is particularly suitable for experiments that determine factors which in\n",
    "uence plant growth. In a study, seven plants were treated with ancymidol (<tt>ancy</tt>), eight plants served as <tt>control</tt> and were treated with water, instead. Ancymidol is a growth inhibitor and is used as a herbicide. The height of all plants was measured after 14 days (cm). Part of the data set is contained in <tt>data/brassica.csv</tt>. Import the data into a pandas data frame <tt>brassica</tt>.\n",
    "    \n",
    "</div>\n",
    "\n",
    "<b>Try it yourself:</b></font>"
   ]
  },
  {
   "cell_type": "code",
   "execution_count": null,
   "metadata": {},
   "outputs": [],
   "source": []
  },
  {
   "cell_type": "markdown",
   "metadata": {},
   "source": [
    "**Example Solution:**"
   ]
  },
  {
   "cell_type": "code",
   "execution_count": 26,
   "metadata": {},
   "outputs": [
    {
     "data": {
      "text/html": [
       "<div>\n",
       "<style scoped>\n",
       "    .dataframe tbody tr th:only-of-type {\n",
       "        vertical-align: middle;\n",
       "    }\n",
       "\n",
       "    .dataframe tbody tr th {\n",
       "        vertical-align: top;\n",
       "    }\n",
       "\n",
       "    .dataframe thead th {\n",
       "        text-align: right;\n",
       "    }\n",
       "</style>\n",
       "<table border=\"1\" class=\"dataframe\">\n",
       "  <thead>\n",
       "    <tr style=\"text-align: right;\">\n",
       "      <th></th>\n",
       "      <th>group</th>\n",
       "      <th>height</th>\n",
       "    </tr>\n",
       "  </thead>\n",
       "  <tbody>\n",
       "    <tr>\n",
       "      <th>0</th>\n",
       "      <td>control</td>\n",
       "      <td>10.0</td>\n",
       "    </tr>\n",
       "    <tr>\n",
       "      <th>1</th>\n",
       "      <td>control</td>\n",
       "      <td>13.2</td>\n",
       "    </tr>\n",
       "    <tr>\n",
       "      <th>2</th>\n",
       "      <td>control</td>\n",
       "      <td>19.8</td>\n",
       "    </tr>\n",
       "    <tr>\n",
       "      <th>3</th>\n",
       "      <td>control</td>\n",
       "      <td>19.3</td>\n",
       "    </tr>\n",
       "    <tr>\n",
       "      <th>4</th>\n",
       "      <td>control</td>\n",
       "      <td>21.2</td>\n",
       "    </tr>\n",
       "    <tr>\n",
       "      <th>5</th>\n",
       "      <td>control</td>\n",
       "      <td>13.9</td>\n",
       "    </tr>\n",
       "    <tr>\n",
       "      <th>6</th>\n",
       "      <td>control</td>\n",
       "      <td>20.3</td>\n",
       "    </tr>\n",
       "    <tr>\n",
       "      <th>7</th>\n",
       "      <td>control</td>\n",
       "      <td>9.6</td>\n",
       "    </tr>\n",
       "    <tr>\n",
       "      <th>8</th>\n",
       "      <td>ancy</td>\n",
       "      <td>13.2</td>\n",
       "    </tr>\n",
       "    <tr>\n",
       "      <th>9</th>\n",
       "      <td>ancy</td>\n",
       "      <td>19.5</td>\n",
       "    </tr>\n",
       "    <tr>\n",
       "      <th>10</th>\n",
       "      <td>ancy</td>\n",
       "      <td>11.0</td>\n",
       "    </tr>\n",
       "    <tr>\n",
       "      <th>11</th>\n",
       "      <td>ancy</td>\n",
       "      <td>5.8</td>\n",
       "    </tr>\n",
       "    <tr>\n",
       "      <th>12</th>\n",
       "      <td>ancy</td>\n",
       "      <td>12.8</td>\n",
       "    </tr>\n",
       "    <tr>\n",
       "      <th>13</th>\n",
       "      <td>ancy</td>\n",
       "      <td>7.1</td>\n",
       "    </tr>\n",
       "    <tr>\n",
       "      <th>14</th>\n",
       "      <td>ancy</td>\n",
       "      <td>7.7</td>\n",
       "    </tr>\n",
       "  </tbody>\n",
       "</table>\n",
       "</div>"
      ],
      "text/plain": [
       "      group  height\n",
       "0   control    10.0\n",
       "1   control    13.2\n",
       "2   control    19.8\n",
       "3   control    19.3\n",
       "4   control    21.2\n",
       "5   control    13.9\n",
       "6   control    20.3\n",
       "7   control     9.6\n",
       "8      ancy    13.2\n",
       "9      ancy    19.5\n",
       "10     ancy    11.0\n",
       "11     ancy     5.8\n",
       "12     ancy    12.8\n",
       "13     ancy     7.1\n",
       "14     ancy     7.7"
      ]
     },
     "execution_count": 26,
     "metadata": {},
     "output_type": "execute_result"
    }
   ],
   "source": [
    "brassica = pd.read_csv('data/brassica.csv', sep='\\t')\n",
    "brassica"
   ]
  },
  {
   "cell_type": "markdown",
   "metadata": {},
   "source": [
    "Just as easily as importing data sets, you can export pandas dataframes to csv format:"
   ]
  },
  {
   "cell_type": "code",
   "execution_count": 27,
   "metadata": {},
   "outputs": [],
   "source": [
    "melon.to_csv(r'data/melon2.csv', index = False, sep = \"\\t\", header = True)"
   ]
  },
  {
   "cell_type": "markdown",
   "metadata": {},
   "source": [
    "## Useful Functions for Generating Data\n",
    "\n",
    "Generating a sequence of numbers:"
   ]
  },
  {
   "cell_type": "code",
   "execution_count": 28,
   "metadata": {},
   "outputs": [
    {
     "name": "stdout",
     "output_type": "stream",
     "text": [
      "[0 1 2 3 4 5 6 7 8 9]\n"
     ]
    }
   ],
   "source": [
    "sequence = np.arange(0, 10, 1)  # start (included): 0, stop (excluded): 10, step:1\n",
    "print(sequence)"
   ]
  },
  {
   "cell_type": "markdown",
   "metadata": {},
   "source": [
    "Repeating array elements:"
   ]
  },
  {
   "cell_type": "code",
   "execution_count": 29,
   "metadata": {},
   "outputs": [
    {
     "name": "stdout",
     "output_type": "stream",
     "text": [
      "[3 3 3 3]\n"
     ]
    }
   ],
   "source": [
    "rep = np.repeat(3, 4)\n",
    "print(rep)"
   ]
  },
  {
   "cell_type": "code",
   "execution_count": 30,
   "metadata": {},
   "outputs": [
    {
     "name": "stdout",
     "output_type": "stream",
     "text": [
      "['A' 'A' 'B' 'B']\n"
     ]
    }
   ],
   "source": [
    "rep2 = np.repeat(np.array([\"A\", \"B\"]), 2)\n",
    "print(rep2)"
   ]
  },
  {
   "cell_type": "markdown",
   "metadata": {},
   "source": [
    "<font size=\"3\"><div class=\"alert alert-warning\"><b>Exercise 1.3:</b> <br> \n",
    "    \n",
    "Create an array with the content \"1,1,2,2,3,3,4,4,5,5\" in Python. Do not type all numbers twice!\n",
    "    \n",
    "</div>\n",
    "\n",
    "<b>Try it yourself:</b></font>"
   ]
  },
  {
   "cell_type": "code",
   "execution_count": null,
   "metadata": {},
   "outputs": [],
   "source": []
  },
  {
   "cell_type": "markdown",
   "metadata": {},
   "source": [
    "**Example Solution:**"
   ]
  },
  {
   "cell_type": "code",
   "execution_count": 31,
   "metadata": {},
   "outputs": [
    {
     "name": "stdout",
     "output_type": "stream",
     "text": [
      "[1 1 2 2 3 3 4 4 5 5]\n"
     ]
    }
   ],
   "source": [
    "Y = np.repeat(np.array([1,2,3,4,5]), 2)\n",
    "print(Y)"
   ]
  },
  {
   "cell_type": "markdown",
   "metadata": {},
   "source": [
    "<font size=\"3\"><div class=\"alert alert-warning\"><b>Exercise 1.4:</b> <br> \n",
    "    \n",
    "Create an object containing the reverse running numbers from 28 to 50!\n",
    "\n",
    "    \n",
    "</div>\n",
    "\n",
    "<b>Try it yourself:</b></font>"
   ]
  },
  {
   "cell_type": "code",
   "execution_count": null,
   "metadata": {},
   "outputs": [],
   "source": []
  },
  {
   "cell_type": "markdown",
   "metadata": {},
   "source": [
    "**Example Solution:**"
   ]
  },
  {
   "cell_type": "code",
   "execution_count": 32,
   "metadata": {},
   "outputs": [
    {
     "name": "stdout",
     "output_type": "stream",
     "text": [
      "[28 29 30 31 32 33 34 35 36 37 38 39 40 41 42 43 44 45 46 47 48 49 50]\n"
     ]
    }
   ],
   "source": [
    "Z = np.arange(28, 51, 1)\n",
    "print(Z)"
   ]
  },
  {
   "cell_type": "markdown",
   "metadata": {},
   "source": [
    "## Subsetting Data Structures\n",
    "\n",
    "In general, you can subset a single element by using edgy brackets (you have seen some examples above, already). There are two main things to be kept in mind:\n",
    "\n",
    "  * The index of elements is zero-based, i.e. the first element of a data structure has the index 0.\n",
    "  \n",
    "  * Rows come before columns (in terms of dimensions, e.g. for a 2D matrix or a data frame).\n",
    "  \n",
    "In the following, we will have a look at in particular the access to data in pandas data frames at the example of the melon data set."
   ]
  },
  {
   "cell_type": "code",
   "execution_count": 33,
   "metadata": {},
   "outputs": [
    {
     "name": "stdout",
     "output_type": "stream",
     "text": [
      "access lines 1 and 2, all columns:\n",
      "  variety  yield\n",
      "1       A  17.25\n",
      "2       A  26.42\n",
      "access a particular single value as scalar:\n",
      "17.25\n",
      "access a column by name:\n",
      "0     A\n",
      "1     A\n",
      "2     A\n",
      "3     A\n",
      "4     A\n",
      "5     A\n",
      "6     B\n",
      "7     B\n",
      "8     B\n",
      "9     B\n",
      "10    B\n",
      "11    B\n",
      "12    C\n",
      "13    C\n",
      "14    C\n",
      "15    C\n",
      "16    C\n",
      "17    C\n",
      "18    D\n",
      "19    D\n",
      "20    D\n",
      "21    D\n",
      "22    D\n",
      "23    D\n",
      "Name: variety, dtype: object\n",
      "find parts of dataframe where yield >37:\n",
      "   variety  yield\n",
      "6        B  40.25\n",
      "10       B  43.32\n",
      "11       B  37.10\n",
      "   variety  yield\n",
      "18       D  28.55\n",
      "19       D  28.05\n",
      "20       D  33.20\n",
      "21       D  31.68\n",
      "22       D  30.32\n",
      "23       D  27.58\n"
     ]
    }
   ],
   "source": [
    "print(\"access lines 1 and 2, all columns:\") # line index is 0-based\n",
    "print(melon.iloc[1:3,:])\n",
    "print(\"access a particular single value as scalar:\")\n",
    "print(melon.iloc[1,1])\n",
    "print(\"access a column by name:\")\n",
    "print(melon[\"variety\"])\n",
    "print(\"find parts of dataframe where yield >37:\")\n",
    "print(melon[melon['yield'] > 37])\n",
    "print(melon[melon['variety'] == 'D'])"
   ]
  },
  {
   "cell_type": "markdown",
   "metadata": {},
   "source": [
    "Recommended for further reading: Further reading: \n",
    "\n",
    "  * https://pandas.pydata.org/ \n",
    "  \n",
    "  * https://pandas.pydata.org/pandas-docs/stable/reference/api/pandas.read_csv.html"
   ]
  },
  {
   "cell_type": "markdown",
   "metadata": {},
   "source": [
    "<font size=\"3\"><div class=\"alert alert-warning\"><b>Exercise 1.5:</b> <br> \n",
    "    \n",
    "Create an array named X with values \"3,4,-5,7,8,12,10,4,-3\". What happens if you apply the following command: 1. <tt>X[X<0]</tt>\n",
    "    \n",
    "</div>\n",
    "\n",
    "<b>Try it yourself:</b></font>"
   ]
  },
  {
   "cell_type": "code",
   "execution_count": null,
   "metadata": {},
   "outputs": [],
   "source": []
  },
  {
   "cell_type": "markdown",
   "metadata": {},
   "source": [
    "**Example Solution:**"
   ]
  },
  {
   "cell_type": "code",
   "execution_count": 34,
   "metadata": {},
   "outputs": [
    {
     "name": "stdout",
     "output_type": "stream",
     "text": [
      "[-5 -3]\n"
     ]
    }
   ],
   "source": [
    "X = np.array([3,4,-5,7,8,12,10,4,-3])\n",
    "print(X[X<0])"
   ]
  },
  {
   "cell_type": "markdown",
   "metadata": {},
   "source": [
    "<font size=\"3\"><div class=\"alert alert-warning\"><b>Exercise 1.6:</b> <br> \n",
    "\n",
    "Show the following 'subsets' of data:\n",
    "    \n",
    "  [a] The third element of the array <tt>X = np.repeat(np.arange(1,6,1), 2)</tt>\n",
    "    \n",
    "  [b] The second row (index 1) of array <tt>mat = np.arange(1,13).reshape((3, 4))</tt>. Hint: if you want to indicate an entire row or column, use colon operator (:).\n",
    "    \n",
    "  [c] The first column in the above array.\n",
    "</div>\n",
    "\n",
    "<b>Try it yourself:</b></font>"
   ]
  },
  {
   "cell_type": "code",
   "execution_count": null,
   "metadata": {},
   "outputs": [],
   "source": []
  },
  {
   "cell_type": "markdown",
   "metadata": {},
   "source": [
    "**Example Solution:**"
   ]
  },
  {
   "cell_type": "code",
   "execution_count": 35,
   "metadata": {},
   "outputs": [
    {
     "name": "stdout",
     "output_type": "stream",
     "text": [
      "[1 1 2 2 3 3 4 4 5 5]\n",
      "2\n",
      "[[ 1  2  3  4]\n",
      " [ 5  6  7  8]\n",
      " [ 9 10 11 12]]\n",
      "[ 9 10 11 12]\n",
      "[1 5 9]\n"
     ]
    }
   ],
   "source": [
    "# a\n",
    "X = np.repeat(np.arange(1,6,1), 2)\n",
    "print(X)\n",
    "print(X[2])\n",
    "\n",
    "# b\n",
    "mat = np.arange(1,13).reshape((3, 4))\n",
    "print(mat)\n",
    "print(mat[2,:])\n",
    "\n",
    "# c\n",
    "print(mat[:,0])"
   ]
  },
  {
   "cell_type": "code",
   "execution_count": null,
   "metadata": {},
   "outputs": [],
   "source": []
  }
 ],
 "metadata": {
  "kernelspec": {
   "display_name": "Python 3",
   "language": "python",
   "name": "python3"
  },
  "language_info": {
   "codemirror_mode": {
    "name": "ipython",
    "version": 3
   },
   "file_extension": ".py",
   "mimetype": "text/x-python",
   "name": "python",
   "nbconvert_exporter": "python",
   "pygments_lexer": "ipython3",
   "version": "3.8.5"
  }
 },
 "nbformat": 4,
 "nbformat_minor": 5
}
