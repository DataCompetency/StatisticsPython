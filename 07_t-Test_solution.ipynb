{
 "cells": [
  {
   "cell_type": "markdown",
   "metadata": {},
   "source": [
    "# t-Test\n",
    "\n",
    "## Assumptions\n",
    "\n",
    "The parametric t-Test compares the mean of two samples.\n",
    "\n",
    "The \"classical\" **t-Test** is used with the following assumptions: \n",
    "\n",
    "   * **Approximate normal distribution of data** is read from the boxplots: The median lies in the middle of the box and both whiskers have an equal length (see ideal boxplot below figure,  watch each boxplot on its own!) The normal distribution results in continuity of data, e.g. temperatures measured in Kelvin or lengths measured in metres. For confirmation you can also perform a Kolmogorov-Smirnov-Test.\n",
    "   \n",
    "   * **Homogeneity of variances** is either read from the boxplots: The respective boxes including whiskers have the same length. Or the homogeneity of variances is checked with a statistical test (e.g. F-Test if data is normal distributed).\n",
    "   \n",
    "   * **Independence of data** is not fulfilled if one has e.g. taken data on the same fruit trees in two consecutive years. In vitro explants that originate in the same mother plant are not allowed to be treated as independent. "
   ]
  },
  {
   "cell_type": "code",
   "execution_count": 22,
   "metadata": {},
   "outputs": [
    {
     "data": {
      "image/png": "[encoded data removed]",
      "text/plain": [
       "<Figure size 864x576 with 1 Axes>"
      ]
     },
     "metadata": {
      "needs_background": "light"
     },
     "output_type": "display_data"
    }
   ],
   "source": [
    "import numpy as np\n",
    "import matplotlib.pyplot as plt\n",
    "import itertools\n",
    "import pandas as pd\n",
    "\n",
    "# draw two random samples from normal distribution\n",
    "np.random.seed(28041990) # makeing sure that we draw the same points each time we repeat\n",
    "s1 = np.random.normal(5, 2, 100)\n",
    "s2 = np.random.normal(3, 2, 100)\n",
    "\n",
    "# create a dataframe\n",
    "norm_dict = {\"group\" : list(itertools.chain.from_iterable(itertools.repeat(x, 100) for x in [\"A\"])) \n",
    "             + list(itertools.chain.from_iterable(itertools.repeat(x, 100) for x in [\"B\"])) \n",
    "             , \"value\" : np.concatenate((s1,s2))}\n",
    "ideal_pd = pd.DataFrame(data=norm_dict)\n",
    "\n",
    "# plot normal data with equal variance\n",
    "fig, ax = plt.subplots(figsize=(12,8))\n",
    "bp = ideal_pd.boxplot(column=['value'], by='group', fontsize='large', ax=ax)"
   ]
  },
  {
   "cell_type": "markdown",
   "metadata": {},
   "source": [
    "Ideally, you want to see equal length whiskers and no outliers. However, the above example shows that outliers, particularly evenly distributed ones, are \"kind of normal\" for data from a normal distribution!\n",
    "\n",
    "The **Welch t-test** is very similar to the \"classical\" t-Test. Assumptions are normal distribution as well as independence of data. But the Welch t-test is more tolerant to heterogeneity in variances.\n",
    "\n",
    "A **paired t-Test** implies:\n",
    "\n",
    "   * **Paired data**: A paired sample results from e.g. the investigation of the effect of two insecticides on different branches of the same tree.\n",
    "   \n",
    "   * **Normal distribution of the differences in mean** (Boxplot).\n",
    "\n",
    "## Implementation\n",
    "\n",
    "### The Function <tt>stats.ttest_ind()</tt> for Independent Samples\n",
    "\n",
    "The following functions returns test statistic and p-value:\n",
    "\n",
    "    stats.ttest_ind(x, y, equal_var = True, alternative = \"two-sided\")\n",
    "    \n",
    "<tt>x</tt> and <tt>t</tt> are expected to be numpy arrays. For a *classical* t-test, the default argument <tt>equal_var = True</tt> is correct. For a *Welch t-test* you need to switch this to <tt>False</tt>. Instead of a two-sided test, you can of course perfom a test with alternative hypothesis <tt>less</tt> or <tt>greater</tt>.\n",
    "\n",
    "### Computing Confidence Intervals for Independent Samples\n",
    "\n",
    "Confidence intervals need to be computed separately, and now it gets seemingly a bit complicated. First, we need to understand how\n",
    "\n",
    "    statsmodels.stats.weightstats.CompareMeans.tconfint_diff(alpha, alternative = \"two-sided\", usevar = \"pooled\")\n",
    "    \n",
    "works. Regerattably, this function has different keywords compared to the previous. The $\\alpha$-error should be float. <tt>alternative</tt> could instead be <tt>larger</tt> or <tt>smaller</tt>. <tt>uservar</tt> can be <tt>unequal</tt> for a Welch t-test.\n",
    "\n",
    "Actually computing the confidence interval requires that you use the function\n",
    "\n",
    "    statsmodels.stats.api.CompareMeans(Descr1, Descr2).tconfint_diff()\n",
    "    \n",
    "where <tt>Descr1</tt> and <tt>Descr2</tt> are an object of <tt>statsmodels.stats.api.DescrStatsW(X)</tt> that accepts a numpy array <tt>X</tt> with the values of your sample. It sounds a lot worse than it is in reality...\n",
    "\n",
    "### Paired t-Test with <tt>stats.ttest_rel()</tt>\n",
    "\n",
    "For paired samples, use this function:\n",
    "\n",
    "    stats.ttest_rel(x, y, alternative = \"two.sided\")\n",
    "\n",
    "The usage is similar to <tt>stats.ttest_ind()</tt>.\n",
    "\n",
    "\n",
    "## Example \"Wisconsin Fast Plant\" (2)\n",
    "\n",
    "Referring to data given in the Introduction (01), the question is now whether the two samples differ significantly in means ($\\alpha$ = 5%)."
   ]
  },
  {
   "cell_type": "code",
   "execution_count": 23,
   "metadata": {},
   "outputs": [
    {
     "data": {
      "text/html": [
       "<div>\n",
       "<style scoped>\n",
       "    .dataframe tbody tr th:only-of-type {\n",
       "        vertical-align: middle;\n",
       "    }\n",
       "\n",
       "    .dataframe tbody tr th {\n",
       "        vertical-align: top;\n",
       "    }\n",
       "\n",
       "    .dataframe thead th {\n",
       "        text-align: right;\n",
       "    }\n",
       "</style>\n",
       "<table border=\"1\" class=\"dataframe\">\n",
       "  <thead>\n",
       "    <tr style=\"text-align: right;\">\n",
       "      <th></th>\n",
       "      <th>group</th>\n",
       "      <th>height</th>\n",
       "    </tr>\n",
       "  </thead>\n",
       "  <tbody>\n",
       "    <tr>\n",
       "      <th>0</th>\n",
       "      <td>control</td>\n",
       "      <td>10.0</td>\n",
       "    </tr>\n",
       "    <tr>\n",
       "      <th>1</th>\n",
       "      <td>control</td>\n",
       "      <td>13.2</td>\n",
       "    </tr>\n",
       "    <tr>\n",
       "      <th>2</th>\n",
       "      <td>control</td>\n",
       "      <td>19.8</td>\n",
       "    </tr>\n",
       "    <tr>\n",
       "      <th>3</th>\n",
       "      <td>control</td>\n",
       "      <td>19.3</td>\n",
       "    </tr>\n",
       "    <tr>\n",
       "      <th>4</th>\n",
       "      <td>control</td>\n",
       "      <td>21.2</td>\n",
       "    </tr>\n",
       "    <tr>\n",
       "      <th>5</th>\n",
       "      <td>control</td>\n",
       "      <td>13.9</td>\n",
       "    </tr>\n",
       "    <tr>\n",
       "      <th>6</th>\n",
       "      <td>control</td>\n",
       "      <td>20.3</td>\n",
       "    </tr>\n",
       "    <tr>\n",
       "      <th>7</th>\n",
       "      <td>control</td>\n",
       "      <td>9.6</td>\n",
       "    </tr>\n",
       "    <tr>\n",
       "      <th>8</th>\n",
       "      <td>ancy</td>\n",
       "      <td>13.2</td>\n",
       "    </tr>\n",
       "    <tr>\n",
       "      <th>9</th>\n",
       "      <td>ancy</td>\n",
       "      <td>19.5</td>\n",
       "    </tr>\n",
       "    <tr>\n",
       "      <th>10</th>\n",
       "      <td>ancy</td>\n",
       "      <td>11.0</td>\n",
       "    </tr>\n",
       "    <tr>\n",
       "      <th>11</th>\n",
       "      <td>ancy</td>\n",
       "      <td>5.8</td>\n",
       "    </tr>\n",
       "    <tr>\n",
       "      <th>12</th>\n",
       "      <td>ancy</td>\n",
       "      <td>12.8</td>\n",
       "    </tr>\n",
       "    <tr>\n",
       "      <th>13</th>\n",
       "      <td>ancy</td>\n",
       "      <td>7.1</td>\n",
       "    </tr>\n",
       "    <tr>\n",
       "      <th>14</th>\n",
       "      <td>ancy</td>\n",
       "      <td>7.7</td>\n",
       "    </tr>\n",
       "  </tbody>\n",
       "</table>\n",
       "</div>"
      ],
      "text/plain": [
       "      group  height\n",
       "0   control    10.0\n",
       "1   control    13.2\n",
       "2   control    19.8\n",
       "3   control    19.3\n",
       "4   control    21.2\n",
       "5   control    13.9\n",
       "6   control    20.3\n",
       "7   control     9.6\n",
       "8      ancy    13.2\n",
       "9      ancy    19.5\n",
       "10     ancy    11.0\n",
       "11     ancy     5.8\n",
       "12     ancy    12.8\n",
       "13     ancy     7.1\n",
       "14     ancy     7.7"
      ]
     },
     "execution_count": 23,
     "metadata": {},
     "output_type": "execute_result"
    }
   ],
   "source": [
    "brassica = pd.read_csv('data/brassica.csv', sep='\\t')\n",
    "brassica"
   ]
  },
  {
   "cell_type": "markdown",
   "metadata": {},
   "source": [
    "## Statistical Analysis"
   ]
  },
  {
   "cell_type": "code",
   "execution_count": 24,
   "metadata": {},
   "outputs": [
    {
     "data": {
      "image/png": "[encoded data removed]",
      "text/plain": [
       "<Figure size 864x576 with 1 Axes>"
      ]
     },
     "metadata": {
      "needs_background": "light"
     },
     "output_type": "display_data"
    }
   ],
   "source": [
    "# plot data for inspection whether t-test is appropriate\n",
    "fig, ax = plt.subplots(figsize=(12,8))\n",
    "bp = brassica.boxplot(column=['height'], by='group', fontsize='large', ax=ax)"
   ]
  },
  {
   "cell_type": "markdown",
   "metadata": {},
   "source": [
    "   * Approximate **normal distribution** is accepted because the median is located in the middle of both boxes \n",
    "   \n",
    "   * Approximate **homogeneity of variances** because boxes/whiskers have similar length\n",
    "   \n",
    "   * **Continuous data** because height is indicated in cm\n",
    "   \n",
    "   * **Independency of data** because the plants were treated independent from each other.\n",
    "   \n",
    "$\\Longrightarrow$ Data is suiting for the analysis with a classical t-Test. Ancymidol is a growth repressor. Therefore, a one-sided test with the expectation that Ancymidol treated plants are smaller than the control group is calculated. Hypotheses:\n",
    "\n",
    "$$H_{0}: \\mu_{control} \\leq \\mu_{ancy}$$\n",
    "\n",
    "$$H_{1}: \\mu_{control} > \\mu_{ancy}$$"
   ]
  },
  {
   "cell_type": "code",
   "execution_count": 25,
   "metadata": {},
   "outputs": [
    {
     "name": "stdout",
     "output_type": "stream",
     "text": [
      "Confidence Interval:\n",
      "(0.5434019841709299, inf)\n"
     ]
    }
   ],
   "source": [
    "from scipy import stats\n",
    "import statsmodels.stats.api as sms # make everything a bit more concise with alias\n",
    "\n",
    "# spliting data into two arrays\n",
    "X1 = brassica[brassica['group'] == 'control']['height']\n",
    "X2 = brassica[brassica['group'] == 'ancy']['height']\n",
    "\n",
    "# compute classical t-test with one-sided hypothesis - note that this does not work on the University Hub at the moment!\n",
    "# print(\"t-Test:\")\n",
    "# print(stats.ttest_ind(X1, X2, equal_var=True, alternative=\"greater\"))\n",
    "\n",
    "# compute confidence interval\n",
    "print(\"Confidence Interval:\")\n",
    "print(sms.CompareMeans(sms.DescrStatsW(X1), sms.DescrStatsW(X2)).tconfint_diff(alpha=0.05, \n",
    "                                                                         alternative=\"larger\", usevar=\"pooled\"))"
   ]
  },
  {
   "cell_type": "markdown",
   "metadata": {},
   "source": [
    "The test statistic is 1.991913923866896. This value is usually compared to a table value but luckily we do not need to do this because we have a p-value of 0.03390732402203314 at hand. The p-value is compared to the respective $\\alpha$-error. The test result is significant if the p-value is smaller than $\\alpha$.\n",
    "\n",
    "<div class=\"alert alert-info\"><b>Careful:</b>$\\alpha$ must be set a priori before the test itself is calculated! </div>\n",
    "\n",
    "Here, the plants treated with Ancymidol are significantly shorter than the non treated control group because 0.03390732402203314 $<$ 0.5. The alternative hypothesis is accepted. \n",
    "\n",
    "The 95% confidence interval for the difference of the true parameters $\\mu_{control}$ - $\\mu_{ancy}$ is displayed. If the experiment was repeated infinite times, the true difference would be located within the respective confidence interval in 95% of all cases. However, there is no statement about the current experiment in it.\n",
    "\n",
    "<div class=\"alert alert-info\"><b>In practice:</b> If the confidence interval includes zero, the test result is counted as not significant. If the result is significant (zero not included), the difference to zero represents a measure of rejection of the H$_{0}$-hypothesis. The interval width accounts for scattering and the number of observations. In general, confidence intervals are displayed in the original data's dimension: in this example measurements in centimeteres. </div>\n",
    "\n",
    "The given confidence interval <tt>0.5434019841709299, inf</tt> indicates a significance to a confidence level of 0.95 because zero is excluded: $\\mu_{control}$ - $\\mu_{ancy}$ = 0 can be rejected with an error probability of 5%. More detailed, the confidence interval indicates that the control plants are at least 0.542402 cm higher than the Ancymidol treated plants. \n",
    "\n",
    "<font size=\"3\"><div class=\"alert alert-warning\"><b>Exercise 7.1:</b> <br> \n",
    "\n",
    "The infection of strawberries with small white worms leads to a reduction in harvest. It is possible to fight the parasite with disinfectants. An new additive is suspected to extend the effective period but side effects on the strawberry plants are still unknown. Five plots on a field have randomly been chosen to investigate the overall effect of the additive on strawberry plants. Each plot was randomly divided in two parts where one half was treated with the disinfectant without additive and the other half was treated with disinfectant and additive. The strawberry yield in presented in the code snipped below (Wonnacott and Wonnacott, 1990, p 273).\n",
    "\n",
    "Develop convenient working hypotheses. Is the data normal distributed and homogeneous in variances? Which test do you choose? Interpret the output! \n",
    "</div>"
   ]
  },
  {
   "cell_type": "code",
   "execution_count": 26,
   "metadata": {},
   "outputs": [
    {
     "data": {
      "text/html": [
       "<div>\n",
       "<style scoped>\n",
       "    .dataframe tbody tr th:only-of-type {\n",
       "        vertical-align: middle;\n",
       "    }\n",
       "\n",
       "    .dataframe tbody tr th {\n",
       "        vertical-align: top;\n",
       "    }\n",
       "\n",
       "    .dataframe thead th {\n",
       "        text-align: right;\n",
       "    }\n",
       "</style>\n",
       "<table border=\"1\" class=\"dataframe\">\n",
       "  <thead>\n",
       "    <tr style=\"text-align: right;\">\n",
       "      <th></th>\n",
       "      <th>treatment</th>\n",
       "      <th>response</th>\n",
       "    </tr>\n",
       "  </thead>\n",
       "  <tbody>\n",
       "    <tr>\n",
       "      <th>0</th>\n",
       "      <td>standard</td>\n",
       "      <td>109</td>\n",
       "    </tr>\n",
       "    <tr>\n",
       "      <th>1</th>\n",
       "      <td>standard</td>\n",
       "      <td>68</td>\n",
       "    </tr>\n",
       "    <tr>\n",
       "      <th>2</th>\n",
       "      <td>standard</td>\n",
       "      <td>82</td>\n",
       "    </tr>\n",
       "    <tr>\n",
       "      <th>3</th>\n",
       "      <td>standard</td>\n",
       "      <td>104</td>\n",
       "    </tr>\n",
       "    <tr>\n",
       "      <th>4</th>\n",
       "      <td>standard</td>\n",
       "      <td>93</td>\n",
       "    </tr>\n",
       "    <tr>\n",
       "      <th>5</th>\n",
       "      <td>additiv</td>\n",
       "      <td>107</td>\n",
       "    </tr>\n",
       "    <tr>\n",
       "      <th>6</th>\n",
       "      <td>additiv</td>\n",
       "      <td>72</td>\n",
       "    </tr>\n",
       "    <tr>\n",
       "      <th>7</th>\n",
       "      <td>additiv</td>\n",
       "      <td>88</td>\n",
       "    </tr>\n",
       "    <tr>\n",
       "      <th>8</th>\n",
       "      <td>additiv</td>\n",
       "      <td>101</td>\n",
       "    </tr>\n",
       "    <tr>\n",
       "      <th>9</th>\n",
       "      <td>additiv</td>\n",
       "      <td>97</td>\n",
       "    </tr>\n",
       "  </tbody>\n",
       "</table>\n",
       "</div>"
      ],
      "text/plain": [
       "  treatment  response\n",
       "0  standard       109\n",
       "1  standard        68\n",
       "2  standard        82\n",
       "3  standard       104\n",
       "4  standard        93\n",
       "5   additiv       107\n",
       "6   additiv        72\n",
       "7   additiv        88\n",
       "8   additiv       101\n",
       "9   additiv        97"
      ]
     },
     "execution_count": 26,
     "metadata": {},
     "output_type": "execute_result"
    }
   ],
   "source": [
    "import itertools\n",
    "\n",
    "lst = [\"standard\"]\n",
    "lst2 = [\"additiv\"]\n",
    "strawb_dict = {\"treatment\" : list(itertools.chain.from_iterable(itertools.repeat(x, 5) for x in lst)) \n",
    "             + list(itertools.chain.from_iterable(itertools.repeat(x, 5) for x in lst2)),\n",
    "             \"response\" :[109, 68, 82, 104, 93, 107, 72, 88, 101, 97]}\n",
    "\n",
    "import pandas as pd\n",
    "\n",
    "strawb_pd = pd.DataFrame(data=strawb_dict)\n",
    "strawb_pd"
   ]
  },
  {
   "cell_type": "markdown",
   "metadata": {},
   "source": [
    "\n",
    "<b>Try it yourself:</b></font>"
   ]
  },
  {
   "cell_type": "code",
   "execution_count": null,
   "metadata": {},
   "outputs": [],
   "source": []
  },
  {
   "cell_type": "markdown",
   "metadata": {},
   "source": [
    "**Example Solution:**"
   ]
  },
  {
   "cell_type": "markdown",
   "metadata": {},
   "source": [
    "$$H_{0}: \\mu_{standard} = \\mu_{additiv}$$\n",
    "\n",
    "$$H_{1}: \\mu_{standard} \\neq \\mu_{additiv}$$"
   ]
  },
  {
   "cell_type": "code",
   "execution_count": 27,
   "metadata": {},
   "outputs": [
    {
     "data": {
      "image/png": "[encoded data removed]",
      "text/plain": [
       "<Figure size 864x576 with 1 Axes>"
      ]
     },
     "metadata": {
      "needs_background": "light"
     },
     "output_type": "display_data"
    }
   ],
   "source": [
    "# plot data for inspection whether t-test is appropriate\n",
    "fig, ax = plt.subplots(figsize=(12,8))\n",
    "bp = strawb_pd.boxplot(column=['response'], by='treatment', fontsize='large', ax=ax)"
   ]
  },
  {
   "cell_type": "code",
   "execution_count": 38,
   "metadata": {},
   "outputs": [
    {
     "name": "stdout",
     "output_type": "stream",
     "text": [
      "t-Test:\n",
      "Ttest_indResult(statistic=-0.18721581666031514, pvalue=0.8561523722878017)\n",
      "Confidence Interval:\n",
      "(-23.971243418985775, 20.37124341898578)\n"
     ]
    }
   ],
   "source": [
    "# spliting data into two arrays\n",
    "X1 = strawb_pd[strawb_pd['treatment'] == 'standard']['response']\n",
    "X2 = strawb_pd[strawb_pd['treatment'] == 'additiv']['response']\n",
    "\n",
    "# compute classical t-test with two-sided hypothesis\n",
    "print(\"t-Test:\")\n",
    "print(stats.ttest_ind(X1, X2, equal_var=True))\n",
    "\n",
    "# compute confidence interval\n",
    "print(\"Confidence Interval:\")\n",
    "print(sms.CompareMeans(sms.DescrStatsW(X1), sms.DescrStatsW(X2)).tconfint_diff(alpha=0.05, usevar=\"pooled\"))"
   ]
  },
  {
   "cell_type": "markdown",
   "metadata": {},
   "source": [
    "To a confidence level of 95\\%, there is no significant difference. The very high p-value might rather be used as an indicator for equality which is a success for this experiment (looking for no effect on the strawberry plants). "
   ]
  },
  {
   "cell_type": "markdown",
   "metadata": {},
   "source": [
    "## Example: Root Growth of Mustard Seedlings\n",
    "\n",
    "### Experiment\n",
    "\n",
    "The influence of light and darkness on the root growth of mustard seedlings has been investigated in an experiment (Hand et al., 1994, p. 75). The question is if the length of roots differs for the two treatments, data shown below:\n"
   ]
  },
  {
   "cell_type": "code",
   "execution_count": 29,
   "metadata": {},
   "outputs": [
    {
     "data": {
      "text/html": [
       "<div>\n",
       "<style scoped>\n",
       "    .dataframe tbody tr th:only-of-type {\n",
       "        vertical-align: middle;\n",
       "    }\n",
       "\n",
       "    .dataframe tbody tr th {\n",
       "        vertical-align: top;\n",
       "    }\n",
       "\n",
       "    .dataframe thead th {\n",
       "        text-align: right;\n",
       "    }\n",
       "</style>\n",
       "<table border=\"1\" class=\"dataframe\">\n",
       "  <thead>\n",
       "    <tr style=\"text-align: right;\">\n",
       "      <th></th>\n",
       "      <th>treatment</th>\n",
       "      <th>response</th>\n",
       "    </tr>\n",
       "  </thead>\n",
       "  <tbody>\n",
       "    <tr>\n",
       "      <th>0</th>\n",
       "      <td>grown.with.light</td>\n",
       "      <td>21</td>\n",
       "    </tr>\n",
       "    <tr>\n",
       "      <th>1</th>\n",
       "      <td>grown.with.light</td>\n",
       "      <td>39</td>\n",
       "    </tr>\n",
       "    <tr>\n",
       "      <th>2</th>\n",
       "      <td>grown.with.light</td>\n",
       "      <td>31</td>\n",
       "    </tr>\n",
       "    <tr>\n",
       "      <th>3</th>\n",
       "      <td>grown.with.light</td>\n",
       "      <td>13</td>\n",
       "    </tr>\n",
       "    <tr>\n",
       "      <th>4</th>\n",
       "      <td>grown.with.light</td>\n",
       "      <td>52</td>\n",
       "    </tr>\n",
       "    <tr>\n",
       "      <th>5</th>\n",
       "      <td>grown.with.light</td>\n",
       "      <td>39</td>\n",
       "    </tr>\n",
       "    <tr>\n",
       "      <th>6</th>\n",
       "      <td>grown.with.light</td>\n",
       "      <td>55</td>\n",
       "    </tr>\n",
       "    <tr>\n",
       "      <th>7</th>\n",
       "      <td>grown.with.light</td>\n",
       "      <td>50</td>\n",
       "    </tr>\n",
       "    <tr>\n",
       "      <th>8</th>\n",
       "      <td>grown.with.light</td>\n",
       "      <td>29</td>\n",
       "    </tr>\n",
       "    <tr>\n",
       "      <th>9</th>\n",
       "      <td>grown.with.light</td>\n",
       "      <td>17</td>\n",
       "    </tr>\n",
       "    <tr>\n",
       "      <th>10</th>\n",
       "      <td>grown.in.darkness</td>\n",
       "      <td>22</td>\n",
       "    </tr>\n",
       "    <tr>\n",
       "      <th>11</th>\n",
       "      <td>grown.in.darkness</td>\n",
       "      <td>16</td>\n",
       "    </tr>\n",
       "    <tr>\n",
       "      <th>12</th>\n",
       "      <td>grown.in.darkness</td>\n",
       "      <td>20</td>\n",
       "    </tr>\n",
       "    <tr>\n",
       "      <th>13</th>\n",
       "      <td>grown.in.darkness</td>\n",
       "      <td>14</td>\n",
       "    </tr>\n",
       "    <tr>\n",
       "      <th>14</th>\n",
       "      <td>grown.in.darkness</td>\n",
       "      <td>32</td>\n",
       "    </tr>\n",
       "    <tr>\n",
       "      <th>15</th>\n",
       "      <td>grown.in.darkness</td>\n",
       "      <td>28</td>\n",
       "    </tr>\n",
       "    <tr>\n",
       "      <th>16</th>\n",
       "      <td>grown.in.darkness</td>\n",
       "      <td>36</td>\n",
       "    </tr>\n",
       "    <tr>\n",
       "      <th>17</th>\n",
       "      <td>grown.in.darkness</td>\n",
       "      <td>41</td>\n",
       "    </tr>\n",
       "    <tr>\n",
       "      <th>18</th>\n",
       "      <td>grown.in.darkness</td>\n",
       "      <td>17</td>\n",
       "    </tr>\n",
       "    <tr>\n",
       "      <th>19</th>\n",
       "      <td>grown.in.darkness</td>\n",
       "      <td>22</td>\n",
       "    </tr>\n",
       "  </tbody>\n",
       "</table>\n",
       "</div>"
      ],
      "text/plain": [
       "            treatment  response\n",
       "0    grown.with.light        21\n",
       "1    grown.with.light        39\n",
       "2    grown.with.light        31\n",
       "3    grown.with.light        13\n",
       "4    grown.with.light        52\n",
       "5    grown.with.light        39\n",
       "6    grown.with.light        55\n",
       "7    grown.with.light        50\n",
       "8    grown.with.light        29\n",
       "9    grown.with.light        17\n",
       "10  grown.in.darkness        22\n",
       "11  grown.in.darkness        16\n",
       "12  grown.in.darkness        20\n",
       "13  grown.in.darkness        14\n",
       "14  grown.in.darkness        32\n",
       "15  grown.in.darkness        28\n",
       "16  grown.in.darkness        36\n",
       "17  grown.in.darkness        41\n",
       "18  grown.in.darkness        17\n",
       "19  grown.in.darkness        22"
      ]
     },
     "execution_count": 29,
     "metadata": {},
     "output_type": "execute_result"
    }
   ],
   "source": [
    "mustard = pd.read_csv('data/mustard.csv', sep='\\t')\n",
    "mustard"
   ]
  },
  {
   "cell_type": "markdown",
   "metadata": {},
   "source": [
    "### Statistical Analysis"
   ]
  },
  {
   "cell_type": "code",
   "execution_count": 30,
   "metadata": {},
   "outputs": [
    {
     "data": {
      "image/png": "[encoded data removed]",
      "text/plain": [
       "<Figure size 864x576 with 1 Axes>"
      ]
     },
     "metadata": {
      "needs_background": "light"
     },
     "output_type": "display_data"
    }
   ],
   "source": [
    "# plot data for inspection whether t-test is appropriate\n",
    "fig, ax = plt.subplots(figsize=(12,8))\n",
    "bp = mustard.boxplot(column=['response'], by='treatment', fontsize='large', ax=ax)"
   ]
  },
  {
   "cell_type": "markdown",
   "metadata": {},
   "source": [
    "   * Approximate **normal distribution** (see boxplot) and continuity of data (root length was measured in cm).\n",
    "   \n",
    "   * **Heterogeneity of variances** (see boxplot, boxes differ in length), this implies Welch t-Test\n",
    "   \n",
    "   * The different treatments are assumend to be **independent**.\n",
    "   \n",
    "A two-sided hypothesis is reasonable: the direction of a light effect on mustard roots is unknown. The $\\alpha$-error is set on 5%. Pair of hypotheses: \n",
    "\n",
    "$$H_{0}: \\mu_{light} = \\mu_{dark}$$\n",
    "$$H_{1}: \\mu_{light} \\neq \\mu_{dark}$$"
   ]
  },
  {
   "cell_type": "code",
   "execution_count": 31,
   "metadata": {},
   "outputs": [
    {
     "name": "stdout",
     "output_type": "stream",
     "text": [
      "t-Test:\n",
      "Ttest_indResult(statistic=1.774823934929885, pvalue=0.09638277750258639)\n",
      "Confidence Interval:\n",
      "(-1.9775302939885737, 21.577530293988573)\n"
     ]
    }
   ],
   "source": [
    "# spliting data into two arrays\n",
    "X1 = mustard[mustard['treatment'] == 'grown.with.light']['response']\n",
    "X2 = mustard[mustard['treatment'] == 'grown.in.darkness']['response']\n",
    "\n",
    "print(\"t-Test:\")\n",
    "print(stats.ttest_ind(X1, X2, equal_var=False))\n",
    "\n",
    "# compute confidence interval\n",
    "print(\"Confidence Interval:\")\n",
    "print(sms.CompareMeans(sms.DescrStatsW(X1), \n",
    "                       sms.DescrStatsW(X2)).tconfint_diff(alpha=0.05, \n",
    "                                                          usevar=\"unequal\"))"
   ]
  },
  {
   "cell_type": "markdown",
   "metadata": {},
   "source": [
    "The p-value is greater than 0.05. Therefore, the roots of mustard seedlings grown with light and in darkness do not differ significantly with an error probability of 5%. It would have been possible to compare the p-value with another $\\alpha$, e.g. 0.1. In this case, the result would have been significant. But as mentioned before, the $\\alpha$-error has to be set a priori before calculating the test. \n",
    "\n",
    "Zero is included in the confidence interval which means that the test result is not significant to a confidence level of 95%. \n",
    "\n",
    "Plants grown in darkness have an average root length of 24.8 cm, whereas the group treated with light has an average root length of 34.6 cm.\n",
    "\n",
    "This test result leads to the conclusion that the null hypothesis cannot be rejected to a confidence level of 0.95. However, this does not assure the equality of the two samples because a t-test is not checking for homogeneity. \n",
    "\n",
    "<font size=\"3\"><div class=\"alert alert-warning\"><b>Exercise 7.2:</b> <br> \n",
    "\n",
    "\"Two varieties of lettuce were grown for 16 days in a controlled environment. Data below shows the total dry weight (in g) of the leaves of nine plants of the variety *Salad Bowl* and six plants of the variety *Bibb*.\" (Knight and Mitchell, 1983, cited according to Samuels and Wittmer, 2003, p. 226, author states that the actual sample sizes were equal; some observations have been omitted).\n",
    "\n",
    "Find adequate hypotheses. Is the data normal distributed and homogeneous in variances? Which test do you choose? Interpret the output!\n",
    "</div>"
   ]
  },
  {
   "cell_type": "code",
   "execution_count": 32,
   "metadata": {},
   "outputs": [
    {
     "data": {
      "text/html": [
       "<div>\n",
       "<style scoped>\n",
       "    .dataframe tbody tr th:only-of-type {\n",
       "        vertical-align: middle;\n",
       "    }\n",
       "\n",
       "    .dataframe tbody tr th {\n",
       "        vertical-align: top;\n",
       "    }\n",
       "\n",
       "    .dataframe thead th {\n",
       "        text-align: right;\n",
       "    }\n",
       "</style>\n",
       "<table border=\"1\" class=\"dataframe\">\n",
       "  <thead>\n",
       "    <tr style=\"text-align: right;\">\n",
       "      <th></th>\n",
       "      <th>variety</th>\n",
       "      <th>weight</th>\n",
       "    </tr>\n",
       "  </thead>\n",
       "  <tbody>\n",
       "    <tr>\n",
       "      <th>0</th>\n",
       "      <td>bowl</td>\n",
       "      <td>3.06</td>\n",
       "    </tr>\n",
       "    <tr>\n",
       "      <th>1</th>\n",
       "      <td>bowl</td>\n",
       "      <td>2.78</td>\n",
       "    </tr>\n",
       "    <tr>\n",
       "      <th>2</th>\n",
       "      <td>bowl</td>\n",
       "      <td>2.87</td>\n",
       "    </tr>\n",
       "    <tr>\n",
       "      <th>3</th>\n",
       "      <td>bowl</td>\n",
       "      <td>3.52</td>\n",
       "    </tr>\n",
       "    <tr>\n",
       "      <th>4</th>\n",
       "      <td>bowl</td>\n",
       "      <td>3.81</td>\n",
       "    </tr>\n",
       "    <tr>\n",
       "      <th>5</th>\n",
       "      <td>bowl</td>\n",
       "      <td>3.60</td>\n",
       "    </tr>\n",
       "    <tr>\n",
       "      <th>6</th>\n",
       "      <td>bowl</td>\n",
       "      <td>3.30</td>\n",
       "    </tr>\n",
       "    <tr>\n",
       "      <th>7</th>\n",
       "      <td>bowl</td>\n",
       "      <td>2.77</td>\n",
       "    </tr>\n",
       "    <tr>\n",
       "      <th>8</th>\n",
       "      <td>bowl</td>\n",
       "      <td>3.62</td>\n",
       "    </tr>\n",
       "    <tr>\n",
       "      <th>9</th>\n",
       "      <td>bibb</td>\n",
       "      <td>1.31</td>\n",
       "    </tr>\n",
       "    <tr>\n",
       "      <th>10</th>\n",
       "      <td>bibb</td>\n",
       "      <td>1.17</td>\n",
       "    </tr>\n",
       "    <tr>\n",
       "      <th>11</th>\n",
       "      <td>bibb</td>\n",
       "      <td>1.72</td>\n",
       "    </tr>\n",
       "    <tr>\n",
       "      <th>12</th>\n",
       "      <td>bibb</td>\n",
       "      <td>1.20</td>\n",
       "    </tr>\n",
       "    <tr>\n",
       "      <th>13</th>\n",
       "      <td>bibb</td>\n",
       "      <td>1.55</td>\n",
       "    </tr>\n",
       "    <tr>\n",
       "      <th>14</th>\n",
       "      <td>bibb</td>\n",
       "      <td>1.53</td>\n",
       "    </tr>\n",
       "  </tbody>\n",
       "</table>\n",
       "</div>"
      ],
      "text/plain": [
       "   variety  weight\n",
       "0     bowl    3.06\n",
       "1     bowl    2.78\n",
       "2     bowl    2.87\n",
       "3     bowl    3.52\n",
       "4     bowl    3.81\n",
       "5     bowl    3.60\n",
       "6     bowl    3.30\n",
       "7     bowl    2.77\n",
       "8     bowl    3.62\n",
       "9     bibb    1.31\n",
       "10    bibb    1.17\n",
       "11    bibb    1.72\n",
       "12    bibb    1.20\n",
       "13    bibb    1.55\n",
       "14    bibb    1.53"
      ]
     },
     "execution_count": 32,
     "metadata": {},
     "output_type": "execute_result"
    }
   ],
   "source": [
    "lettuce = pd.read_csv('data/lettuce.csv', sep='\\t')\n",
    "lettuce"
   ]
  },
  {
   "cell_type": "markdown",
   "metadata": {},
   "source": [
    "<b>Try it yourself:</b></font>"
   ]
  },
  {
   "cell_type": "code",
   "execution_count": null,
   "metadata": {},
   "outputs": [],
   "source": []
  },
  {
   "cell_type": "markdown",
   "metadata": {},
   "source": [
    "**Example Solution:**"
   ]
  },
  {
   "cell_type": "markdown",
   "metadata": {},
   "source": [
    "Two-sided test (because no tendency is expected):\n",
    "\n",
    "$$H_{0}: \\mu_{bowl} = \\mu_{bibb}$$\n",
    "\n",
    "$$H_{1}: \\mu_{bowl} \\neq \\mu_{bibb}$$"
   ]
  },
  {
   "cell_type": "code",
   "execution_count": 33,
   "metadata": {},
   "outputs": [
    {
     "data": {
      "image/png": "[encoded data removed]",
      "text/plain": [
       "<Figure size 864x576 with 1 Axes>"
      ]
     },
     "metadata": {
      "needs_background": "light"
     },
     "output_type": "display_data"
    }
   ],
   "source": [
    "# plot data for inspection whether t-test is appropriate\n",
    "fig, ax = plt.subplots(figsize=(12,8))\n",
    "bp = lettuce.boxplot(column=['weight'], by='variety', fontsize='large', ax=ax)"
   ]
  },
  {
   "cell_type": "markdown",
   "metadata": {},
   "source": [
    "   * Approximate normal distributio\n",
    "   * Boxes are different in length, therefore heterogeneity in variances is concluded. \n",
    "   * Independent data.\n",
    "\n",
    "$\\Longrightarrow$ Welch t-test"
   ]
  },
  {
   "cell_type": "code",
   "execution_count": 34,
   "metadata": {},
   "outputs": [
    {
     "name": "stdout",
     "output_type": "stream",
     "text": [
      "t-Test:\n",
      "Ttest_indResult(statistic=-11.483595693288514, pvalue=4.421524636751332e-08)\n",
      "Confidence Interval:\n",
      "(-2.1935419805426988, -1.4975691305684127)\n"
     ]
    }
   ],
   "source": [
    "X1 = lettuce[lettuce['variety'] == 'bibb']['weight']\n",
    "X2 = lettuce[lettuce['variety'] == 'bowl']['weight']\n",
    "\n",
    "print(\"t-Test:\")\n",
    "print(stats.ttest_ind(X1, X2, equal_var=False))\n",
    "\n",
    "print(\"Confidence Interval:\")\n",
    "print(sms.CompareMeans(sms.DescrStatsW(X1), \n",
    "                       sms.DescrStatsW(X2)).tconfint_diff(alpha=0.05, \n",
    "                                                          usevar=\"unequal\"))"
   ]
  },
  {
   "cell_type": "markdown",
   "metadata": {},
   "source": [
    "The lettuce varieties differ significantly in dry weight with an error probability of 5%. This is also supported by the confidence interval.\n",
    "\n",
    "## Example: Growth Induction\n",
    "\n",
    "In an experiment, a certain treatment is supposed to initiate growth induction. 20 plants have been divided in two groups by fitting pairs that are as similar as possible. One group was treated, the other was left as a control (data shown below) (Mead at al., 2003, p. 73)."
   ]
  },
  {
   "cell_type": "code",
   "execution_count": 35,
   "metadata": {},
   "outputs": [
    {
     "data": {
      "text/html": [
       "<div>\n",
       "<style scoped>\n",
       "    .dataframe tbody tr th:only-of-type {\n",
       "        vertical-align: middle;\n",
       "    }\n",
       "\n",
       "    .dataframe tbody tr th {\n",
       "        vertical-align: top;\n",
       "    }\n",
       "\n",
       "    .dataframe thead th {\n",
       "        text-align: right;\n",
       "    }\n",
       "</style>\n",
       "<table border=\"1\" class=\"dataframe\">\n",
       "  <thead>\n",
       "    <tr style=\"text-align: right;\">\n",
       "      <th></th>\n",
       "      <th>treatment</th>\n",
       "      <th>height</th>\n",
       "    </tr>\n",
       "  </thead>\n",
       "  <tbody>\n",
       "    <tr>\n",
       "      <th>0</th>\n",
       "      <td>treated</td>\n",
       "      <td>7</td>\n",
       "    </tr>\n",
       "    <tr>\n",
       "      <th>1</th>\n",
       "      <td>treated</td>\n",
       "      <td>10</td>\n",
       "    </tr>\n",
       "    <tr>\n",
       "      <th>2</th>\n",
       "      <td>treated</td>\n",
       "      <td>9</td>\n",
       "    </tr>\n",
       "    <tr>\n",
       "      <th>3</th>\n",
       "      <td>treated</td>\n",
       "      <td>8</td>\n",
       "    </tr>\n",
       "    <tr>\n",
       "      <th>4</th>\n",
       "      <td>treated</td>\n",
       "      <td>7</td>\n",
       "    </tr>\n",
       "    <tr>\n",
       "      <th>5</th>\n",
       "      <td>treated</td>\n",
       "      <td>6</td>\n",
       "    </tr>\n",
       "    <tr>\n",
       "      <th>6</th>\n",
       "      <td>treated</td>\n",
       "      <td>8</td>\n",
       "    </tr>\n",
       "    <tr>\n",
       "      <th>7</th>\n",
       "      <td>treated</td>\n",
       "      <td>9</td>\n",
       "    </tr>\n",
       "    <tr>\n",
       "      <th>8</th>\n",
       "      <td>treated</td>\n",
       "      <td>12</td>\n",
       "    </tr>\n",
       "    <tr>\n",
       "      <th>9</th>\n",
       "      <td>treated</td>\n",
       "      <td>13</td>\n",
       "    </tr>\n",
       "    <tr>\n",
       "      <th>10</th>\n",
       "      <td>control</td>\n",
       "      <td>4</td>\n",
       "    </tr>\n",
       "    <tr>\n",
       "      <th>11</th>\n",
       "      <td>control</td>\n",
       "      <td>6</td>\n",
       "    </tr>\n",
       "    <tr>\n",
       "      <th>12</th>\n",
       "      <td>control</td>\n",
       "      <td>10</td>\n",
       "    </tr>\n",
       "    <tr>\n",
       "      <th>13</th>\n",
       "      <td>control</td>\n",
       "      <td>8</td>\n",
       "    </tr>\n",
       "    <tr>\n",
       "      <th>14</th>\n",
       "      <td>control</td>\n",
       "      <td>5</td>\n",
       "    </tr>\n",
       "    <tr>\n",
       "      <th>15</th>\n",
       "      <td>control</td>\n",
       "      <td>3</td>\n",
       "    </tr>\n",
       "    <tr>\n",
       "      <th>16</th>\n",
       "      <td>control</td>\n",
       "      <td>10</td>\n",
       "    </tr>\n",
       "    <tr>\n",
       "      <th>17</th>\n",
       "      <td>control</td>\n",
       "      <td>8</td>\n",
       "    </tr>\n",
       "    <tr>\n",
       "      <th>18</th>\n",
       "      <td>control</td>\n",
       "      <td>8</td>\n",
       "    </tr>\n",
       "    <tr>\n",
       "      <th>19</th>\n",
       "      <td>control</td>\n",
       "      <td>10</td>\n",
       "    </tr>\n",
       "  </tbody>\n",
       "</table>\n",
       "</div>"
      ],
      "text/plain": [
       "   treatment  height\n",
       "0    treated       7\n",
       "1    treated      10\n",
       "2    treated       9\n",
       "3    treated       8\n",
       "4    treated       7\n",
       "5    treated       6\n",
       "6    treated       8\n",
       "7    treated       9\n",
       "8    treated      12\n",
       "9    treated      13\n",
       "10   control       4\n",
       "11   control       6\n",
       "12   control      10\n",
       "13   control       8\n",
       "14   control       5\n",
       "15   control       3\n",
       "16   control      10\n",
       "17   control       8\n",
       "18   control       8\n",
       "19   control      10"
      ]
     },
     "execution_count": 35,
     "metadata": {},
     "output_type": "execute_result"
    }
   ],
   "source": [
    "growth = pd.read_csv('data/growth.csv', sep='\\t')\n",
    "growth"
   ]
  },
  {
   "cell_type": "markdown",
   "metadata": {},
   "source": [
    "Since this an experiment with paired samples, we will inspect whether the differences between samples are normal distributed:"
   ]
  },
  {
   "cell_type": "code",
   "execution_count": 36,
   "metadata": {},
   "outputs": [
    {
     "data": {
      "text/plain": [
       "<AxesSubplot:>"
      ]
     },
     "execution_count": 36,
     "metadata": {},
     "output_type": "execute_result"
    },
    {
     "data": {
      "image/png": "[encoded data removed]",
      "text/plain": [
       "<Figure size 432x288 with 1 Axes>"
      ]
     },
     "metadata": {
      "needs_background": "light"
     },
     "output_type": "display_data"
    }
   ],
   "source": [
    "X1 = growth[growth['treatment'] == 'treated']['height']\n",
    "X2 = growth[growth['treatment'] == 'control']['height']\n",
    "diffs = np.array(X1) - np.array(X2)\n",
    "diffs_dict = {'diffs' : diffs}\n",
    "diffs_pd = pd.DataFrame(data=diffs_dict)\n",
    "diffs_pd.boxplot()"
   ]
  },
  {
   "cell_type": "markdown",
   "metadata": {},
   "source": [
    "   * Approximate **normal distribution** of pair differences (boxplot, the test is assumed to be robust to a median which is not perfectly located in the boxes' middle).\n",
    "\n",
    "   * **Paired data** because plant pairs that are as similar as possible have been formed. \n",
    "   \n",
    "Paired one-sided t-test (because it is expected that a growth inductor created taller plants, i.e. $\\mu$ is greater 0 in H$_{0}$). "
   ]
  },
  {
   "cell_type": "code",
   "execution_count": 37,
   "metadata": {},
   "outputs": [
    {
     "data": {
      "text/plain": [
       "(0.476398071008447, inf)"
      ]
     },
     "execution_count": 37,
     "metadata": {},
     "output_type": "execute_result"
    }
   ],
   "source": [
    "# Note that this currently does not work on the University JupyterHub\n",
    "# print(stats.ttest_rel(X1, X2, alternative = \"greater\"))\n",
    "sms.DescrStatsW(diffs).tconfint_mean(alternative=\"larger\")"
   ]
  },
  {
   "cell_type": "markdown",
   "metadata": {},
   "source": [
    "The p-value is smaller than 0.05. For this reason, the test result is significant. A treatment for growth induction results in a stronger plant growth. The confidence interval confirms this."
   ]
  },
  {
   "cell_type": "code",
   "execution_count": null,
   "metadata": {},
   "outputs": [],
   "source": []
  }
 ],
 "metadata": {
  "kernelspec": {
   "display_name": "Python 3",
   "language": "python",
   "name": "python3"
  },
  "language_info": {
   "codemirror_mode": {
    "name": "ipython",
    "version": 3
   },
   "file_extension": ".py",
   "mimetype": "text/x-python",
   "name": "python",
   "nbconvert_exporter": "python",
   "pygments_lexer": "ipython3",
   "version": "3.8.5"
  }
 },
 "nbformat": 4,
 "nbformat_minor": 5
}
