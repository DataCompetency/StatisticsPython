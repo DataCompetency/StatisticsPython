{
 "cells": [
  {
   "cell_type": "markdown",
   "id": "possible-creator",
   "metadata": {},
   "source": [
    "# Kolmogorov-Smirnov-Test\n",
    "\n",
    "The Kolmogorov-Smirnov-test can be used to test whether two samples originate from the same, continuous distribution. It is frequently used as a pre-test for checking whether a sample originates from a gaussian distribution. \n",
    "\n",
    "$$H_{0}: F_{X}(x) = F_{0}(x)$$\n",
    "\n",
    "$$H_{0}: F_{X}(x) \\neq F_{0}(x)$$\n",
    "\n",
    "<div class=\"alert alert-info\"><b>Careful:</b> A significance in the ks-test concludes a deviation from the normal distribution. It is not possible to conclude that the data is normal distributed from a ks-test result.</div>\n",
    "\n",
    "## The function <tt>scipy.stats.kstest()</tt>\n",
    "\n",
    "    scipy.stats.kstest(x, y)\n",
    "\n",
    "<tt>x</tt> and <tt>y</tt> are expected to be numpy arrays. By default, a two-sided test is computed.\n",
    "\n",
    "### Example Mice\n",
    "\n",
    "The following data set contains speed data of two mice groups:"
   ]
  },
  {
   "cell_type": "code",
   "execution_count": 3,
   "id": "preceding-beverage",
   "metadata": {},
   "outputs": [
    {
     "data": {
      "text/html": [
       "<div>\n",
       "<style scoped>\n",
       "    .dataframe tbody tr th:only-of-type {\n",
       "        vertical-align: middle;\n",
       "    }\n",
       "\n",
       "    .dataframe tbody tr th {\n",
       "        vertical-align: top;\n",
       "    }\n",
       "\n",
       "    .dataframe thead th {\n",
       "        text-align: right;\n",
       "    }\n",
       "</style>\n",
       "<table border=\"1\" class=\"dataframe\">\n",
       "  <thead>\n",
       "    <tr style=\"text-align: right;\">\n",
       "      <th></th>\n",
       "      <th>health</th>\n",
       "      <th>speed</th>\n",
       "    </tr>\n",
       "  </thead>\n",
       "  <tbody>\n",
       "    <tr>\n",
       "      <th>0</th>\n",
       "      <td>healthy</td>\n",
       "      <td>13.80</td>\n",
       "    </tr>\n",
       "    <tr>\n",
       "      <th>1</th>\n",
       "      <td>healthy</td>\n",
       "      <td>8.50</td>\n",
       "    </tr>\n",
       "    <tr>\n",
       "      <th>2</th>\n",
       "      <td>healthy</td>\n",
       "      <td>9.80</td>\n",
       "    </tr>\n",
       "    <tr>\n",
       "      <th>3</th>\n",
       "      <td>healthy</td>\n",
       "      <td>7.90</td>\n",
       "    </tr>\n",
       "    <tr>\n",
       "      <th>4</th>\n",
       "      <td>healthy</td>\n",
       "      <td>13.45</td>\n",
       "    </tr>\n",
       "    <tr>\n",
       "      <th>5</th>\n",
       "      <td>healthy</td>\n",
       "      <td>13.30</td>\n",
       "    </tr>\n",
       "    <tr>\n",
       "      <th>6</th>\n",
       "      <td>healthy</td>\n",
       "      <td>7.80</td>\n",
       "    </tr>\n",
       "    <tr>\n",
       "      <th>7</th>\n",
       "      <td>healthy</td>\n",
       "      <td>11.40</td>\n",
       "    </tr>\n",
       "    <tr>\n",
       "      <th>8</th>\n",
       "      <td>healthy</td>\n",
       "      <td>7.60</td>\n",
       "    </tr>\n",
       "    <tr>\n",
       "      <th>9</th>\n",
       "      <td>healthy</td>\n",
       "      <td>9.00</td>\n",
       "    </tr>\n",
       "    <tr>\n",
       "      <th>10</th>\n",
       "      <td>healthy</td>\n",
       "      <td>11.80</td>\n",
       "    </tr>\n",
       "    <tr>\n",
       "      <th>11</th>\n",
       "      <td>sick</td>\n",
       "      <td>19.40</td>\n",
       "    </tr>\n",
       "    <tr>\n",
       "      <th>12</th>\n",
       "      <td>sick</td>\n",
       "      <td>29.10</td>\n",
       "    </tr>\n",
       "    <tr>\n",
       "      <th>13</th>\n",
       "      <td>sick</td>\n",
       "      <td>35.30</td>\n",
       "    </tr>\n",
       "    <tr>\n",
       "      <th>14</th>\n",
       "      <td>sick</td>\n",
       "      <td>24.90</td>\n",
       "    </tr>\n",
       "    <tr>\n",
       "      <th>15</th>\n",
       "      <td>sick</td>\n",
       "      <td>13.90</td>\n",
       "    </tr>\n",
       "    <tr>\n",
       "      <th>16</th>\n",
       "      <td>sick</td>\n",
       "      <td>17.70</td>\n",
       "    </tr>\n",
       "    <tr>\n",
       "      <th>17</th>\n",
       "      <td>sick</td>\n",
       "      <td>30.10</td>\n",
       "    </tr>\n",
       "    <tr>\n",
       "      <th>18</th>\n",
       "      <td>sick</td>\n",
       "      <td>26.30</td>\n",
       "    </tr>\n",
       "    <tr>\n",
       "      <th>19</th>\n",
       "      <td>sick</td>\n",
       "      <td>27.70</td>\n",
       "    </tr>\n",
       "    <tr>\n",
       "      <th>20</th>\n",
       "      <td>sick</td>\n",
       "      <td>20.00</td>\n",
       "    </tr>\n",
       "    <tr>\n",
       "      <th>21</th>\n",
       "      <td>sick</td>\n",
       "      <td>NaN</td>\n",
       "    </tr>\n",
       "  </tbody>\n",
       "</table>\n",
       "</div>"
      ],
      "text/plain": [
       "     health  speed\n",
       "0   healthy  13.80\n",
       "1   healthy   8.50\n",
       "2   healthy   9.80\n",
       "3   healthy   7.90\n",
       "4   healthy  13.45\n",
       "5   healthy  13.30\n",
       "6   healthy   7.80\n",
       "7   healthy  11.40\n",
       "8   healthy   7.60\n",
       "9   healthy   9.00\n",
       "10  healthy  11.80\n",
       "11     sick  19.40\n",
       "12     sick  29.10\n",
       "13     sick  35.30\n",
       "14     sick  24.90\n",
       "15     sick  13.90\n",
       "16     sick  17.70\n",
       "17     sick  30.10\n",
       "18     sick  26.30\n",
       "19     sick  27.70\n",
       "20     sick  20.00\n",
       "21     sick    NaN"
      ]
     },
     "execution_count": 3,
     "metadata": {},
     "output_type": "execute_result"
    }
   ],
   "source": [
    "import pandas as pd\n",
    "mice = pd.read_csv('data/mice.csv', sep=\"\\t\")\n",
    "mice"
   ]
  },
  {
   "cell_type": "markdown",
   "id": "imperial-emergency",
   "metadata": {},
   "source": [
    "This is data from an experiment with two groups. Typically, we need to assess for both groups whether the data deviates significantly from a normal distribution, i.e. we need to subset the data."
   ]
  },
  {
   "cell_type": "code",
   "execution_count": 5,
   "id": "optical-reporter",
   "metadata": {},
   "outputs": [],
   "source": [
    "healthy_speed = mice[mice['health'] == \"healthy\"]['speed']\n",
    "sick_speed = mice[mice['health'] == \"sick\"]['speed']"
   ]
  },
  {
   "cell_type": "markdown",
   "id": "fancy-accident",
   "metadata": {},
   "source": [
    "Now, we will first look at the sample from healthy mice:"
   ]
  },
  {
   "cell_type": "code",
   "execution_count": 23,
   "id": "manufactured-coating",
   "metadata": {},
   "outputs": [
    {
     "data": {
      "text/plain": [
       "KstestResult(statistic=0.17178445454545455, pvalue=0.8484211657485455)"
      ]
     },
     "execution_count": 23,
     "metadata": {},
     "output_type": "execute_result"
    }
   ],
   "source": [
    "import scipy\n",
    "import scipy.stats\n",
    "import numpy as np\n",
    "\n",
    "# create a normal distribution that fits to the data\n",
    "np.random.seed(28041990) # makeing sure that we draw the same points each time we repeat\n",
    "ref = np.random.normal(healthy_speed.mean(), healthy_speed.std(), 1000000) # play with how the p-value changes if we draw fewer points...\n",
    "\n",
    "scipy.stats.kstest(healthy_speed, cdf = ref)"
   ]
  },
  {
   "cell_type": "markdown",
   "id": "cross-championship",
   "metadata": {},
   "source": [
    "The p-value is greater than 0.05. Despite the here unknown $\\beta{}$-error, we will assume that our sample originates from a normal distribution.\n",
    "\n",
    "Now, we want to know whether the data of the healthy mice group originates from a normal distribution: "
   ]
  },
  {
   "cell_type": "code",
   "execution_count": 24,
   "id": "younger-saying",
   "metadata": {},
   "outputs": [
    {
     "data": {
      "text/plain": [
       "KstestResult(statistic=0.16380363636363637, pvalue=0.8842107692459071)"
      ]
     },
     "execution_count": 24,
     "metadata": {},
     "output_type": "execute_result"
    }
   ],
   "source": [
    "ref = np.random.normal(sick_speed.mean(), sick_speed.std(), 1000000) # play with how the p-value changes if we draw fewer points...\n",
    "\n",
    "scipy.stats.kstest(sick_speed, cdf = ref)"
   ]
  },
  {
   "cell_type": "markdown",
   "id": "grateful-distinction",
   "metadata": {},
   "source": [
    "Also here, we cannot reject the H$_{0}$ hypothesis.\n",
    "\n",
    "## Put in Context with Boxplot"
   ]
  },
  {
   "cell_type": "code",
   "execution_count": 26,
   "id": "laden-header",
   "metadata": {},
   "outputs": [
    {
     "data": {
      "text/plain": [
       "<AxesSubplot:title={'center':'speed'}, xlabel='health'>"
      ]
     },
     "execution_count": 26,
     "metadata": {},
     "output_type": "execute_result"
    },
    {
     "data": {
      "image/png": "[encoded data removed]",
      "text/plain": [
       "<Figure size 864x576 with 1 Axes>"
      ]
     },
     "metadata": {
      "needs_background": "light"
     },
     "output_type": "display_data"
    }
   ],
   "source": [
    "import matplotlib.pyplot as plt\n",
    "fig, ax = plt.subplots(figsize=(12,8))\n",
    "mice.boxplot(column=['speed'], by='health', ax=ax)"
   ]
  },
  {
   "cell_type": "markdown",
   "id": "preliminary-remark",
   "metadata": {},
   "source": [
    "Visual inspection of the data confirms that there are no solid reasons to believe that these samples are not from a gaussian distribution.\n",
    "\n",
    "<div class=\"alert alert-info\"><b>Careful:</b> There exists another F-Test called ANOVA which takes advantage of the same distribution obtaining another result. ANOVA checks for differences in two or more samples by analysis of variances.</div>\n"
   ]
  },
  {
   "cell_type": "code",
   "execution_count": null,
   "id": "solid-baptist",
   "metadata": {},
   "outputs": [],
   "source": []
  }
 ],
 "metadata": {
  "kernelspec": {
   "display_name": "Python 3",
   "language": "python",
   "name": "python3"
  },
  "language_info": {
   "codemirror_mode": {
    "name": "ipython",
    "version": 3
   },
   "file_extension": ".py",
   "mimetype": "text/x-python",
   "name": "python",
   "nbconvert_exporter": "python",
   "pygments_lexer": "ipython3",
   "version": "3.8.5"
  }
 },
 "nbformat": 4,
 "nbformat_minor": 5
}
