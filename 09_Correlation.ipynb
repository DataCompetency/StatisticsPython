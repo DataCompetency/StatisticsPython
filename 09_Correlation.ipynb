{
 "cells": [
  {
   "cell_type": "markdown",
   "id": "sorted-beauty",
   "metadata": {},
   "source": [
    "# Analysis of Correlation\n",
    "\n",
    "## Assumptions\n",
    "\n",
    "A linear coherence between one or more random variables in a sample is investigated quantitatively by analysis of correlation. However, correlation does not return the mathematical equation. The correlation coefficient r is set between -1 and +1. The closer the absolute value is located to 1, the better is the correlation. A negative coefficient implies that the values of one variable are big while the other variable results in small values. A positive coefficient is returned for data in which both variables are big or small. \n",
    "\n",
    "The correlation coefficient itself does not state anything about the significance of correlation. Therefore, a test resembling the t-test is used for checking the significance. \n",
    "\n",
    "### Pearson\n",
    "\n",
    "Assumptions for a correlation according to Pearson are:\n",
    "\n",
    "   * **Normal distributed data**\n",
    "\n",
    "   * **Independence of observations**\n",
    "   \n",
    "Pearson's correlation coefficient is named $\\rho$.\n",
    "\n",
    "### Spearman\n",
    "\n",
    "Correlation according to Spearman is nonparametric and therefore independent from monotone coordinate transformation. Assumptions: \n",
    "\n",
    "  * (Normal distribution of data is not required.)\n",
    "\n",
    "  * **Independency of observations**\n",
    "\n",
    "## Implementation\n",
    "\n",
    "Besides computing correlations coefficients on their own, Python also provides you with results of a test for significance of these coefficients. The hypotheses for a two-sided test are:\n",
    "\n",
    "$$H_{0}: \\rho = 0$$\n",
    "\n",
    "$$H_{1}: \\rho \\neq 0$$\n",
    "\n",
    "### The Function <tt>scipy.stats.pearsonr()</tt>\n",
    "\n",
    "    scipy.stats.pearsonr(x, y)\n",
    "    \n",
    "<tt>x</tt> and <tt>y</tt> are expected to be numpy arrays.\n",
    "\n",
    "\n",
    "### The Function <tt>scipy.stats.spearman()</tt>\n",
    "\n",
    "    scipy.stats.spearman(x, y)\n",
    "    \n",
    "<tt>x</tt> and <tt>y</tt> are expected to be numpy arrays.\n",
    "\n",
    "## Example: Broad Beans\n",
    "\n",
    "A sample of broad beans classified as the variety \\textit{Roger's Emperor} was investigated with regard on length and weight (data shown below, Bishop, 1980, p. 64)."
   ]
  },
  {
   "cell_type": "code",
   "execution_count": 1,
   "id": "color-frontier",
   "metadata": {},
   "outputs": [
    {
     "data": {
      "text/html": [
       "<div>\n",
       "<style scoped>\n",
       "    .dataframe tbody tr th:only-of-type {\n",
       "        vertical-align: middle;\n",
       "    }\n",
       "\n",
       "    .dataframe tbody tr th {\n",
       "        vertical-align: top;\n",
       "    }\n",
       "\n",
       "    .dataframe thead th {\n",
       "        text-align: right;\n",
       "    }\n",
       "</style>\n",
       "<table border=\"1\" class=\"dataframe\">\n",
       "  <thead>\n",
       "    <tr style=\"text-align: right;\">\n",
       "      <th></th>\n",
       "      <th>weight</th>\n",
       "      <th>length</th>\n",
       "    </tr>\n",
       "  </thead>\n",
       "  <tbody>\n",
       "    <tr>\n",
       "      <th>0</th>\n",
       "      <td>0.7</td>\n",
       "      <td>1.7</td>\n",
       "    </tr>\n",
       "    <tr>\n",
       "      <th>1</th>\n",
       "      <td>1.2</td>\n",
       "      <td>2.2</td>\n",
       "    </tr>\n",
       "    <tr>\n",
       "      <th>2</th>\n",
       "      <td>0.9</td>\n",
       "      <td>2.0</td>\n",
       "    </tr>\n",
       "    <tr>\n",
       "      <th>3</th>\n",
       "      <td>1.4</td>\n",
       "      <td>2.3</td>\n",
       "    </tr>\n",
       "    <tr>\n",
       "      <th>4</th>\n",
       "      <td>1.2</td>\n",
       "      <td>2.4</td>\n",
       "    </tr>\n",
       "    <tr>\n",
       "      <th>5</th>\n",
       "      <td>1.1</td>\n",
       "      <td>2.2</td>\n",
       "    </tr>\n",
       "    <tr>\n",
       "      <th>6</th>\n",
       "      <td>1.0</td>\n",
       "      <td>2.0</td>\n",
       "    </tr>\n",
       "    <tr>\n",
       "      <th>7</th>\n",
       "      <td>0.9</td>\n",
       "      <td>1.9</td>\n",
       "    </tr>\n",
       "    <tr>\n",
       "      <th>8</th>\n",
       "      <td>1.0</td>\n",
       "      <td>2.1</td>\n",
       "    </tr>\n",
       "    <tr>\n",
       "      <th>9</th>\n",
       "      <td>0.8</td>\n",
       "      <td>1.6</td>\n",
       "    </tr>\n",
       "  </tbody>\n",
       "</table>\n",
       "</div>"
      ],
      "text/plain": [
       "   weight  length\n",
       "0     0.7     1.7\n",
       "1     1.2     2.2\n",
       "2     0.9     2.0\n",
       "3     1.4     2.3\n",
       "4     1.2     2.4\n",
       "5     1.1     2.2\n",
       "6     1.0     2.0\n",
       "7     0.9     1.9\n",
       "8     1.0     2.1\n",
       "9     0.8     1.6"
      ]
     },
     "execution_count": 1,
     "metadata": {},
     "output_type": "execute_result"
    }
   ],
   "source": [
    "import pandas as pd\n",
    "\n",
    "broad = pd.read_csv('data/broad.csv', sep='\\t')\n",
    "broad"
   ]
  },
  {
   "cell_type": "code",
   "execution_count": 2,
   "id": "brutal-shoot",
   "metadata": {},
   "outputs": [
    {
     "data": {
      "text/plain": [
       "<AxesSubplot:xlabel='weight', ylabel='length'>"
      ]
     },
     "execution_count": 2,
     "metadata": {},
     "output_type": "execute_result"
    },
    {
     "data": {
      "image/png": "[encoded data removed]",
      "text/plain": [
       "<Figure size 432x288 with 1 Axes>"
      ]
     },
     "metadata": {
      "needs_background": "light"
     },
     "output_type": "display_data"
    }
   ],
   "source": [
    "broad.plot.scatter(x = 'weight', y = 'length')"
   ]
  },
  {
   "cell_type": "code",
   "execution_count": 7,
   "id": "consolidated-variation",
   "metadata": {},
   "outputs": [
    {
     "data": {
      "image/png": "[encoded data removed]",
      "text/plain": [
       "<Figure size 864x576 with 1 Axes>"
      ]
     },
     "metadata": {
      "needs_background": "light"
     },
     "output_type": "display_data"
    }
   ],
   "source": [
    "import matplotlib.pyplot as plt\n",
    "\n",
    "fig, ax = plt.subplots(figsize=(12,8))\n",
    "bp = broad.boxplot(fontsize='large', ax=ax)"
   ]
  },
  {
   "cell_type": "markdown",
   "id": "informational-humor",
   "metadata": {},
   "source": [
    "### Statistical Analysis"
   ]
  },
  {
   "cell_type": "markdown",
   "id": "retired-martin",
   "metadata": {},
   "source": [
    "   * **Normal distribution** of both variables (see boxplot)\n",
    "    \n",
    "   * **Indepency of observations** is assumed.\n",
    "   \n",
    "$\\Longrightarrow$ Correlation according to Pearson."
   ]
  },
  {
   "cell_type": "code",
   "execution_count": 11,
   "id": "driven-wesley",
   "metadata": {},
   "outputs": [
    {
     "data": {
      "text/plain": [
       "(0.8983172313107092, 0.000413014438551176)"
      ]
     },
     "execution_count": 11,
     "metadata": {},
     "output_type": "execute_result"
    }
   ],
   "source": [
    "import scipy\n",
    "import scipy.stats\n",
    "\n",
    "scipy.stats.pearsonr(broad['weight'], broad['length'])"
   ]
  },
  {
   "cell_type": "markdown",
   "id": "collectible-organic",
   "metadata": {},
   "source": [
    "The Pearson correlation with the coefficient 0.8983172313107092 is highly significant with an error probability of 5%.\n",
    "\n",
    "## Example: Soybeans (2)\n",
    "\n",
    "\"A plant physiologist grew 13 individually potted soybean seedlings in a greenhouse. The data shown below gives measurements of the total leaf area (cm$^{2}$) and total plant dry weight (g) for each plant after 16 days of growth\"  (Pappas and Mitchell., 1984, rawdata published in Samuels and Wittmer, 2003, p. 563f)."
   ]
  },
  {
   "cell_type": "code",
   "execution_count": 12,
   "id": "loaded-ultimate",
   "metadata": {},
   "outputs": [
    {
     "data": {
      "text/html": [
       "<div>\n",
       "<style scoped>\n",
       "    .dataframe tbody tr th:only-of-type {\n",
       "        vertical-align: middle;\n",
       "    }\n",
       "\n",
       "    .dataframe tbody tr th {\n",
       "        vertical-align: top;\n",
       "    }\n",
       "\n",
       "    .dataframe thead th {\n",
       "        text-align: right;\n",
       "    }\n",
       "</style>\n",
       "<table border=\"1\" class=\"dataframe\">\n",
       "  <thead>\n",
       "    <tr style=\"text-align: right;\">\n",
       "      <th></th>\n",
       "      <th>area</th>\n",
       "      <th>weight</th>\n",
       "    </tr>\n",
       "  </thead>\n",
       "  <tbody>\n",
       "    <tr>\n",
       "      <th>0</th>\n",
       "      <td>411</td>\n",
       "      <td>2.00</td>\n",
       "    </tr>\n",
       "    <tr>\n",
       "      <th>1</th>\n",
       "      <td>550</td>\n",
       "      <td>2.47</td>\n",
       "    </tr>\n",
       "    <tr>\n",
       "      <th>2</th>\n",
       "      <td>471</td>\n",
       "      <td>2.11</td>\n",
       "    </tr>\n",
       "    <tr>\n",
       "      <th>3</th>\n",
       "      <td>393</td>\n",
       "      <td>1.89</td>\n",
       "    </tr>\n",
       "    <tr>\n",
       "      <th>4</th>\n",
       "      <td>427</td>\n",
       "      <td>2.05</td>\n",
       "    </tr>\n",
       "    <tr>\n",
       "      <th>5</th>\n",
       "      <td>431</td>\n",
       "      <td>2.30</td>\n",
       "    </tr>\n",
       "    <tr>\n",
       "      <th>6</th>\n",
       "      <td>492</td>\n",
       "      <td>2.46</td>\n",
       "    </tr>\n",
       "    <tr>\n",
       "      <th>7</th>\n",
       "      <td>371</td>\n",
       "      <td>2.06</td>\n",
       "    </tr>\n",
       "    <tr>\n",
       "      <th>8</th>\n",
       "      <td>470</td>\n",
       "      <td>2.25</td>\n",
       "    </tr>\n",
       "    <tr>\n",
       "      <th>9</th>\n",
       "      <td>419</td>\n",
       "      <td>2.07</td>\n",
       "    </tr>\n",
       "    <tr>\n",
       "      <th>10</th>\n",
       "      <td>407</td>\n",
       "      <td>2.17</td>\n",
       "    </tr>\n",
       "    <tr>\n",
       "      <th>11</th>\n",
       "      <td>489</td>\n",
       "      <td>2.32</td>\n",
       "    </tr>\n",
       "    <tr>\n",
       "      <th>12</th>\n",
       "      <td>439</td>\n",
       "      <td>2.12</td>\n",
       "    </tr>\n",
       "  </tbody>\n",
       "</table>\n",
       "</div>"
      ],
      "text/plain": [
       "    area  weight\n",
       "0    411    2.00\n",
       "1    550    2.47\n",
       "2    471    2.11\n",
       "3    393    1.89\n",
       "4    427    2.05\n",
       "5    431    2.30\n",
       "6    492    2.46\n",
       "7    371    2.06\n",
       "8    470    2.25\n",
       "9    419    2.07\n",
       "10   407    2.17\n",
       "11   489    2.32\n",
       "12   439    2.12"
      ]
     },
     "execution_count": 12,
     "metadata": {},
     "output_type": "execute_result"
    }
   ],
   "source": [
    "bean = pd.read_csv('data/bean.csv', sep='\\t')\n",
    "bean"
   ]
  },
  {
   "cell_type": "code",
   "execution_count": 17,
   "id": "noted-infrared",
   "metadata": {},
   "outputs": [
    {
     "data": {
      "text/plain": [
       "<AxesSubplot:xlabel='area', ylabel='weight'>"
      ]
     },
     "execution_count": 17,
     "metadata": {},
     "output_type": "execute_result"
    },
    {
     "data": {
      "image/png": "[encoded data removed]",
      "text/plain": [
       "<Figure size 432x288 with 1 Axes>"
      ]
     },
     "metadata": {
      "needs_background": "light"
     },
     "output_type": "display_data"
    }
   ],
   "source": [
    "bean.plot.scatter(x = 'area', y = 'weight')"
   ]
  },
  {
   "cell_type": "code",
   "execution_count": 19,
   "id": "controlled-expert",
   "metadata": {},
   "outputs": [
    {
     "data": {
      "text/plain": [
       "<AxesSubplot:>"
      ]
     },
     "execution_count": 19,
     "metadata": {},
     "output_type": "execute_result"
    },
    {
     "data": {
      "image/png": "[encoded data removed]",
      "text/plain": [
       "<Figure size 864x576 with 1 Axes>"
      ]
     },
     "metadata": {
      "needs_background": "light"
     },
     "output_type": "display_data"
    }
   ],
   "source": [
    "fig, ax = plt.subplots(figsize=(12,8))\n",
    "bean.boxplot(column = 'area', fontsize='large', ax=ax)"
   ]
  },
  {
   "cell_type": "code",
   "execution_count": 21,
   "id": "plain-speed",
   "metadata": {},
   "outputs": [
    {
     "data": {
      "text/plain": [
       "<AxesSubplot:>"
      ]
     },
     "execution_count": 21,
     "metadata": {},
     "output_type": "execute_result"
    },
    {
     "data": {
      "image/png": "[encoded data removed]",
      "text/plain": [
       "<Figure size 864x576 with 1 Axes>"
      ]
     },
     "metadata": {
      "needs_background": "light"
     },
     "output_type": "display_data"
    }
   ],
   "source": [
    "fig, ax = plt.subplots(figsize=(12,8))\n",
    "bean.boxplot(column = 'weight', fontsize='large', ax=ax)"
   ]
  },
  {
   "cell_type": "markdown",
   "id": "clean-moore",
   "metadata": {},
   "source": [
    "   * **Normal distribution** is rejected because the median does not lie in the box middle (boxplots).\n",
    "   \n",
    "   * **Independency of observations** is assumed.\n",
    "   \n",
    "   \n",
    "$\\Longrightarrow$ Spearman's Rank Correlation is calculated:"
   ]
  },
  {
   "cell_type": "code",
   "execution_count": 22,
   "id": "described-irrigation",
   "metadata": {},
   "outputs": [
    {
     "data": {
      "text/plain": [
       "SpearmanrResult(correlation=0.7967032967032966, pvalue=0.0011136526522685867)"
      ]
     },
     "execution_count": 22,
     "metadata": {},
     "output_type": "execute_result"
    }
   ],
   "source": [
    "scipy.stats.spearmanr(bean['area'], bean['weight'])"
   ]
  },
  {
   "cell_type": "markdown",
   "id": "reasonable-smell",
   "metadata": {},
   "source": [
    "The correlation coefficient $\\rho$ is 0.7967032967032966. The correlation is significant with an error probability of 5% because the p-value 0.0011136526522685867 is much smaller than 0.05. \n",
    "\n",
    "<font size=\"3\"><div class=\"alert alert-warning\"><b>Exercise 9.1:</b> <br> \n",
    "The content of ascorbic acid is measured with a photoelectric absorption meter by using the blue starch-iodine complex. In order to standardize this procedure, samples with a known concentration of ascorbic acid are measured, first (data shown below, Bishop, 1980, p. 70).\n",
    "\n",
    "Are ascorbic acid concentration and metered values correlated significantly?\n",
    "</div>\n",
    "</font>"
   ]
  },
  {
   "cell_type": "code",
   "execution_count": 23,
   "id": "cultural-stake",
   "metadata": {},
   "outputs": [
    {
     "data": {
      "text/html": [
       "<div>\n",
       "<style scoped>\n",
       "    .dataframe tbody tr th:only-of-type {\n",
       "        vertical-align: middle;\n",
       "    }\n",
       "\n",
       "    .dataframe tbody tr th {\n",
       "        vertical-align: top;\n",
       "    }\n",
       "\n",
       "    .dataframe thead th {\n",
       "        text-align: right;\n",
       "    }\n",
       "</style>\n",
       "<table border=\"1\" class=\"dataframe\">\n",
       "  <thead>\n",
       "    <tr style=\"text-align: right;\">\n",
       "      <th></th>\n",
       "      <th>acid</th>\n",
       "      <th>response</th>\n",
       "    </tr>\n",
       "  </thead>\n",
       "  <tbody>\n",
       "    <tr>\n",
       "      <th>0</th>\n",
       "      <td>150</td>\n",
       "      <td>5.9</td>\n",
       "    </tr>\n",
       "    <tr>\n",
       "      <th>1</th>\n",
       "      <td>300</td>\n",
       "      <td>4.8</td>\n",
       "    </tr>\n",
       "    <tr>\n",
       "      <th>2</th>\n",
       "      <td>450</td>\n",
       "      <td>3.7</td>\n",
       "    </tr>\n",
       "    <tr>\n",
       "      <th>3</th>\n",
       "      <td>600</td>\n",
       "      <td>2.4</td>\n",
       "    </tr>\n",
       "    <tr>\n",
       "      <th>4</th>\n",
       "      <td>750</td>\n",
       "      <td>0.9</td>\n",
       "    </tr>\n",
       "    <tr>\n",
       "      <th>5</th>\n",
       "      <td>900</td>\n",
       "      <td>0.0</td>\n",
       "    </tr>\n",
       "  </tbody>\n",
       "</table>\n",
       "</div>"
      ],
      "text/plain": [
       "   acid  response\n",
       "0   150       5.9\n",
       "1   300       4.8\n",
       "2   450       3.7\n",
       "3   600       2.4\n",
       "4   750       0.9\n",
       "5   900       0.0"
      ]
     },
     "execution_count": 23,
     "metadata": {},
     "output_type": "execute_result"
    }
   ],
   "source": [
    "asc = pd.read_csv('data/ascorbic.csv', sep='\\t')\n",
    "asc"
   ]
  },
  {
   "cell_type": "markdown",
   "id": "broken-courtesy",
   "metadata": {},
   "source": [
    "\n",
    "<font size=\"3\">\n",
    "<b>Try it yourself:</b></font>"
   ]
  },
  {
   "cell_type": "code",
   "execution_count": null,
   "id": "guided-daniel",
   "metadata": {},
   "outputs": [],
   "source": []
  },
  {
   "cell_type": "markdown",
   "id": "greater-independence",
   "metadata": {},
   "source": [
    "Further reading: \n",
    "    \n",
    "   * <https://pandas.pydata.org/pandas-docs/stable/reference/api/pandas.DataFrame.corr.html>\n",
    "    \n",
    "   * <https://docs.scipy.org/doc/scipy/reference/generated/scipy.stats.pearsonr.html>\n",
    "    \n",
    "   * <https://docs.scipy.org/doc/scipy/reference/generated/scipy.stats.spearmanr.html>"
   ]
  }
 ],
 "metadata": {
  "kernelspec": {
   "display_name": "Python 3",
   "language": "python",
   "name": "python3"
  },
  "language_info": {
   "codemirror_mode": {
    "name": "ipython",
    "version": 3
   },
   "file_extension": ".py",
   "mimetype": "text/x-python",
   "name": "python",
   "nbconvert_exporter": "python",
   "pygments_lexer": "ipython3",
   "version": "3.8.5"
  }
 },
 "nbformat": 4,
 "nbformat_minor": 5
}
