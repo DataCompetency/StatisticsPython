{
 "cells": [
  {
   "cell_type": "markdown",
   "metadata": {},
   "source": [
    "# $\\chi^{2}$-Test\n",
    "\n",
    "## Assumptions\n",
    "\n",
    "The $\\chi^{2}$ -test is a nonparametric test suiting for e.g. dichotomous data. Dichotomous data are a kind of discrete data. For example, Mendel's yellow or green pea color, high or low pest infestation and jagged or round shaped leaves are dichotomous end points. \n",
    "\n",
    "### $\\chi^{2}$ Goodness-of-Fit Test\n",
    "\n",
    "The  $\\chi^{2}$ Goodness-Of-Fit Test compares a measured distribution with a known, theoretical distribution. The classical example is the comparison of an empirical phenotype ratio with a predicted phenotype ratio in genetics .\n",
    "Two-sided hypotheses:\n",
    "\n",
    "\n",
    "$$H_{0}: F_{0}(x) = F_{1}(x)$$\n",
    "$$H_{1}: F_{0}(x) \\neq F_{1}(x)$$\n",
    "\n",
    "### $\\chi^{2}$ Homogeneity Test\n",
    "\n",
    "The  $\\chi^{2}$ Homogeneity Test checks whether the procentual relation of two samples is different (e.g. \\texttt{infestation} and \\texttt{no infestation} for the treatments with and without insecticide).\n",
    "\n",
    "$$H_{0}: \\pi_{0}(x) = \\pi_{1}(x)$$\n",
    "$$H_{1}: \\pi_{0}(x) \\neq \\pi_{1}(x)$$\n",
    "\n",
    "Both tests might be calculated one-sided (but it's a special case, statistics software usually only contains the two-sided variant).\n",
    "\n",
    "## Implementation\n",
    "\n",
    "### $\\chi^{2}$ Goodness-of-Fit Test - <tt>scipy.stats.chisquare()</tt>\n",
    "\n",
    "The scipy module contains the function <tt>scipy.stats.chisquare()</tt>. It can be called with the following syntax for a goodness-of-fit test:\n",
    "\n",
    "    scipy.stats.chisquare(observed_values, f_exp=expected_values)\n",
    "   \n",
    "Both <tt>observed_values</tt> and <tt>expected_values</tt> should be 1-dimensional numpy arrays.\n",
    "\n",
    "### $\\chi^{2}$ Homogeneity Test for 2x2-Tables - <tt>scipy.stats.chi2_contingency()</tt>\n",
    "\n",
    "\n",
    "The scipy module contains the function <tt>scipy.stats.chi2_contingency()</tt>. It can be called with the following syntax for a 2x2 homogeneity test:\n",
    "\n",
    "    scipy.stats.chi2_contingency(data, correction = False)\n",
    "   \n",
    "where <tt>data</tt> should be 2x2 numpy array.\n",
    "\n",
    "<tt>correction</tt> states whether the Yates-correction shall be used (number of observations smaller than 20) or not. The default configuration (FALSE) calculates the original $\\chi^{2}$-test according to Pearson. \n",
    "\n",
    "## Example Snapdragon\n",
    "\n",
    "### Experiment\n",
    "\n",
    "A geneticist, investigating the Mendelian predictions for F2 generations observed the ratio of phenotypes shown in the following table for the F2 generation (Baur et al., 1931 cited according to Samuels and Wittmer, 2003, p. 392). \n",
    "\n",
    "| Red | Pink | White |\n",
    "|-----|------|-------|\n",
    "| 54  | 122  | 58    |\n",
    "\n",
    "Does the observed result differ from the expected ratio of 1:2:1 for a F2 generation in the intermediate Mendelian heredity ($\\alpha$-error 5\\%)?\n",
    "\n",
    "### Statistical Analysis\n",
    "\n",
    "$$H_{0}: F_{0}(x) = F_{1}(x)$$\n",
    "$$H_{1}: F_{0}(x) \\neq F_{1}(x)$$\n",
    "\n",
    "No appliance of the Yates-correction because there exist more than 20 observations. "
   ]
  },
  {
   "cell_type": "code",
   "execution_count": 7,
   "metadata": {},
   "outputs": [
    {
     "data": {
      "text/plain": [
       "Power_divergenceResult(statistic=0.5641025641025641, pvalue=0.754235004823114)"
      ]
     },
     "execution_count": 7,
     "metadata": {},
     "output_type": "execute_result"
    }
   ],
   "source": [
    "import scipy\n",
    "import scipy.stats as scs\n",
    "import numpy as np\n",
    "\n",
    "observed_values=np.array([54,122,58])\n",
    "counts = observed_values.sum()\n",
    "expected_values=np.array([counts/4*1, counts/4*2, counts/4*1]) # 1:2:1\n",
    "\n",
    "scs.chisquare(observed_values, f_exp=expected_values)"
   ]
  },
  {
   "cell_type": "markdown",
   "metadata": {},
   "source": [
    "<tt>statistic</tt> represents the test $chi^{2}$-statistic while <tt>pvalue</tt> gives the two-sided p-value.\n",
    "\n",
    "### Interpretation\n",
    "\n",
    "The observed ratio of phenotypes does not differ significantly from the Mendelian ratio for a F2 generation in the intermediate heredity. The $H_{0}$ hypothesis cannot be rejected. "
   ]
  },
  {
   "cell_type": "markdown",
   "metadata": {},
   "source": [
    "<font size=\"3\"><div class=\"alert alert-warning\"><b>Exercise 4.1:</b> <br> \n",
    "\"Researchers studied a mutant type of flax seed that they hoped would produce oil for use in margarine and shortening. The amount of palmitic acid in the flax seed was an important factor in this research; a related factor was whether the seed was brown or variegated. The seeds were classified into six combinations of palmitic acid and color, shown in the following table. According to a hypothesized genetic model, the six combinations should occur in a 3:6:3:1:2:1 ratio\" (Saedi and Rowland, 1997 cited according to Samuels and Wittmer, 2003, p. 395).\n",
    "\n",
    "\n",
    "| Color   | Acid level | No |\n",
    "|---------|------------|----|\n",
    "| brown   | low        | 15 |\n",
    "| brown   | medium     | 26 |\n",
    "| brown   | high       | 15 |\n",
    "| mottled | low        | 0  |\n",
    "| mottled | medium     | 8  |\n",
    "| mottled | high       | 8  |\n",
    "    \n",
    "    \n",
    "Does the observed distribution differ from the hypothesized model?\n",
    "</div>\n",
    "</font>\n",
    "\n",
    "<font size=\"3\">\n",
    "<b>Try it yourself:</b></font>"
   ]
  },
  {
   "cell_type": "code",
   "execution_count": null,
   "metadata": {},
   "outputs": [],
   "source": []
  },
  {
   "cell_type": "markdown",
   "metadata": {},
   "source": [
    "**Example Solution:**"
   ]
  },
  {
   "cell_type": "markdown",
   "metadata": {},
   "source": [
    "$\\chi^{2}$ Goodness-of-Fit Test according to Pearson (number of observations greater than 20)."
   ]
  },
  {
   "cell_type": "code",
   "execution_count": 2,
   "metadata": {},
   "outputs": [
    {
     "data": {
      "text/plain": [
       "Power_divergenceResult(statistic=7.703703703703703, pvalue=0.17333885897201057)"
      ]
     },
     "execution_count": 2,
     "metadata": {},
     "output_type": "execute_result"
    }
   ],
   "source": [
    "observed_values=np.array([15,26,15,0,8,8])\n",
    "counts = observed_values.sum()\n",
    "expected_values=np.array([counts/16*3, counts/16*6, counts/16*3, \n",
    "                          counts/16*1, counts/16*2, counts/16*1]) # 3:6:3:1:2:1\n",
    "\n",
    "scs.chisquare(observed_values, f_exp=expected_values)"
   ]
  },
  {
   "cell_type": "markdown",
   "metadata": {},
   "source": [
    "The observed distribution does not differ significantly from the expected distribution to a confidence level of 95\\%. H$_{0}$ is not rejected. "
   ]
  },
  {
   "cell_type": "markdown",
   "metadata": {},
   "source": [
    "## Example Barley\n",
    "\n",
    "### Experiment\n",
    "\n",
    "Researchers investigated the survival rate of barley seeds after a heat treatment. Sample A was used as untreated control group whereas Sample B was exposed to heat. All seeds were cut longitudinal and incubated in 0.1% 2,3,5-triphenyltetrazoliumchloride for half an hour. The breathing, living embryo reduces tetrazoliumchloride to the intensively red colored insoluble substance triphenyl formazan. Surviving seeds were counted according to color (see table below) (Bishop, 1980, p. 76).\n",
    "\n",
    "|   | Surviving | Dead |\n",
    "|---|-----------|------|\n",
    "| A | 64        | 16   |\n",
    "| B | 34        | 46   |\n",
    "\n",
    "### Statistical Analysis\n",
    "\n",
    "Does the heat treatment reduce the survival rate of barely seeds? $\\alpha$ = 1\\%.\n",
    "\n",
    "$$H_{0}: \\pi_{no heat}(x) \\leq \\pi_{heat}(x)$$\n",
    "\n",
    "$$H_{1}: \\pi_{no heat}(x) > \\pi_{heat}(x)$$\n",
    "\n",
    "Since the number of observations is adequate, no Yates correction is used. "
   ]
  },
  {
   "cell_type": "code",
   "execution_count": 10,
   "metadata": {},
   "outputs": [
    {
     "name": "stdout",
     "output_type": "stream",
     "text": [
      "Chi2: 23.69980250164582\n",
      "p-value: 1.1259409041392107e-06\n"
     ]
    }
   ],
   "source": [
    "barley = np.array([[64, 34], [16, 46]])\n",
    "chi2, p, df, input_data = scipy.stats.chi2_contingency(barley, correction = False)\n",
    "print(\"Chi2: \" + str(chi2))\n",
    "print(\"p-value: \" + str(p))"
   ]
  },
  {
   "cell_type": "markdown",
   "metadata": {},
   "source": [
    "<tt>scipy.stats.chi2_contingency()</tt> calculates the two-sided p-value as a matter of principle. Therefore, the p-value has to be divided by two or to be compared with a doubled $\\alpha$ for a one-sided comparison:   "
   ]
  },
  {
   "cell_type": "code",
   "execution_count": 4,
   "metadata": {},
   "outputs": [
    {
     "name": "stdout",
     "output_type": "stream",
     "text": [
      "One-sided p-value is: 5.629704520696054e-07\n"
     ]
    }
   ],
   "source": [
    "print(\"One-sided p-value is: \" + str(p/2))"
   ]
  },
  {
   "cell_type": "markdown",
   "metadata": {},
   "source": [
    "Yes, the heat treatment does reduce the survival rate of barley seeds significantly to a confidence level of 0.99."
   ]
  },
  {
   "cell_type": "markdown",
   "metadata": {},
   "source": [
    "<font size=\"3\"><div class=\"alert alert-warning\"><b>Exercise 4.2:</b> <br> \n",
    "Some species occur associated with each other in certain habitats. The reason might be that both are influenced by similar micro climates (e.g. shade plants usually appear together with other shade liking plants), soil conditions (e.g. chalk liking plants will be accompanied by other chalk liking plants), or that one species creates good living conditions for the other one (e.g. host-parasite relationships), or numerous other explanations. (...) A common method for the analysis of such relationships is setting squares in which the respective species are counted. The following table represents an exemplary dataset (Bishop, 1980, p. 111).\n",
    "    \n",
    "|            | Presence A | Absence A |\n",
    "|------------|------------|-----------|\n",
    "| Presence B | 25         | 75        |\n",
    "| Absence B  | 25         | 75        |\n",
    "\n",
    "Are those two species associated? $\\alpha$ = 10\\%.\n",
    "\n",
    "</div>\n",
    "</font>\n",
    "\n",
    "<font size=\"3\">\n",
    "<b>Try it yourself:</b></font>"
   ]
  },
  {
   "cell_type": "code",
   "execution_count": null,
   "metadata": {},
   "outputs": [],
   "source": []
  },
  {
   "cell_type": "markdown",
   "metadata": {},
   "source": [
    "**Example Solution:**"
   ]
  },
  {
   "cell_type": "markdown",
   "metadata": {},
   "source": [
    "$\\chi^{2}$ Homogeneity Test according to Pearson (number of observation greater than 20)."
   ]
  },
  {
   "cell_type": "code",
   "execution_count": 5,
   "metadata": {},
   "outputs": [
    {
     "name": "stdout",
     "output_type": "stream",
     "text": [
      "Chi2: 0.0\n",
      "p-value: 1.0\n"
     ]
    }
   ],
   "source": [
    "biotope = np.array([[25,75], [25, 75]])\n",
    "chi2, p, df, input_data = scipy.stats.chi2_contingency(biotope, correction = False)\n",
    "print(\"Chi2: \" + str(chi2))\n",
    "print(\"p-value: \" + str(p))"
   ]
  },
  {
   "cell_type": "markdown",
   "metadata": {},
   "source": [
    "H$_{0}$ is not rejected. No significant differences in the percentage distribution of species A dependent on species B could be detected. The species are unlikely to be associated (and we don't know the error to that statement)."
   ]
  },
  {
   "cell_type": "code",
   "execution_count": null,
   "metadata": {},
   "outputs": [],
   "source": []
  }
 ],
 "metadata": {
  "kernelspec": {
   "display_name": "Python 3",
   "language": "python",
   "name": "python3"
  },
  "language_info": {
   "codemirror_mode": {
    "name": "ipython",
    "version": 3
   },
   "file_extension": ".py",
   "mimetype": "text/x-python",
   "name": "python",
   "nbconvert_exporter": "python",
   "pygments_lexer": "ipython3",
   "version": "3.8.5"
  }
 },
 "nbformat": 4,
 "nbformat_minor": 5
}
