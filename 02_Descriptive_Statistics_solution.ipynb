{
 "cells": [
  {
   "cell_type": "markdown",
   "metadata": {},
   "source": [
    "# Descriptive Statistics\n",
    "\n",
    "Pandas includes many useful functions for summarizing your data. Remember to import Pandas before using:"
   ]
  },
  {
   "cell_type": "code",
   "execution_count": 1,
   "metadata": {},
   "outputs": [],
   "source": [
    "import pandas as pd"
   ]
  },
  {
   "cell_type": "markdown",
   "metadata": {},
   "source": [
    "Also, we will import the melon data set into this Notebook:"
   ]
  },
  {
   "cell_type": "code",
   "execution_count": 2,
   "metadata": {},
   "outputs": [
    {
     "data": {
      "text/html": [
       "<div>\n",
       "<style scoped>\n",
       "    .dataframe tbody tr th:only-of-type {\n",
       "        vertical-align: middle;\n",
       "    }\n",
       "\n",
       "    .dataframe tbody tr th {\n",
       "        vertical-align: top;\n",
       "    }\n",
       "\n",
       "    .dataframe thead th {\n",
       "        text-align: right;\n",
       "    }\n",
       "</style>\n",
       "<table border=\"1\" class=\"dataframe\">\n",
       "  <thead>\n",
       "    <tr style=\"text-align: right;\">\n",
       "      <th></th>\n",
       "      <th>variety</th>\n",
       "      <th>yield</th>\n",
       "    </tr>\n",
       "  </thead>\n",
       "  <tbody>\n",
       "    <tr>\n",
       "      <th>0</th>\n",
       "      <td>A</td>\n",
       "      <td>25.12</td>\n",
       "    </tr>\n",
       "    <tr>\n",
       "      <th>1</th>\n",
       "      <td>A</td>\n",
       "      <td>17.25</td>\n",
       "    </tr>\n",
       "    <tr>\n",
       "      <th>2</th>\n",
       "      <td>A</td>\n",
       "      <td>26.42</td>\n",
       "    </tr>\n",
       "    <tr>\n",
       "      <th>3</th>\n",
       "      <td>A</td>\n",
       "      <td>16.08</td>\n",
       "    </tr>\n",
       "    <tr>\n",
       "      <th>4</th>\n",
       "      <td>A</td>\n",
       "      <td>22.15</td>\n",
       "    </tr>\n",
       "  </tbody>\n",
       "</table>\n",
       "</div>"
      ],
      "text/plain": [
       "  variety  yield\n",
       "0       A  25.12\n",
       "1       A  17.25\n",
       "2       A  26.42\n",
       "3       A  16.08\n",
       "4       A  22.15"
      ]
     },
     "execution_count": 2,
     "metadata": {},
     "output_type": "execute_result"
    }
   ],
   "source": [
    "melon = pd.read_csv('data/melon.csv', sep='\\t')\n",
    "melon.head()"
   ]
  },
  {
   "cell_type": "markdown",
   "metadata": {},
   "source": [
    "Now, we can summarize numeric columns of the data frame (note how non-numeric columns are automatically ignored):"
   ]
  },
  {
   "cell_type": "code",
   "execution_count": 3,
   "metadata": {},
   "outputs": [
    {
     "name": "stdout",
     "output_type": "stream",
     "text": [
      "           yield\n",
      "count  24.000000\n",
      "mean   26.820417\n",
      "std     8.493297\n",
      "min    11.420000\n",
      "25%    21.187500\n",
      "50%    27.000000\n",
      "75%    32.285000\n",
      "max    43.320000\n"
     ]
    }
   ],
   "source": [
    "print(melon.describe())"
   ]
  },
  {
   "cell_type": "markdown",
   "metadata": {},
   "source": [
    "Next, we will compute group-wise descriptive statistics (the column variety is a grouping factor in the data frame). The Pandas data frame brings along *methods* that can be applied to the data frame. That's why you have to append the method to be performed to a data frame.\n",
    "\n",
    "Note: you can also apply the describe method to grouped columns (see Mean/Variance etc. below).\n",
    "\n",
    "## Mean"
   ]
  },
  {
   "cell_type": "code",
   "execution_count": 4,
   "metadata": {},
   "outputs": [
    {
     "name": "stdout",
     "output_type": "stream",
     "text": [
      "             yield\n",
      "variety           \n",
      "A        20.490000\n",
      "B        37.403333\n",
      "C        19.491667\n",
      "D        29.896667\n"
     ]
    }
   ],
   "source": [
    "print(melon.groupby(['variety']).mean())"
   ]
  },
  {
   "cell_type": "markdown",
   "metadata": {},
   "source": [
    "## Variance"
   ]
  },
  {
   "cell_type": "code",
   "execution_count": 5,
   "metadata": {},
   "outputs": [
    {
     "name": "stdout",
     "output_type": "stream",
     "text": [
      "             yield\n",
      "variety           \n",
      "A        22.037600\n",
      "B        15.606427\n",
      "C        30.914177\n",
      "D         4.972427\n"
     ]
    }
   ],
   "source": [
    "print(melon.groupby(['variety']).var())"
   ]
  },
  {
   "cell_type": "markdown",
   "metadata": {},
   "source": [
    "## Standard Deviation"
   ]
  },
  {
   "cell_type": "code",
   "execution_count": 6,
   "metadata": {},
   "outputs": [
    {
     "name": "stdout",
     "output_type": "stream",
     "text": [
      "            yield\n",
      "variety          \n",
      "A        4.694422\n",
      "B        3.950497\n",
      "C        5.560052\n",
      "D        2.229894\n"
     ]
    }
   ],
   "source": [
    "print(melon.groupby(['variety']).std())"
   ]
  },
  {
   "cell_type": "markdown",
   "metadata": {},
   "source": [
    "## Median"
   ]
  },
  {
   "cell_type": "code",
   "execution_count": 7,
   "metadata": {},
   "outputs": [
    {
     "name": "stdout",
     "output_type": "stream",
     "text": [
      "          yield\n",
      "variety        \n",
      "A        19.700\n",
      "B        36.810\n",
      "C        20.450\n",
      "D        29.435\n"
     ]
    }
   ],
   "source": [
    "print(melon.groupby(['variety']).median())"
   ]
  },
  {
   "cell_type": "markdown",
   "metadata": {},
   "source": [
    "## Minimum"
   ]
  },
  {
   "cell_type": "code",
   "execution_count": 8,
   "metadata": {},
   "outputs": [
    {
     "name": "stdout",
     "output_type": "stream",
     "text": [
      "         yield\n",
      "variety       \n",
      "A        15.92\n",
      "B        31.98\n",
      "C        11.42\n",
      "D        27.58\n"
     ]
    }
   ],
   "source": [
    "print(melon.groupby(['variety']).min())"
   ]
  },
  {
   "cell_type": "markdown",
   "metadata": {},
   "source": [
    "## Maximum"
   ]
  },
  {
   "cell_type": "code",
   "execution_count": 9,
   "metadata": {},
   "outputs": [
    {
     "name": "stdout",
     "output_type": "stream",
     "text": [
      "         yield\n",
      "variety       \n",
      "A        26.42\n",
      "B        43.32\n",
      "C        25.90\n",
      "D        33.20\n"
     ]
    }
   ],
   "source": [
    "print(melon.groupby(['variety']).max())"
   ]
  },
  {
   "cell_type": "markdown",
   "metadata": {},
   "source": [
    "## Quantiles"
   ]
  },
  {
   "cell_type": "code",
   "execution_count": 10,
   "metadata": {},
   "outputs": [
    {
     "name": "stdout",
     "output_type": "stream",
     "text": [
      "                yield\n",
      "variety              \n",
      "A       0.25  16.3725\n",
      "        0.75  24.3775\n",
      "B       0.25  35.5675\n",
      "        0.75  39.4625\n",
      "C       0.25  15.8625\n",
      "        0.75  23.4100\n",
      "D       0.25  28.1750\n",
      "        0.75  31.3400\n"
     ]
    }
   ],
   "source": [
    "print(melon.groupby(['variety']).quantile([0.25, 0.75]))"
   ]
  },
  {
   "cell_type": "markdown",
   "metadata": {},
   "source": [
    "<font size=\"3\"><div class=\"alert alert-warning\"><b>Exercise 2.1:</b> <br> \n",
    "\n",
    "Plant growth is influenced by the microbial activity in the soil. Soil respiration is an indicator for this activity. Soil samples from two characteristic areas in the forest (gap = \"clearing and growth\" and growth = \"dense tree population\") have been analyzed regarding their carbon dioxide output in an experiment. The amount of excreted CO2 has been measured in mol CO2 g^{-1} soil hr^{-1} (Fierer, 1994, cited according to Samuels and Wittmer, 2003, p. 289).\n",
    "\n",
    "The first code cell below creates the data as a data frame.\n",
    "    \n",
    "Compute the descriptive statistics for both groups using the <tt>describe()</tt> method.\n",
    "\n",
    "Note: the code example to create the data set may turn out to be useful for you if you ever need to create your own dataframe in Python, directly.    \n",
    "</div>\n",
    "</font>"
   ]
  },
  {
   "cell_type": "code",
   "execution_count": 11,
   "metadata": {},
   "outputs": [],
   "source": [
    "import numpy as np\n",
    "import itertools\n",
    "\n",
    "lst = [\"growth\"]\n",
    "lst2 = [\"gap\"]\n",
    "soil_dict = {\"treatment\" : list(itertools.chain.from_iterable(itertools.repeat(x, 8) for x in lst)) \n",
    "             + list(itertools.chain.from_iterable(itertools.repeat(x, 7) for x in lst2)),\n",
    "             \"response\" :[17,20,170,315,22,190,64,22,29,13,16,15,18,14,6]}\n",
    "\n",
    "import pandas as pd\n",
    "\n",
    "soil_pd = pd.DataFrame(data=soil_dict)\n",
    "soil_pd\n",
    "soil_pd.to_csv(r'data/soil_respiration.csv', index = False, sep = \"\\t\", header = True)"
   ]
  },
  {
   "cell_type": "markdown",
   "metadata": {},
   "source": [
    "<font size=\"3\">\n",
    "<b>Try it yourself:</b></font>"
   ]
  },
  {
   "cell_type": "code",
   "execution_count": null,
   "metadata": {},
   "outputs": [],
   "source": []
  },
  {
   "cell_type": "markdown",
   "metadata": {},
   "source": [
    "**Example Solution**"
   ]
  },
  {
   "cell_type": "code",
   "execution_count": 12,
   "metadata": {},
   "outputs": [
    {
     "name": "stdout",
     "output_type": "stream",
     "text": [
      "          response                                                        \n",
      "             count        mean         std   min   25%   50%    75%    max\n",
      "treatment                                                                 \n",
      "gap            7.0   15.857143    6.914443   6.0  13.5  15.0   17.0   29.0\n",
      "growth         8.0  102.500000  110.794533  17.0  21.5  43.0  175.0  315.0\n"
     ]
    }
   ],
   "source": [
    "print(soil_pd.groupby(['treatment']).describe())"
   ]
  },
  {
   "cell_type": "markdown",
   "metadata": {},
   "source": [
    "Further reading: \n",
    "   * <https://pandas.pydata.org/pandas-docs/stable/reference/api/pandas.DataFrame.describe.html>\n",
    "   * <https://pandas.pydata.org/pandas-docs/stable/reference/api/pandas.DataFrame.groupby.html>."
   ]
  },
  {
   "cell_type": "code",
   "execution_count": null,
   "metadata": {},
   "outputs": [],
   "source": []
  }
 ],
 "metadata": {
  "kernelspec": {
   "display_name": "Python 3",
   "language": "python",
   "name": "python3"
  },
  "language_info": {
   "codemirror_mode": {
    "name": "ipython",
    "version": 3
   },
   "file_extension": ".py",
   "mimetype": "text/x-python",
   "name": "python",
   "nbconvert_exporter": "python",
   "pygments_lexer": "ipython3",
   "version": "3.8.5"
  }
 },
 "nbformat": 4,
 "nbformat_minor": 5
}
